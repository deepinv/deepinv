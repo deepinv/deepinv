{
  "cells": [
    {
      "cell_type": "code",
      "execution_count": null,
      "metadata": {
        "collapsed": false
      },
      "outputs": [],
      "source": [
        "# \ud83d\ude80 To get started, install DeepInverse by creating a new cell and running `%pip install deepinv`"
      ]
    },
    {
      "cell_type": "markdown",
      "metadata": {},
      "source": [
        "\n# Plug-and-Play algorithm with Mirror Descent for Poisson noise inverse problems.\n\nThis is a simple example to show how to use a mirror descent algorithm for solving an inverse problem with Poisson noise.\nSee :footcite:t:`hurault2023convergent` for more details.\n\nThe Mirror descent with RED denoiser writes\n\n\\begin{align}x_{k+1} = \\nabla \\phi ( \\nabla \\phi^*(x_k) - \\tau \\nabla \\distance{A(x_k)}{y} - \\tau ( x_k - D_\\sigma(x)))\\end{align}\n\nwhere $\\phi$ is a convex Bergman potential, $\\distance{A(x)}{y}$ is the data fidelity term and $D_\\sigma(x)$ is a denoiser.\n\nIn this example, we use the DnCNN denoiser :footcite:t:`zhang2017beyond`. As the observation has been corrupted with Poisson noise, we use the :class:`deepinv.optim.PoissonLikelihood` data-fidelity term.\nIn :footcite:t:`Bolte2016descent`, it is shown that, with this data-fidelity term, the right Bregman potential to use is Burg's entropy :class:`deepinv.optim.bregman.BurgEntropy`.\n"
      ]
    },
    {
      "cell_type": "code",
      "execution_count": null,
      "metadata": {
        "collapsed": false
      },
      "outputs": [],
      "source": [
        "import deepinv as dinv\nfrom pathlib import Path\nimport torch\nfrom deepinv.optim.data_fidelity import PoissonLikelihood\nfrom deepinv.optim.prior import RED\nfrom deepinv.optim import optim_builder\nfrom deepinv.optim.bregman import BurgEntropy\nfrom deepinv.utils import load_example\nfrom deepinv.utils.plotting import plot, plot_curves"
      ]
    },
    {
      "cell_type": "markdown",
      "metadata": {},
      "source": [
        "## Setup paths for data loading and results.\n\n\n"
      ]
    },
    {
      "cell_type": "code",
      "execution_count": null,
      "metadata": {
        "collapsed": false
      },
      "outputs": [],
      "source": [
        "BASE_DIR = Path(\".\")\nORIGINAL_DATA_DIR = BASE_DIR / \"datasets\"\nDATA_DIR = BASE_DIR / \"measurements\"\nRESULTS_DIR = BASE_DIR / \"results\"\nCKPT_DIR = BASE_DIR / \"ckpts\"\n\n# Set the global random seed from pytorch to ensure reproducibility of the example.\ntorch.manual_seed(0)\n\nimg_size = 64\ndevice = dinv.utils.get_freer_gpu() if torch.cuda.is_available() else \"cpu\"\nx_true = load_example(\"butterfly.png\", img_size=img_size).to(device)\nx = x_true.clone()\n\n\nn_channels = 3  # 3 for color images, 1 for gray-scale images\noperation = \"deblurring\"\n\n# Degradation parameters\nnoise_level_img = 1 / 40  # Poisson Noise gain\n\n# Generate the gaussian blur operator with Poisson noise.\nphysics = dinv.physics.BlurFFT(\n    img_size=(n_channels, img_size, img_size),\n    filter=dinv.physics.blur.gaussian_blur(),\n    device=device,\n    noise_model=dinv.physics.PoissonNoise(gain=noise_level_img),\n)"
      ]
    },
    {
      "cell_type": "markdown",
      "metadata": {},
      "source": [
        "## Define the PnP algorithm.\nThe chosen algorithm is here MD (Mirror Descent).\n\n"
      ]
    },
    {
      "cell_type": "code",
      "execution_count": null,
      "metadata": {
        "collapsed": false
      },
      "outputs": [],
      "source": [
        "# Select the data fidelity term, here Poisson likelihood due to the use of Poisson noise in the forward operator.\ndata_fidelity = PoissonLikelihood(gain=noise_level_img)\n\n# Set up the denoising prior. Note that we use a Gaussian noise denoiser, even if the observation noise is Poisson.\nprior = RED(denoiser=dinv.models.DnCNN(depth=20, pretrained=\"download\").to(device))\n\n# Set up the optimization parameters\nmax_iter = 200  # number of iterations\nstepsize = 1.0  # stepsize of the algorithm\nsigma_denoiser = 0.05  # noise level parameter of the Gaussian denoiser\nparams_algo = {  # wrap all the restoration parameters in a 'params_algo' dictionary. In particular, this is here that we define the bregman potential used in the mirror descent algorithm.\n    \"stepsize\": stepsize,\n    \"g_param\": sigma_denoiser,\n}\n\n# Logging parameters\nverbose = True\n\n# Define the unfolded trainable model.\nmodel = optim_builder(\n    iteration=\"MD\",\n    prior=prior,\n    data_fidelity=data_fidelity,\n    early_stop=True,\n    max_iter=max_iter,\n    verbose=verbose,\n    params_algo=params_algo,\n    bregman_potential=BurgEntropy(),\n)"
      ]
    },
    {
      "cell_type": "markdown",
      "metadata": {},
      "source": [
        "## Evaluate the model on the problem and plot the results.\n\nThe model returns the output and the metrics computed along the iterations.\nFor computing PSNR, the ground truth image ``x_gt`` must be provided.\n\n"
      ]
    },
    {
      "cell_type": "code",
      "execution_count": null,
      "metadata": {
        "collapsed": false
      },
      "outputs": [],
      "source": [
        "y = physics(x)\nx_lin = physics.A_adjoint(y)\n\n# run the model on the problem.\nwith torch.no_grad():\n    x_model, metrics = model(\n        y, physics, x_gt=x, compute_metrics=True\n    )  # reconstruction with PnP algorithm\n\n# compute PSNR\nprint(f\"Linear reconstruction PSNR: {dinv.metric.PSNR()(x, x_lin).item():.2f} dB\")\nprint(f\"PnP reconstruction PSNR: {dinv.metric.PSNR()(x, x_model).item():.2f} dB\")\n\n# plot images. Images are saved in RESULTS_DIR.\nimgs = [y, x, x_lin, x_model]\nplot(\n    imgs,\n    titles=[\"Input\", \"GT\", \"Linear\", \"Recons.\"],\n    save_dir=RESULTS_DIR / \"images\",\n    show=True,\n)\n\n# plot convergence curves. Metrics are saved in RESULTS_DIR.\nplot_curves(metrics, save_dir=RESULTS_DIR / \"curves\", show=True)"
      ]
    },
    {
      "cell_type": "markdown",
      "metadata": {},
      "source": [
        ":References:\n\n.. footbibliography::\n\n"
      ]
    }
  ],
  "metadata": {
    "kernelspec": {
      "display_name": "Python 3",
      "language": "python",
      "name": "python3"
    },
    "language_info": {
      "codemirror_mode": {
        "name": "ipython",
        "version": 3
      },
      "file_extension": ".py",
      "mimetype": "text/x-python",
      "name": "python",
      "nbconvert_exporter": "python",
      "pygments_lexer": "ipython3",
      "version": "3.12.12"
    }
  },
  "nbformat": 4,
  "nbformat_minor": 0
}