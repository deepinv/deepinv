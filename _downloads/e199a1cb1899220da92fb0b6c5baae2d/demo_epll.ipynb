{
  "cells": [
    {
      "cell_type": "code",
      "execution_count": null,
      "metadata": {
        "collapsed": false
      },
      "outputs": [],
      "source": [
        "# \ud83d\ude80 To get started, install DeepInverse by creating a new cell and running `%pip install deepinv`"
      ]
    },
    {
      "cell_type": "markdown",
      "metadata": {},
      "source": [
        "\n# Expected Patch Log Likelihood (EPLL) for Denoising and Inpainting\n\nIn this example we use the expected patch log likelihood (EPLL) prior :footcite:t:`zoran2011learning`.\nfor denoising and inpainting of natural images.\nTo this end, we consider the inverse problem $y = Ax+\\epsilon$, where $A$ is either the identity (for denoising)\nor a masking operator (for inpainting) and $\\epsilon\\sim\\mathcal{N}(0,\\sigma^2 I)$ is white Gaussian noise with standard deviation $\\sigma$.\n"
      ]
    },
    {
      "cell_type": "code",
      "execution_count": null,
      "metadata": {
        "collapsed": false
      },
      "outputs": [],
      "source": [
        "import torch\nfrom deepinv.optim import EPLL\nfrom deepinv.physics import GaussianNoise, Denoising, Inpainting\nfrom deepinv.loss.metric import PSNR\nfrom deepinv.utils import plot\nfrom deepinv.utils import load_example\n\ndevice = \"cuda\" if torch.cuda.is_available() else \"cpu\""
      ]
    },
    {
      "cell_type": "markdown",
      "metadata": {},
      "source": [
        "## Load test image and model\nAs default EPLL loads pretrained weights for the Gaussian mixture model which where estimted based\non 50 mio patches extracted from the BSDS500 dataset. An example how to estimate the parameters of GMM\nis included in the demo for limited-angle CT with patch priors.\n\n"
      ]
    },
    {
      "cell_type": "code",
      "execution_count": null,
      "metadata": {
        "collapsed": false
      },
      "outputs": [],
      "source": [
        "test_img = load_example(\"CBSD_0010.png\", grayscale=False).to(device)\npatch_size = 6\nmodel = EPLL(channels=test_img.shape[1], patch_size=patch_size, device=device)"
      ]
    },
    {
      "cell_type": "markdown",
      "metadata": {},
      "source": [
        "## Denoising\nIn this setting, the operator $A$ is the identity; we set the noise level to $\\sigma=25/255$.\nDefine noise model, operator and generate observation\n\n"
      ]
    },
    {
      "cell_type": "code",
      "execution_count": null,
      "metadata": {
        "collapsed": false
      },
      "outputs": [],
      "source": [
        "sigma = 0.1\nnoise_model = GaussianNoise(sigma)\nphysics = Denoising(noise_model=noise_model)\nobservation = physics(test_img)"
      ]
    },
    {
      "cell_type": "markdown",
      "metadata": {},
      "source": [
        "We use the default choice of the betas in the half quadratic splitting given by\n$\\beta \\in \\sigma^{-2} \\{1,4,8,16,32\\}$.\nGenerally, the betas are hyperparameters, which have to be chosen for each inverse problem separately.\n\n\n"
      ]
    },
    {
      "cell_type": "code",
      "execution_count": null,
      "metadata": {
        "collapsed": false
      },
      "outputs": [],
      "source": [
        "# Reconstruction\nwith torch.no_grad():\n    x_out = model(observation, physics, batch_size=5000)\n\n# PSNR computation and plots.\npsnr_obs = PSNR()(observation, test_img).item()\npsnr_recon = PSNR()(x_out, test_img).item()\n\nprint(\"PSNRs for Denoising:\")\nprint(\"Observation: {0:.2f}\".format(psnr_obs))\nprint(\"EPLL: {0:.2f}\".format(psnr_recon))\n\nplot(\n    [test_img, observation.clip(0, 1), x_out.clip(0, 1)],\n    [\"Ground truth\", \"Observation\", \"EPLL\"],\n)"
      ]
    },
    {
      "cell_type": "markdown",
      "metadata": {},
      "source": [
        "## Inpainting\nWe now turn to a noisy inpainting problem, where the operator $A$ is a masking operator.\nDefine noise model, operator and generate observation\n\n"
      ]
    },
    {
      "cell_type": "code",
      "execution_count": null,
      "metadata": {
        "collapsed": false
      },
      "outputs": [],
      "source": [
        "sigma = 0.01\nphysics = Inpainting(\n    img_size=test_img[0].shape,\n    mask=0.7,\n    device=device,\n    noise_model=GaussianNoise(sigma),\n)\nobservation = physics(test_img)"
      ]
    },
    {
      "cell_type": "markdown",
      "metadata": {},
      "source": [
        "Here, we need a different choice of beta. To this end, we extended the default choice\nby two values and optimized a constant factor via grid search.\n\n"
      ]
    },
    {
      "cell_type": "code",
      "execution_count": null,
      "metadata": {
        "collapsed": false
      },
      "outputs": [],
      "source": [
        "betas = [1.0, 5.0, 10.0, 40.0, 80.0, 160.0, 320.0]\n\n# Reconstruction\nwith torch.no_grad():\n    x_out = model(observation, physics, betas=betas, batch_size=5000)\n\n# PSNR computation and plots\npsnr_obs = PSNR()(observation, test_img).item()\npsnr_recon = PSNR()(x_out, test_img).item()\n\nprint(\"PSNRs for Inpainting:\")\nprint(\"Observation: {0:.2f}\".format(psnr_obs))\nprint(\"EPLL: {0:.2f}\".format(psnr_recon))\n\nplot(\n    [test_img, observation.clip(0, 1), x_out.clip(0, 1)],\n    [\"Ground truth\", \"Observation\", \"EPLL\"],\n)"
      ]
    },
    {
      "cell_type": "markdown",
      "metadata": {},
      "source": [
        ":References:\n\n.. footbibliography::\n\n"
      ]
    }
  ],
  "metadata": {
    "kernelspec": {
      "display_name": "Python 3",
      "language": "python",
      "name": "python3"
    },
    "language_info": {
      "codemirror_mode": {
        "name": "ipython",
        "version": 3
      },
      "file_extension": ".py",
      "mimetype": "text/x-python",
      "name": "python",
      "nbconvert_exporter": "python",
      "pygments_lexer": "ipython3",
      "version": "3.12.12"
    }
  },
  "nbformat": 4,
  "nbformat_minor": 0
}