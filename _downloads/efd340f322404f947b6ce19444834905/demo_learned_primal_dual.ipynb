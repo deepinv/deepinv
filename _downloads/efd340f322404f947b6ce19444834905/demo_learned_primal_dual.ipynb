{
  "cells": [
    {
      "cell_type": "code",
      "execution_count": null,
      "metadata": {
        "collapsed": false
      },
      "outputs": [],
      "source": [
        "# \ud83d\ude80 To get started, install DeepInverse by creating a new cell and running `%pip install deepinv`"
      ]
    },
    {
      "cell_type": "markdown",
      "metadata": {},
      "source": [
        "\n# Learned Primal-Dual algorithm for CT scan.\nImplementation of the Unfolded Primal-Dual algorithm from :footcite:t:`adler2018learned`.\n\nwhere both the data fidelity and the prior are learned modules, distinct for each iterations.\n\nThe algorithm is used for CT reconstruction trained on random phantoms.\nThe phantoms are generated on the fly during training using the odl library (https://odlgroup.github.io/odl/).\n"
      ]
    },
    {
      "cell_type": "code",
      "execution_count": null,
      "metadata": {
        "collapsed": false
      },
      "outputs": [],
      "source": [
        "import deepinv as dinv\nfrom pathlib import Path\nimport torch\nfrom torch.utils.data import DataLoader\nfrom deepinv.unfolded import unfolded_builder\nfrom deepinv.utils.phantoms import RandomPhantomDataset, SheppLoganDataset\nfrom deepinv.optim.optim_iterators import CPIteration, fStep, gStep\nfrom deepinv.models import PDNet_PrimalBlock, PDNet_DualBlock\nfrom deepinv.optim import Prior, DataFidelity"
      ]
    },
    {
      "cell_type": "markdown",
      "metadata": {},
      "source": [
        "## Setup paths for data loading and results.\n\n\n"
      ]
    },
    {
      "cell_type": "code",
      "execution_count": null,
      "metadata": {
        "collapsed": false
      },
      "outputs": [],
      "source": [
        "BASE_DIR = Path(\".\")\nDATA_DIR = BASE_DIR / \"measurements\"\nRESULTS_DIR = BASE_DIR / \"results\"\nCKPT_DIR = BASE_DIR / \"ckpts\"\n\n# Set the global random seed from pytorch to ensure reproducibility of the example.\ntorch.manual_seed(0)\n\ndevice = dinv.utils.get_freer_gpu() if torch.cuda.is_available() else \"cpu\""
      ]
    },
    {
      "cell_type": "markdown",
      "metadata": {},
      "source": [
        "## Load degradation operator.\nWe consider the CT operator.\n\n"
      ]
    },
    {
      "cell_type": "code",
      "execution_count": null,
      "metadata": {
        "collapsed": false
      },
      "outputs": [],
      "source": [
        "img_size = 128 if torch.cuda.is_available() else 32\nn_channels = 1  # 3 for color images, 1 for gray-scale images\noperation = \"CT\"\n\n# Degradation parameters\nnoise_level_img = 0.05\n\n# Generate the CT operator.\nphysics = dinv.physics.Tomography(\n    img_width=img_size,\n    angles=30,\n    circle=False,\n    device=device,\n    noise_model=dinv.physics.GaussianNoise(sigma=noise_level_img),\n)"
      ]
    },
    {
      "cell_type": "markdown",
      "metadata": {},
      "source": [
        "## Define a custom iterator for the PDNet learned primal-dual algorithm.\nThe iterator is a subclass of the Chambolle-Pock iterator :class:`deepinv.optim.optim_iterators.CPIteration`.\nIn PDNet, the primal (gStep) and dual (fStep) updates are directly replaced by neural networks.\nWe thus redefine the fStep and gStep classes as simple proximal operators of the data fidelity and prior, respectively.\nAfterwards, both the data fidelity and the prior proximal operators are defined as trainable models.\n\n"
      ]
    },
    {
      "cell_type": "code",
      "execution_count": null,
      "metadata": {
        "collapsed": false
      },
      "outputs": [],
      "source": [
        "class PDNetIteration(CPIteration):\n    r\"\"\"Single iteration of learned primal dual.\n    We only redefine the fStep and gStep classes.\n    The forward method is inherited from the CPIteration class.\n    \"\"\"\n\n    def __init__(self, **kwargs):\n        super().__init__(**kwargs)\n        self.g_step = gStepPDNet(**kwargs)\n        self.f_step = fStepPDNet(**kwargs)\n\n\nclass fStepPDNet(fStep):\n    r\"\"\"\n    Dual update of the PDNet algorithm.\n    We write it as a proximal operator of the data fidelity term.\n    This proximal mapping is to be replaced by a trainable model.\n    \"\"\"\n\n    def __init__(self, **kwargs):\n        super().__init__(**kwargs)\n\n    def forward(self, x, w, cur_data_fidelity, y, *args):\n        r\"\"\"\n        :param torch.Tensor x: Current first variable :math:`u`.\n        :param torch.Tensor w: Current second variable :math:`A z`.\n        :param deepinv.optim.data_fidelity cur_data_fidelity: Instance of the DataFidelity class defining the current data fidelity term.\n        :param torch.Tensor y: Input data.\n        \"\"\"\n        return cur_data_fidelity.prox(x, w, y)\n\n\nclass gStepPDNet(gStep):\n    r\"\"\"\n    Primal update of the PDNet algorithm.\n    We write it as a proximal operator of the prior term.\n    This proximal mapping is to be replaced by a trainable model.\n    \"\"\"\n\n    def __init__(self, **kwargs):\n        super().__init__(**kwargs)\n\n    def forward(self, x, w, cur_prior, *args):\n        r\"\"\"\n        :param torch.Tensor x: Current first variable :math:`x`.\n        :param torch.Tensor w: Current second variable :math:`A^\\top u`.\n        :param deepinv.optim.prior cur_prior: Instance of the Prior class defining the current prior.\n        \"\"\"\n        return cur_prior.prox(x, w)"
      ]
    },
    {
      "cell_type": "markdown",
      "metadata": {},
      "source": [
        "## Define the trainable prior and data fidelity terms.\nPrior and data-fidelity are respectively defined as subclass of :class:`deepinv.optim.Prior` and :class:`deepinv.optim.DataFidelity`.\nTheir proximal operators are replaced by trainable models.\n\n"
      ]
    },
    {
      "cell_type": "code",
      "execution_count": null,
      "metadata": {
        "collapsed": false
      },
      "outputs": [],
      "source": [
        "class PDNetPrior(Prior):\n    def __init__(self, model, *args, **kwargs):\n        super().__init__(*args, **kwargs)\n        self.model = model\n\n    def prox(self, x, w):\n        return self.model(x, w[:, 0:1, :, :])\n\n\nclass PDNetDataFid(DataFidelity):\n    def __init__(self, model, *args, **kwargs):\n        super().__init__(*args, **kwargs)\n        self.model = model\n\n    def prox(self, x, w, y):\n        return self.model(x, w[:, 1:2, :, :], y)\n\n\n# Unrolled optimization algorithm parameters\nmax_iter = 10 if torch.cuda.is_available() else 3  # number of unfolded layers\n\n# Set up the data fidelity term. Each layer has its own data fidelity module.\ndata_fidelity = [\n    PDNetDataFid(model=PDNet_DualBlock().to(device)) for i in range(max_iter)\n]\n\n# Set up the trainable prior. Each layer has its own prior module.\nprior = [PDNetPrior(model=PDNet_PrimalBlock().to(device)) for i in range(max_iter)]\n\n# Logging parameters\nverbose = True"
      ]
    },
    {
      "cell_type": "markdown",
      "metadata": {},
      "source": [
        "## Define the training parameters.\nWe use the Adam optimizer and the StepLR scheduler.\n\n"
      ]
    },
    {
      "cell_type": "code",
      "execution_count": null,
      "metadata": {
        "collapsed": false
      },
      "outputs": [],
      "source": [
        "# training parameters\nepochs = 10\nlearning_rate = 1e-3\nnum_workers = 4 if torch.cuda.is_available() else 0\ntrain_batch_size = 5\ntest_batch_size = 1\nn_iter_training = int(1e4) if torch.cuda.is_available() else 100\nn_data = 1  # number of channels in the input\nn_primal = 5  # extend the primal space\nn_dual = 5  # extend the dual space"
      ]
    },
    {
      "cell_type": "markdown",
      "metadata": {},
      "source": [
        "## Define the model.\n\n"
      ]
    },
    {
      "cell_type": "code",
      "execution_count": null,
      "metadata": {
        "collapsed": false
      },
      "outputs": [],
      "source": [
        "def custom_init(y, physics):\n    x0 = physics.A_dagger(y).repeat(1, n_primal, 1, 1)\n    u0 = torch.zeros_like(y).repeat(1, n_dual, 1, 1)\n    return {\"est\": (x0, x0, u0)}\n\n\ndef custom_output(X):\n    return X[\"est\"][0][:, 1, :, :].unsqueeze(1)"
      ]
    },
    {
      "cell_type": "markdown",
      "metadata": {},
      "source": [
        "## Define the unfolded trainable model.\nThe original paper of the learned primal dual algorithm the authors used the adjoint operator\nin the primal update. However, the same authors (among others) find in the paper\n\nA. Hauptmann, J. Adler, S. Arridge, O. \u00d6ktem,\nMulti-scale learned iterative reconstruction,\nIEEE Transactions on Computational Imaging 6, 843-856, 2020.\n\nthat using a filtered gradient can improve both the training speed and reconstruction quality significantly.\nFollowing this approach, we use the filtered backprojection instead of the adjoint operator in the primal step.\n\n"
      ]
    },
    {
      "cell_type": "code",
      "execution_count": null,
      "metadata": {
        "collapsed": false
      },
      "outputs": [],
      "source": [
        "model = unfolded_builder(\n    iteration=PDNetIteration(),\n    params_algo={\"K\": physics.A, \"K_adjoint\": physics.A_dagger, \"beta\": 0.0},\n    data_fidelity=data_fidelity,\n    prior=prior,\n    max_iter=max_iter,\n    custom_init=custom_init,\n    get_output=custom_output,\n)\n\n# choose optimizer and scheduler\noptimizer = torch.optim.Adam(model.parameters(), lr=learning_rate, betas=(0.9, 0.99))\nscheduler = torch.optim.lr_scheduler.CosineAnnealingLR(\n    optimizer=optimizer, T_max=epochs\n)\n\n# choose supervised training loss\nlosses = [dinv.loss.SupLoss(metric=dinv.metric.MSE())]"
      ]
    },
    {
      "cell_type": "markdown",
      "metadata": {},
      "source": [
        "## Training dataset of random phantoms.\n\n"
      ]
    },
    {
      "cell_type": "code",
      "execution_count": null,
      "metadata": {
        "collapsed": false
      },
      "outputs": [],
      "source": [
        "# Define the base train and test datasets of clean images.\ntrain_dataset_name = \"random_phantom\"\ntrain_dataset = RandomPhantomDataset(\n    size=img_size, n_data=1, length=n_iter_training // epochs\n)\ntest_dataset = SheppLoganDataset(size=img_size, n_data=1)\n\ntrain_dataloader = DataLoader(\n    train_dataset, batch_size=train_batch_size, num_workers=num_workers\n)\ntest_dataloader = DataLoader(\n    test_dataset, batch_size=test_batch_size, num_workers=num_workers\n)"
      ]
    },
    {
      "cell_type": "markdown",
      "metadata": {},
      "source": [
        "## Train the network\nWe train the network using the library's train function.\n\n"
      ]
    },
    {
      "cell_type": "code",
      "execution_count": null,
      "metadata": {
        "collapsed": false
      },
      "outputs": [],
      "source": [
        "method = \"learned primal-dual\"\nsave_folder = RESULTS_DIR / method / operation\nplot_images = True  # Images are saved in save_folder.\nplot_convergence_metrics = (\n    True  # compute performance and convergence metrics along the algorithm.\n)\n\n\ntrainer = dinv.Trainer(\n    model,\n    physics=physics,\n    losses=losses,\n    optimizer=optimizer,\n    epochs=epochs,\n    scheduler=scheduler,\n    train_dataloader=train_dataloader,\n    eval_dataloader=test_dataloader,\n    device=device,\n    plot_convergence_metrics=plot_convergence_metrics,\n    online_measurements=True,\n    save_path=str(CKPT_DIR / operation),\n    verbose=verbose,\n    show_progress_bar=False,  # disable progress bar for better vis in sphinx gallery.\n)\n\nmodel = trainer.train()"
      ]
    },
    {
      "cell_type": "markdown",
      "metadata": {},
      "source": [
        "## Test the network\n\n\n\n"
      ]
    },
    {
      "cell_type": "code",
      "execution_count": null,
      "metadata": {
        "collapsed": false
      },
      "outputs": [],
      "source": [
        "trainer.test(test_dataloader)"
      ]
    },
    {
      "cell_type": "markdown",
      "metadata": {},
      "source": [
        ":References:\n\n.. footbibliography::\n\n"
      ]
    }
  ],
  "metadata": {
    "kernelspec": {
      "display_name": "Python 3",
      "language": "python",
      "name": "python3"
    },
    "language_info": {
      "codemirror_mode": {
        "name": "ipython",
        "version": 3
      },
      "file_extension": ".py",
      "mimetype": "text/x-python",
      "name": "python",
      "nbconvert_exporter": "python",
      "pygments_lexer": "ipython3",
      "version": "3.12.12"
    }
  },
  "nbformat": 4,
  "nbformat_minor": 0
}