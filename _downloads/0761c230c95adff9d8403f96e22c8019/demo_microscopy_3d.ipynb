{
  "cells": [
    {
      "cell_type": "code",
      "execution_count": null,
      "metadata": {
        "collapsed": false
      },
      "outputs": [],
      "source": [
        "# \ud83d\ude80 To get started, install DeepInverse by creating a new cell and running `%pip install deepinv`"
      ]
    },
    {
      "cell_type": "markdown",
      "metadata": {},
      "source": [
        "\n# 3D diffraction PSF\n\nThis example provides a tour of 3D blur operators in the library.\nIn particular, we show how to use Diffraction Blurs (Fresnel diffraction) to simulate\nfluorescence microscopes.\n"
      ]
    },
    {
      "cell_type": "code",
      "execution_count": null,
      "metadata": {
        "collapsed": false
      },
      "outputs": [],
      "source": [
        "import torch\nimport deepinv as dinv\n\n# First, let's load some test images.\n\ndtype = torch.float32\ndevice = dinv.utils.get_freer_gpu() if torch.cuda.is_available() else \"cpu\"\n\n# Next, set the global random seed from pytorch to ensure reproducibility of the example.\ntorch.manual_seed(0)\ntorch.cuda.manual_seed(0)\n\nvolume_data = (\n    dinv.utils.load_np_url(\n        \"https://huggingface.co/datasets/deepinv/images/resolve/main/brainweb_t1_ICBM_1mm_subject_0.npy?download=true\"\n    )\n    .flip(0)\n    .unsqueeze(0)\n    .unsqueeze(0)\n)\n\nx = volume_data / volume_data.max()\nx = x.to(device)\nb, c, d, h, w = x.size()"
      ]
    },
    {
      "cell_type": "markdown",
      "metadata": {},
      "source": [
        "**We are now ready to explore how to generate 3D blur operators for different microscopes.**\n\n## 3D convolutions\n\nThe class :class:`deepinv.physics.Blur` implements convolution operations with kernels. It will\nautomatically work for 3D images when given 5D :class:`torch.Tensor` of size (B, C, D, H, W) for both\nthe image and filter. Under the hood, the 3D convolutions are implemented through FFT.\nFor instance, here is the convolution of a grayscale 3D image with a random grayscale filter:\n\n"
      ]
    },
    {
      "cell_type": "code",
      "execution_count": null,
      "metadata": {
        "collapsed": false
      },
      "outputs": [],
      "source": [
        "filter_0 = torch.rand(1, 1, 3, 11, 8, device=device)\nphysics = dinv.physics.Blur(filter_0, device=device, padding=\"circular\")\ny = physics(x)\n\ndinv.utils.plot_ortho3D(\n    [x, filter_0, y],\n    titles=[\"signal\", \"filter\", \"measurement\"],\n    suptitle=\"3D convolution\",\n    interpolation=\"nearest\",\n    figsize=(13, 5),\n    tight=False,\n    fontsize=24,\n)"
      ]
    },
    {
      "cell_type": "markdown",
      "metadata": {},
      "source": [
        "## Diffraction PSF generation\n\nAdvanced kernel generation methods are provided in the toolbox thanks to\nthe class :class:`deepinv.physics.generator.PSFGenerator`, that we used to construct\nPSF generators for different type of microscopes.\n\n"
      ]
    },
    {
      "cell_type": "markdown",
      "metadata": {},
      "source": [
        "### Widefield microscope PSF\nWe implemented 3D diffraction blurs obtained using scalar diffraction theory in\n:class:`deepinv.physics.generator.DiffractionBlurGenerator3D`.\nTherein, the psf is defined through the pupil plane expanded in Zernike polynomials\nand the wave is propagated in the axial direction using the Fresnel approximation\n\nLet's generate 3 different 3D diffraction blurs. First, we instantiate the generator:\n\n"
      ]
    },
    {
      "cell_type": "code",
      "execution_count": null,
      "metadata": {
        "collapsed": false
      },
      "outputs": [],
      "source": [
        "from deepinv.physics.generator import DiffractionBlurGenerator3D\n\npsf_size_XY = 51\npsf_size_Z = 35\npsf_size = (psf_size_Z, psf_size_XY, psf_size_XY)\n\n\ndiffraction_generator = DiffractionBlurGenerator3D(\n    (psf_size_Z, psf_size_XY, psf_size_XY),\n    fc=0.2,\n    kb=0.25,\n    stepz_pixel=2,\n    device=device,\n    dtype=dtype,\n)"
      ]
    },
    {
      "cell_type": "markdown",
      "metadata": {},
      "source": [
        "For optician physicists: ``fc`` is the cutoff frequency, which should be below 0.25\nto respect Shannon's sampling theorem,  ``kb`` is the wave number, used for propagation\nin depth. Letting ``NA`` denote the numerical aperture, ``NI`` denote the index\nof refraction of the immersion medium and lambda denote the emission wavelength,\nthe quantities are related through:\n`fc = (NA/lambda) * pixel_size`.\n`kb = (NI/lambda) * pixel_size`.\n\n"
      ]
    },
    {
      "cell_type": "markdown",
      "metadata": {},
      "source": [
        "To generate new filters, it suffices to call the step() function as follows:\n\n"
      ]
    },
    {
      "cell_type": "code",
      "execution_count": null,
      "metadata": {
        "collapsed": false
      },
      "outputs": [],
      "source": [
        "blurs = diffraction_generator.step(batch_size=3)"
      ]
    },
    {
      "cell_type": "markdown",
      "metadata": {},
      "source": [
        "In this case, the `step()` function returns a dictionary containing the filters,\ntheir pupil function and Zernike coefficients:\n\n"
      ]
    },
    {
      "cell_type": "code",
      "execution_count": null,
      "metadata": {
        "collapsed": false
      },
      "outputs": [],
      "source": [
        "print(blurs.keys())\n\ndinv.utils.plot_ortho3D(\n    [f[None] for f in blurs[\"filter\"]],\n    suptitle=\"Examples of randomly generated diffraction blurs\",\n)\n\ndinv.utils.plot(\n    [\n        f\n        for f in torch.angle(blurs[\"pupil\"][:, None])\n        * torch.abs(blurs[\"pupil\"][:, None])\n    ],\n    suptitle=\"Corresponding pupil planes\",\n)\nprint(\"Coefficients of the decomposition on Zernike polynomials\")\nprint(blurs[\"coeff\"])"
      ]
    },
    {
      "cell_type": "markdown",
      "metadata": {},
      "source": [
        "It is also possible to directly specify the Zernike decomposition.\nFor instance, if the pupil is null, the PSF is the Airy pattern.\n\n"
      ]
    },
    {
      "cell_type": "code",
      "execution_count": null,
      "metadata": {
        "collapsed": false
      },
      "outputs": [],
      "source": [
        "n_zernike = len(\n    diffraction_generator.list_param\n)  # number of Zernike coefficients in the decomposition\nblurs = diffraction_generator.step(\n    batch_size=3, coeff=torch.zeros(3, n_zernike, device=device)\n)\ndinv.utils.plot_ortho3D(\n    [f for f in blurs[\"filter\"][:, None]],\n    suptitle=\"Airy pattern\",\n)"
      ]
    },
    {
      "cell_type": "markdown",
      "metadata": {},
      "source": [
        "Finally, notice that you can activate the aberrations you want in the Noll\nnomenclature https://en.wikipedia.org/wiki/Zernike_polynomials#Noll's_sequential_indices\n\n"
      ]
    },
    {
      "cell_type": "code",
      "execution_count": null,
      "metadata": {
        "collapsed": false
      },
      "outputs": [],
      "source": [
        "diffraction_generator = DiffractionBlurGenerator3D(\n    (psf_size_Z, psf_size_XY, psf_size_XY),\n    fc=1 / 8,\n    kb=0.25,\n    stepz_pixel=2,\n    list_param=[\"Z5\", \"Z6\"],\n    device=device,\n    dtype=dtype,\n)\nblurs = diffraction_generator.step(batch_size=3)"
      ]
    },
    {
      "cell_type": "markdown",
      "metadata": {},
      "source": [
        "### Confocal microscope PSF\nWe implemented the PSF of a confocal microscope in :class:`deepinv.physics.generator.ConfocalBlurGenerator3D`.\nIn fluorescence confocal microscopy, the light emitted by the sample is filtered\nthrough a pinhole to prevent the collection  of out-of-focus light.\nThe confocal intensity PSF can be expressed as\n\n\\begin{align}{\\rm PSF}(r, z; \\lambda_{ill}, \\lambda_{coll}) = \\vert h_{ill}(r, z; \\lambda_{ill})\\vert^2~ \\left [ \\vert h_{coll}(r, z; \\lambda_{coll})\\vert^2 \\otimes_{2} D(r)\\right ],\\end{align}\n\nwhere $h(r, z)$ is the amplitude PSF and $D(r)$ is the detector intensity sensitivity distribution (here : one inside the confocal pinhole, 0 outside).\n`ill` coincides with illumination, while `coll` coincides with collection. $\\lambda$ coincides with the wavelength.\n\nSee :footcite:t:`gu1991three`.\n\n\n"
      ]
    },
    {
      "cell_type": "code",
      "execution_count": null,
      "metadata": {
        "collapsed": false
      },
      "outputs": [],
      "source": [
        "from deepinv.physics.generator import ConfocalBlurGenerator3D\n\nNI = 1.51  # refractive index of oil\nangAper = 55  ##angular aperture in degrees\nNA = NI * torch.sin(torch.deg2rad(torch.tensor([angAper]))).item()  # numerical aperture\nlambda_ill = 489e-9  # wavelength for GFP excitation in m\nlambda_coll = 395e-9  # wavelength for GFP emission in m\npixelsize_XY = 70e-9  # in m\npixelsize_Z = 140e-9  # in m\n\ngenerator = ConfocalBlurGenerator3D(\n    psf_size=psf_size,\n    NI=NI,\n    NA=NA,\n    lambda_ill=lambda_ill,\n    lambda_coll=lambda_coll,\n    pixelsize_XY=pixelsize_XY,\n    pixelsize_Z=pixelsize_Z,\n)\nblur_confocal = generator.step(batch_size=3)\npsf_confocal = blur_confocal[\"filter\"]\n\n\nblur_coll = generator.generator_coll.step(\n    batch_size=3, coeff=blur_confocal[\"coeff_coll\"]\n)\npsf_coll = blur_coll[\"filter\"]\n# plot generated PSFs\ndinv.utils.plot_ortho3D(\n    [psf[None] for psf in psf_coll],\n    suptitle=\"PSFs of Widefield microscope (collection only)\",\n)\n\ndinv.utils.plot_ortho3D(\n    [psf[None] for psf in psf_confocal],\n    suptitle=\"Corresponding PSFs of Confocal microscope\",\n)"
      ]
    },
    {
      "cell_type": "markdown",
      "metadata": {},
      "source": [
        ":References:\n\n.. footbibliography::\n\n"
      ]
    }
  ],
  "metadata": {
    "kernelspec": {
      "display_name": "Python 3",
      "language": "python",
      "name": "python3"
    },
    "language_info": {
      "codemirror_mode": {
        "name": "ipython",
        "version": 3
      },
      "file_extension": ".py",
      "mimetype": "text/x-python",
      "name": "python",
      "nbconvert_exporter": "python",
      "pygments_lexer": "ipython3",
      "version": "3.12.12"
    }
  },
  "nbformat": 4,
  "nbformat_minor": 0
}