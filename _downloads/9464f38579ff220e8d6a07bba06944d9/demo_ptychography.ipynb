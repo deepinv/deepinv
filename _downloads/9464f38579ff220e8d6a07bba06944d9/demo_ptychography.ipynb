{
  "cells": [
    {
      "cell_type": "code",
      "execution_count": null,
      "metadata": {
        "collapsed": false
      },
      "outputs": [],
      "source": [
        "# \ud83d\ude80 To get started, install DeepInverse by creating a new cell and running `%pip install deepinv`"
      ]
    },
    {
      "cell_type": "markdown",
      "metadata": {},
      "source": [
        "\n# Ptychography phase retrieval\n\nThis example shows how to create a Ptychography phase retrieval operator and generate phaseless measurements from a given image.\n"
      ]
    },
    {
      "cell_type": "markdown",
      "metadata": {},
      "source": [
        "## General setup\nImports the necessary libraries and modules, including ptychography phase retrieval function from `deepinv`.\nIt sets the device to GPU if available, otherwise uses the CPU.\n\n"
      ]
    },
    {
      "cell_type": "code",
      "execution_count": null,
      "metadata": {
        "collapsed": false
      },
      "outputs": [],
      "source": [
        "import matplotlib.pyplot as plt\nimport torch\nimport numpy as np\nimport deepinv as dinv\nfrom deepinv.utils import load_example\nfrom deepinv.utils.plotting import plot\nfrom deepinv.physics import Ptychography\nfrom deepinv.optim.data_fidelity import L1\nfrom deepinv.optim.phase_retrieval import correct_global_phase\n\ndevice = dinv.utils.get_freer_gpu() if torch.cuda.is_available() else \"cpu\""
      ]
    },
    {
      "cell_type": "markdown",
      "metadata": {},
      "source": [
        "## Load image from the internet\nLoads a sample image from a URL, resizes it to 128x128 pixels, and extracts only one color channel.\n\n"
      ]
    },
    {
      "cell_type": "code",
      "execution_count": null,
      "metadata": {
        "collapsed": false
      },
      "outputs": [],
      "source": [
        "size = 128\nimage = load_example(\"CBSD_0010.png\", grayscale=False, img_size=(size, size))\n\nx = image[:, 0, ...].unsqueeze(1)  # Take only one channel\nprint(x.shape)\nplot([x], figsize=(10, 10))"
      ]
    },
    {
      "cell_type": "markdown",
      "metadata": {},
      "source": [
        "## Prepare phase input\nWe use the original image as the phase information for the complex signal. The original value range is [0, 1], and we map it to the phase range [0, pi].\n\n"
      ]
    },
    {
      "cell_type": "code",
      "execution_count": null,
      "metadata": {
        "collapsed": false
      },
      "outputs": [],
      "source": [
        "phase = x / x.max() * np.pi  # between 0 and pi\ninput = torch.exp(1j * phase.to(torch.complex64)).to(device)"
      ]
    },
    {
      "cell_type": "markdown",
      "metadata": {},
      "source": [
        "## Set up ptychography physics model\nInitializes the ptychography physics model with parameters like the probe and shifts.\nThis model will be used to simulate ptychography measurements.\n\n"
      ]
    },
    {
      "cell_type": "code",
      "execution_count": null,
      "metadata": {
        "collapsed": false
      },
      "outputs": [],
      "source": [
        "img_size = (1, size, size)\nn_img = 10**2\nprobe = dinv.physics.phase_retrieval.build_probe(\n    img_size, type=\"disk\", probe_radius=30, device=device\n)\nshifts = dinv.physics.phase_retrieval.generate_shifts(img_size, n_img=n_img, fov=170)\n\nphysics = Ptychography(\n    img_size=img_size,\n    probe=probe,\n    shifts=shifts,\n    device=device,\n)"
      ]
    },
    {
      "cell_type": "markdown",
      "metadata": {},
      "source": [
        "## Display probe overlap\nCalculates and displays the overlap of probe regions in the image, helping visualize the ptychography pattern.\n\n"
      ]
    },
    {
      "cell_type": "code",
      "execution_count": null,
      "metadata": {
        "collapsed": false
      },
      "outputs": [],
      "source": [
        "overlap_img = physics.B.get_overlap_img(physics.B.shifts).cpu()\noverlap2probe = physics.B.get_overlap_img(physics.B.shifts[55:57]).cpu()\nplot(\n    [overlap2probe.unsqueeze(0), overlap_img.unsqueeze(0)],\n    titles=[\"Overlap 2 probe\", \"Overlap images\"],\n)"
      ]
    },
    {
      "cell_type": "markdown",
      "metadata": {},
      "source": [
        "## Generate and visualize probe and measurements\nDisplays the ptychography probe and a sum of the generated measurement data.\n\n"
      ]
    },
    {
      "cell_type": "code",
      "execution_count": null,
      "metadata": {
        "collapsed": false
      },
      "outputs": [],
      "source": [
        "probe = physics.probe[:, 55].cpu()\ny = physics(input)\nplot(\n    [torch.abs(probe), y[0].sum(dim=0).log().unsqueeze(0)],\n    titles=[\"Probe\", \"y\"],\n)"
      ]
    },
    {
      "cell_type": "markdown",
      "metadata": {},
      "source": [
        "## Gradient descent for phase retrieval\nImplements a simple gradient descent algorithm to minimize the L1 data fidelity loss for phase retrieval.\n\n"
      ]
    },
    {
      "cell_type": "code",
      "execution_count": null,
      "metadata": {
        "collapsed": false
      },
      "outputs": [],
      "source": [
        "data_fidelity = L1()\nlr = 0.1\nn_iter = 200\nx_est = torch.randn_like(x).to(device)\nloss_hist = []\n\nfor i in range(n_iter):\n    x_est = x_est - lr * data_fidelity.grad(x_est, y, physics)\n    loss_hist.append(data_fidelity(x_est, y, physics).cpu())\n    if i % 10 == 0:\n        print(f\"Iter {i}, loss: {loss_hist[i]}\")\n\n# Plot the loss curve\nplt.plot(loss_hist)\nplt.title(\"loss curve (gradient descent with random initialization)\")\nplt.show()"
      ]
    },
    {
      "cell_type": "markdown",
      "metadata": {},
      "source": [
        "## Display final estimated phase retrieval\nCorrects the global phase of the estimated image to match the original phase and plots the result.\nThis final visualization shows the original image and the estimated phase after retrieval.\n\n"
      ]
    },
    {
      "cell_type": "code",
      "execution_count": null,
      "metadata": {
        "collapsed": false
      },
      "outputs": [],
      "source": [
        "x_est = x_est.detach().cpu()\nfinal_est = correct_global_phase(x_est, x)\nplot([x, torch.angle(final_est)], titles=[\"x\", \"Final estimate\"])"
      ]
    }
  ],
  "metadata": {
    "kernelspec": {
      "display_name": "Python 3",
      "language": "python",
      "name": "python3"
    },
    "language_info": {
      "codemirror_mode": {
        "name": "ipython",
        "version": 3
      },
      "file_extension": ".py",
      "mimetype": "text/x-python",
      "name": "python",
      "nbconvert_exporter": "python",
      "pygments_lexer": "ipython3",
      "version": "3.12.12"
    }
  },
  "nbformat": 4,
  "nbformat_minor": 0
}