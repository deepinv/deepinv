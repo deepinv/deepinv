{
  "cells": [
    {
      "cell_type": "code",
      "execution_count": null,
      "metadata": {
        "collapsed": false
      },
      "outputs": [],
      "source": [
        "# \ud83d\ude80 To get started, install DeepInverse by creating a new cell and running `%pip install deepinv`"
      ]
    },
    {
      "cell_type": "markdown",
      "metadata": {},
      "source": [
        "\n# Image reconstruction with a diffusion model\n\nThis code shows you how to use the DDRM diffusion algorithm :footcite:t:`kawar2022denoising` to reconstruct images and also compute the\nuncertainty of a reconstruction from incomplete and noisy measurements.\n\nThe DDRM method requires that:\n\n* The operator has a singular value decomposition (i.e., the operator is a :class:`deepinv.physics.DecomposablePhysics`).\n* The noise is Gaussian with known standard deviation (i.e., the noise model is :class:`deepinv.physics.GaussianNoise`).\n"
      ]
    },
    {
      "cell_type": "code",
      "execution_count": null,
      "metadata": {
        "collapsed": false
      },
      "outputs": [],
      "source": [
        "import deepinv as dinv\nfrom deepinv.utils.plotting import plot\nimport torch\nimport numpy as np\nfrom deepinv.utils import load_example"
      ]
    },
    {
      "cell_type": "markdown",
      "metadata": {},
      "source": [
        "## Load example image from the internet\n\nThis example uses an image of Messi.\n\n"
      ]
    },
    {
      "cell_type": "code",
      "execution_count": null,
      "metadata": {
        "collapsed": false
      },
      "outputs": [],
      "source": [
        "device = dinv.utils.get_freer_gpu() if torch.cuda.is_available() else \"cpu\"\n\nx = load_example(\"messi.jpg\", img_size=32).to(device)"
      ]
    },
    {
      "cell_type": "markdown",
      "metadata": {},
      "source": [
        "## Define forward operator and noise model\n\nWe use image inpainting as the forward operator and Gaussian noise as the noise model.\n\n"
      ]
    },
    {
      "cell_type": "code",
      "execution_count": null,
      "metadata": {
        "collapsed": false
      },
      "outputs": [],
      "source": [
        "sigma = 0.1  # noise level\nphysics = dinv.physics.Inpainting(\n    mask=0.5,\n    img_size=x.shape[1:],\n    device=device,\n    noise_model=dinv.physics.GaussianNoise(sigma=sigma),\n)"
      ]
    },
    {
      "cell_type": "markdown",
      "metadata": {},
      "source": [
        "## Define the MMSE denoiser\n\nThe diffusion method requires an MMSE denoiser that can be evaluated a various noise levels.\nHere we use a pretrained DRUNET denoiser from the `denoisers <denoisers>` module.\n\n"
      ]
    },
    {
      "cell_type": "code",
      "execution_count": null,
      "metadata": {
        "collapsed": false
      },
      "outputs": [],
      "source": [
        "denoiser = dinv.models.DRUNet(pretrained=\"download\").to(device)"
      ]
    },
    {
      "cell_type": "markdown",
      "metadata": {},
      "source": [
        "## Create the Monte Carlo sampler\n\nWe can now reconstruct a noisy measurement using the diffusion method.\nWe use the DDRM method from :class:`deepinv.sampling.DDRM`, which works with inverse problems that\nhave a closed form singular value decomposition of the forward operator.\nThe diffusion method requires a schedule of noise levels ``sigmas`` that are used to evaluate the denoiser.\n\n"
      ]
    },
    {
      "cell_type": "code",
      "execution_count": null,
      "metadata": {
        "collapsed": false
      },
      "outputs": [],
      "source": [
        "sigmas = np.linspace(1, 0, 100) if torch.cuda.is_available() else np.linspace(1, 0, 10)\n\ndiff = dinv.sampling.DDRM(denoiser=denoiser, etab=1.0, sigmas=sigmas, verbose=True)"
      ]
    },
    {
      "cell_type": "markdown",
      "metadata": {},
      "source": [
        "## Generate the measurement\nWe apply the forward model to generate the noisy measurement.\n\n"
      ]
    },
    {
      "cell_type": "code",
      "execution_count": null,
      "metadata": {
        "collapsed": false
      },
      "outputs": [],
      "source": [
        "y = physics(x)"
      ]
    },
    {
      "cell_type": "markdown",
      "metadata": {},
      "source": [
        "## Run the diffusion algorithm and plot results\nThe diffusion algorithm returns a sample from the posterior distribution.\nWe compare the posterior mean with a simple linear reconstruction.\n\n"
      ]
    },
    {
      "cell_type": "code",
      "execution_count": null,
      "metadata": {
        "collapsed": false
      },
      "outputs": [],
      "source": [
        "xhat = diff(y, physics)\n\n# compute linear inverse\nx_lin = physics.A_adjoint(y)\n\n# compute PSNR\nprint(f\"Linear reconstruction PSNR: {dinv.metric.PSNR()(x, x_lin).item():.2f} dB\")\nprint(f\"Diffusion PSNR: {dinv.metric.PSNR()(x, xhat).item():.2f} dB\")\n\n# plot results\nerror = (xhat - x).abs().sum(dim=1).unsqueeze(1)  # per pixel average abs. error\nimgs = [x_lin, x, xhat]\nplot(imgs, titles=[\"measurement\", \"ground truth\", \"DDRM reconstruction\"])"
      ]
    },
    {
      "cell_type": "markdown",
      "metadata": {},
      "source": [
        "## Create a Monte Carlo sampler\nRunning the diffusion gives a single sample of the posterior distribution.\nIn order to compute the posterior mean and variance, we can use multiple samples.\nThis can be done using the :class:`deepinv.sampling.DiffusionSampler` class, which converts\nthe diffusion algorithm into a fully fledged Monte Carlo sampler.\nWe set the maximum number of iterations to 10, which means that the sampler will run the diffusion 10 times.\n\n"
      ]
    },
    {
      "cell_type": "code",
      "execution_count": null,
      "metadata": {
        "collapsed": false
      },
      "outputs": [],
      "source": [
        "f = dinv.sampling.DiffusionSampler(diff, max_iter=10)"
      ]
    },
    {
      "cell_type": "markdown",
      "metadata": {},
      "source": [
        "## Run sampling algorithm and plot results\nThe sampling algorithm returns the posterior mean and variance.\nWe compare the posterior mean with a simple linear reconstruction.\n\n"
      ]
    },
    {
      "cell_type": "code",
      "execution_count": null,
      "metadata": {
        "collapsed": false
      },
      "outputs": [],
      "source": [
        "mean, var = f(y, physics)\n\n# compute PSNR\nprint(f\"Linear reconstruction PSNR: {dinv.metric.PSNR()(x, x_lin).item():.2f} dB\")\nprint(f\"Posterior mean PSNR: {dinv.metric.PSNR()(x, mean).item():.2f} dB\")\n\n# plot results\nerror = (mean - x).abs().sum(dim=1).unsqueeze(1)  # per pixel average abs. error\nstd = var.sum(dim=1).unsqueeze(1).sqrt()  # per pixel average standard dev.\nimgs = [\n    x_lin,\n    x,\n    mean,\n    std / std.flatten().max(),\n    error / error.flatten().max(),\n]\nplot(\n    imgs,\n    titles=[\n        \"measurement\",\n        \"ground truth\",\n        \"post. mean\",\n        \"post. std\",\n        \"abs. error\",\n    ],\n)"
      ]
    },
    {
      "cell_type": "markdown",
      "metadata": {},
      "source": [
        ":References:\n\n.. footbibliography::\n\n"
      ]
    }
  ],
  "metadata": {
    "kernelspec": {
      "display_name": "Python 3",
      "language": "python",
      "name": "python3"
    },
    "language_info": {
      "codemirror_mode": {
        "name": "ipython",
        "version": 3
      },
      "file_extension": ".py",
      "mimetype": "text/x-python",
      "name": "python",
      "nbconvert_exporter": "python",
      "pygments_lexer": "ipython3",
      "version": "3.12.12"
    }
  },
  "nbformat": 4,
  "nbformat_minor": 0
}