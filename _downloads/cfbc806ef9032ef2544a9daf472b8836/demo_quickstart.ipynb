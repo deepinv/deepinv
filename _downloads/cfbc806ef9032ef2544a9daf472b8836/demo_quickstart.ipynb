{
  "cells": [
    {
      "cell_type": "code",
      "execution_count": null,
      "metadata": {
        "collapsed": false
      },
      "outputs": [],
      "source": [
        "# \ud83d\ude80 To get started, install DeepInverse by creating a new cell and running `%pip install deepinv`"
      ]
    },
    {
      "cell_type": "markdown",
      "metadata": {},
      "source": [
        "\n# 5 minute quickstart tutorial\n\nFollow this example to get started with DeepInverse in under 5 minutes.\n\n**Contents**\n\n1. [Install](#install)_\n2. [Physics](#physics)_\n3. [Models](#models)_\n4. [Datasets](#datasets)_\n5. [What's next](#what-s-next)_\n"
      ]
    },
    {
      "cell_type": "markdown",
      "metadata": {},
      "source": [
        "## 1. Install\n\nFirst, install and import the latest stable release of `deepinv`:\n\n.. code:: bash\n\n   pip install deepinv\n\nWe then get the device (CPU in the case of this example).\n\n\n"
      ]
    },
    {
      "cell_type": "code",
      "execution_count": null,
      "metadata": {
        "collapsed": false
      },
      "outputs": [],
      "source": [
        "import deepinv as dinv\nimport torch\n\ndevice = dinv.utils.get_freer_gpu() if torch.cuda.is_available() else \"cpu\""
      ]
    },
    {
      "cell_type": "markdown",
      "metadata": {},
      "source": [
        "## 2. Physics\n\n\n"
      ]
    },
    {
      "cell_type": "markdown",
      "metadata": {},
      "source": [
        "In DeepInverse, `x` are images:\n\n\n"
      ]
    },
    {
      "cell_type": "code",
      "execution_count": null,
      "metadata": {
        "collapsed": false
      },
      "outputs": [],
      "source": [
        "x = dinv.utils.load_example(\"butterfly.png\", device=device)"
      ]
    },
    {
      "cell_type": "markdown",
      "metadata": {},
      "source": [
        "Images are tensors of shape `B, C, ...` where `B` is batch size, `C` are channels and `...` are spatial dimensions:\n\n"
      ]
    },
    {
      "cell_type": "code",
      "execution_count": null,
      "metadata": {
        "collapsed": false
      },
      "outputs": [],
      "source": [
        "print(x.shape)"
      ]
    },
    {
      "cell_type": "markdown",
      "metadata": {},
      "source": [
        "`Imaging forward operators <physics_intro>` are called `physics` and simulate\nmeasurements `y` from `x`.\n\n\n"
      ]
    },
    {
      "cell_type": "code",
      "execution_count": null,
      "metadata": {
        "collapsed": false
      },
      "outputs": [],
      "source": [
        "physics = dinv.physics.Inpainting(x.shape[1:], mask=0.3, device=device)\n\ny = physics(x)"
      ]
    },
    {
      "cell_type": "markdown",
      "metadata": {},
      "source": [
        "DeepInverse implements\n`many different types of physics <physics>` across various imaging modalities.\nPhysics also possess noise models such as Gaussian or Poisson noise.\n\n.. hint::\n    Do you get a matplotlib LaTeX error when plotting? Disable LaTeX using `dinv.utils.disable_tex()`\n\n"
      ]
    },
    {
      "cell_type": "code",
      "execution_count": null,
      "metadata": {
        "collapsed": false
      },
      "outputs": [],
      "source": [
        "physics.noise_model = dinv.physics.GaussianNoise(sigma=0.1)\n\ny = physics(x)\n\ndinv.utils.plot({\"GT\": x, \"Noisy Inpainting \\nMeasurement\": y})"
      ]
    },
    {
      "cell_type": "markdown",
      "metadata": {},
      "source": [
        "Many physics also take\n`physics parameters <parameter-dependent-operators>` such as `mask`, `filter`, `sigma` etc.:\n\n"
      ]
    },
    {
      "cell_type": "code",
      "execution_count": null,
      "metadata": {
        "collapsed": false
      },
      "outputs": [],
      "source": [
        "# Blur with Gaussian filter parameter\nfilter = dinv.physics.blur.gaussian_blur((5, 5))\n\nphysics = dinv.physics.BlurFFT(x.shape[1:], filter=filter, device=device)\n\n# Simulate measurements\ny = physics(x)"
      ]
    },
    {
      "cell_type": "markdown",
      "metadata": {},
      "source": [
        "You can easily use your own params by passing these into the `physics`,\nor you can use a `generator` to `generate random params <physics_generators>`:\n\n"
      ]
    },
    {
      "cell_type": "code",
      "execution_count": null,
      "metadata": {
        "collapsed": false
      },
      "outputs": [],
      "source": [
        "# Blur kernel random generator\nphysics_generator = dinv.physics.generator.MotionBlurGenerator(\n    psf_size=(31, 31), num_channels=3, device=device\n)\n\n# Generate a dict of random params {\"filter\": ...}\nparams = physics_generator.step()\n\n# Update physics during forward call\ny2 = physics(x, **params)\n\ndinv.utils.plot(\n    {\n        \"GT\": x,\n        \"Blurred...\": y,\n        \"... with Gaussian kernel\": filter,\n        \"Blurred ...\": y2,\n        \"...with motion kernel\": params[\"filter\"],\n    }\n)"
      ]
    },
    {
      "cell_type": "markdown",
      "metadata": {},
      "source": [
        "Physics are powerful objects and `have many methods <physics_intro>`, for example a\npseudo-inverse:\n\n\n"
      ]
    },
    {
      "cell_type": "code",
      "execution_count": null,
      "metadata": {
        "collapsed": false
      },
      "outputs": [],
      "source": [
        "# You can also update params like so\nphysics.update(filter=filter.to(device))\n\nx_pinv = physics.A_dagger(y)"
      ]
    },
    {
      "cell_type": "markdown",
      "metadata": {},
      "source": [
        "As it is well-known in the field of inverse problems, the pseudo-inverse can give good results\nif the problem is noiseless, but it completely fails in the presence of noise - this is why we need reconstructors!\n\n"
      ]
    },
    {
      "cell_type": "code",
      "execution_count": null,
      "metadata": {
        "collapsed": false
      },
      "outputs": [],
      "source": [
        "physics.noise_model = dinv.physics.GaussianNoise(sigma=0.1)\n\ny = physics(x)\n\nx_pinv_noise = physics.A_dagger(y)\n\ndinv.utils.plot(\n    {\"Pseudoinv \\nw/o noise\": x_pinv, \"Pseudoinv \\nwith noise\": x_pinv_noise}\n)"
      ]
    },
    {
      "cell_type": "markdown",
      "metadata": {},
      "source": [
        ".. tip::\n\n   Want to use DeepInverse with your own physics operator? Check out `sphx_glr_auto_examples_basics_demo_custom_physics.py` for a tutorial!\n\n\n"
      ]
    },
    {
      "cell_type": "markdown",
      "metadata": {},
      "source": [
        "## 3. Models\n\nIn DeepInverse, a `model` is a reconstruction algorithm that\n**reconstructs** images from `y` and knowledge of `physics`.\n\n.. tip::\n    Many models, such as :class:`Reconstruct Anything Model <deepinv.models.RAM>`, are `pretrained reconstructors <pretrained-models>` and can\n    be used out of the box. See `sphx_glr_auto_examples_basics_demo_pretrained_model.py` for a full example.\n\n\n"
      ]
    },
    {
      "cell_type": "code",
      "execution_count": null,
      "metadata": {
        "collapsed": false
      },
      "outputs": [],
      "source": [
        "model = dinv.models.RAM(pretrained=True, device=device)\n\nx_hat = model(y, physics)"
      ]
    },
    {
      "cell_type": "markdown",
      "metadata": {},
      "source": [
        "Plot the image `x`, the measurement `y` and the reconstructed image\n`x_hat` and compute `metrics <metric>`:\n\n\n"
      ]
    },
    {
      "cell_type": "code",
      "execution_count": null,
      "metadata": {
        "collapsed": false
      },
      "outputs": [],
      "source": [
        "metric = dinv.metric.PSNR()\n\npsnr_y = metric(y, x).item()\npsnr_x_hat = metric(x_hat, x).item()\n\ndinv.utils.plot(\n    {\n        \"Ground Truth\": x,\n        \"Measurement\": y,\n        \"Reconstruction\": x_hat,\n    },\n    subtitles=[\"PSNR:\", f\"{psnr_y:.2f} dB\", f\"{psnr_x_hat:.2f} dB\"],\n)"
      ]
    },
    {
      "cell_type": "markdown",
      "metadata": {},
      "source": [
        "Some models are only `denoisers <denoisers>` that **denoise**\nimages from `y` and `sigma`, which can be used to build many\n`model-based reconstruction algorithms <iterative>`.\n\n\n"
      ]
    },
    {
      "cell_type": "code",
      "execution_count": null,
      "metadata": {
        "collapsed": false
      },
      "outputs": [],
      "source": [
        "denoiser = dinv.models.DRUNet(device=device)\n\nx_denoised = denoiser(y, sigma=0.1)\n\nmodel = dinv.optim.DPIR(sigma=0.1, denoiser=denoiser, device=device)\n\nx_hat = model(y, physics)\n\ndinv.utils.plot(\n    {\n        \"Ground Truth\": x,\n        \"Measurement\": y,\n        \"Denoised\": x_denoised,\n        \"Reconstruction\": x_hat,\n    },\n    subtitles=[\n        \"PSNR:\",\n        f\"{dinv.metric.PSNR()(y, x).item():.2f} dB\",\n        f\"{dinv.metric.PSNR()(x_denoised, x).item():.2f} dB\",\n        f\"{dinv.metric.PSNR()(x_hat, x).item():.2f} dB\",\n    ],\n)"
      ]
    },
    {
      "cell_type": "markdown",
      "metadata": {},
      "source": [
        "DeepInverse covers\n`many frameworks of reconstruction algorithms <reconstructors>`\nincluding `deep model architectures <deep-reconstructors>`, `iterative algorithms <iterative>`, `sampling algorithms <sampling>`\n(e.g. diffusion models), and `unfolded models <unfolded>`.\n\n\n"
      ]
    },
    {
      "cell_type": "code",
      "execution_count": null,
      "metadata": {
        "collapsed": false
      },
      "outputs": [],
      "source": [
        "# Reconstruct Anything Model foundation model\nmodel = dinv.models.RAM(pretrained=True, device=device)"
      ]
    },
    {
      "cell_type": "markdown",
      "metadata": {},
      "source": [
        ".. tip::\n\n   Want to use DeepInverse with your own network? Just inherit from the reconstructor base class :class:`deepinv.models.Reconstructor`!\n\n\n"
      ]
    },
    {
      "cell_type": "markdown",
      "metadata": {},
      "source": [
        "## 4. Datasets\n\nYou can use DeepInverse with `dataset <datasets>`, for testing or training. First,\ndefine a ground-truth dataset. We implement wrappers for\n`many popular imaging datasets <datasets>` across domains including natural images,\nmedical imaging, satellite imaging, etc.\n\n.. tip::\n    It's easy to use your own dataset with DeepInverse. See `sphx_glr_auto_examples_basics_demo_custom_dataset.py` for a tutorial.\n\n\n"
      ]
    },
    {
      "cell_type": "code",
      "execution_count": null,
      "metadata": {
        "collapsed": false
      },
      "outputs": [],
      "source": [
        "dataset = dinv.datasets.SimpleFastMRISliceDataset(\n    \"data\", anatomy=\"brain\", download=True\n)"
      ]
    },
    {
      "cell_type": "markdown",
      "metadata": {},
      "source": [
        "`Datasets <datasets>` return either `x`, tuples `x, y` or `x, y, params` of images,\nmeasurements, and optional physics parameters. Given a ground-truth\ndataset, you can simulate a dataset with random physics:\n\n\n"
      ]
    },
    {
      "cell_type": "code",
      "execution_count": null,
      "metadata": {
        "collapsed": false
      },
      "outputs": [],
      "source": [
        "physics = dinv.physics.MRI(device=device)\n\nphysics_generator = dinv.physics.generator.RandomMaskGenerator(\n    (320, 320), device=device\n)\n\npath = dinv.datasets.generate_dataset(\n    dataset,\n    physics,\n    save_dir=\"data\",\n    physics_generator=physics_generator,\n    device=device,\n)\n\ndataset = dinv.datasets.HDF5Dataset(path, load_physics_generator_params=True)"
      ]
    },
    {
      "cell_type": "markdown",
      "metadata": {},
      "source": [
        "You can use this dataset to `test or train <trainer>` a model:\n\n\n"
      ]
    },
    {
      "cell_type": "code",
      "execution_count": null,
      "metadata": {
        "collapsed": false
      },
      "outputs": [],
      "source": [
        "import torch\n\ndinv.test(\n    model,\n    torch.utils.data.DataLoader(dataset),\n    physics,\n    plot_images=True,\n    device=device,\n)"
      ]
    },
    {
      "cell_type": "markdown",
      "metadata": {},
      "source": [
        ".. tip::\n\n   Want to use DeepInverse with your own dataset? Check out `sphx_glr_auto_examples_basics_demo_custom_dataset.py` for a tutorial!\n\n\n"
      ]
    },
    {
      "cell_type": "markdown",
      "metadata": {},
      "source": [
        "\ud83c\udf89 Well done, you now know how to use DeepInverse!\n\n## What's next?\n\n-  Try more basic examples, including\n   `how to inference a pretrained model <sphx_glr_auto_examples_basics_demo_pretrained_model.py>`,\n   `how to use your own dataset <sphx_glr_auto_examples_basics_demo_custom_dataset.py>`, or\n   `how to use your custom physics operator <sphx_glr_auto_examples_basics_demo_custom_physics.py>`.\n-  Dive deeper into our full library of examples.\n-  Read the `User Guide <user_guide>` for further details on the\n   concepts introduced here.\n-  Want help?\n   [Open an issue](https://github.com/deepinv/deepinv/issues) ask\n   a message on our [Discord](https://discord.gg/qBqY5jKw3p) or\n   get in touch with our\n   [MAINTAINERS](https://github.com/deepinv/deepinv/blob/main/MAINTAINERS.md).\n\n\n"
      ]
    }
  ],
  "metadata": {
    "kernelspec": {
      "display_name": "Python 3",
      "language": "python",
      "name": "python3"
    },
    "language_info": {
      "codemirror_mode": {
        "name": "ipython",
        "version": 3
      },
      "file_extension": ".py",
      "mimetype": "text/x-python",
      "name": "python",
      "nbconvert_exporter": "python",
      "pygments_lexer": "ipython3",
      "version": "3.12.12"
    }
  },
  "nbformat": 4,
  "nbformat_minor": 0
}