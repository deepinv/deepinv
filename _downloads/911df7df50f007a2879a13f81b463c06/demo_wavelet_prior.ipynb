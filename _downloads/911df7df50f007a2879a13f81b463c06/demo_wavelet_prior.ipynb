{
  "cells": [
    {
      "cell_type": "code",
      "execution_count": null,
      "metadata": {
        "collapsed": false
      },
      "outputs": [],
      "source": [
        "# \ud83d\ude80 To get started, install DeepInverse by creating a new cell and running `%pip install deepinv`"
      ]
    },
    {
      "cell_type": "markdown",
      "metadata": {},
      "source": [
        "\n# Image inpainting with wavelet prior\n\nThis example shows how to use a standard wavelet prior for image inpainting. The problem writes as $y = Ax + \\epsilon$\nwhere $A$ is a mask and $\\epsilon$ is the realization of some Gaussian noise. The goal is\nto recover the original image $x$ from the blurred and noisy image $y$. The wavelet prior is used to regularize\nthe problem.\n"
      ]
    },
    {
      "cell_type": "code",
      "execution_count": null,
      "metadata": {
        "collapsed": false
      },
      "outputs": [],
      "source": [
        "import deepinv as dinv\nfrom pathlib import Path\nimport torch\nfrom torchvision import transforms\n\nfrom deepinv.optim.data_fidelity import L2\nfrom deepinv.optim.optimizers import optim_builder\nfrom deepinv.utils import load_dataset\nfrom deepinv.utils.plotting import plot, plot_curves"
      ]
    },
    {
      "cell_type": "markdown",
      "metadata": {},
      "source": [
        "## Setup paths for data loading and results.\n\n\n"
      ]
    },
    {
      "cell_type": "code",
      "execution_count": null,
      "metadata": {
        "collapsed": false
      },
      "outputs": [],
      "source": [
        "BASE_DIR = Path(\".\")\nDATA_DIR = BASE_DIR / \"measurements\"\nRESULTS_DIR = BASE_DIR / \"results\"\nDEG_DIR = BASE_DIR / \"degradations\""
      ]
    },
    {
      "cell_type": "markdown",
      "metadata": {},
      "source": [
        "## Load base image datasets and degradation operators.\nIn this example, we use the Set3C dataset\n\n\n"
      ]
    },
    {
      "cell_type": "code",
      "execution_count": null,
      "metadata": {
        "collapsed": false
      },
      "outputs": [],
      "source": [
        "# Set the global random seed from pytorch to ensure reproducibility of the example.\ntorch.manual_seed(0)\n\ndevice = dinv.utils.get_freer_gpu() if torch.cuda.is_available() else \"cpu\"\n\n# Set up the variable to fetch dataset and operators.\ndataset_name = \"set3c\"\nimg_size = 256 if torch.cuda.is_available() else 64\nval_transform = transforms.Compose(\n    [transforms.CenterCrop(img_size), transforms.ToTensor()]\n)\n\ndataset = load_dataset(dataset_name, transform=val_transform)"
      ]
    },
    {
      "cell_type": "markdown",
      "metadata": {},
      "source": [
        "## Generate an inpainting problem\nWe use the Inpainting class from the physics module to generate an images with missing pixels.\n\n"
      ]
    },
    {
      "cell_type": "code",
      "execution_count": null,
      "metadata": {
        "collapsed": false
      },
      "outputs": [],
      "source": [
        "noise_level_img = 0.05  # Gaussian Noise standard deviation for the degradation\nn_channels = 3  # 3 for color images, 1 for gray-scale images\n\n# Select the first image from the dataset\nx = dataset[0].unsqueeze(0).to(device)\n\n# Generate a mask for the inpainting problem\nmask = torch.ones_like(x)[0]\nmask[\n    ...,\n    x.shape[-2] // 2 - x.shape[-2] // 8 : x.shape[-2] // 2 + x.shape[-2] // 8,\n    x.shape[-1] // 2 - x.shape[-1] // 8 : x.shape[-1] // 2 + x.shape[-1] // 8,\n] = 0\n\nphysics = dinv.physics.Inpainting(\n    img_size=(n_channels, img_size, img_size),\n    mask=mask,\n    device=device,\n    noise_model=dinv.physics.GaussianNoise(sigma=noise_level_img),\n)\n\n# Apply the degradation to the image\ny = physics(x)"
      ]
    },
    {
      "cell_type": "markdown",
      "metadata": {},
      "source": [
        "## Exploring the wavelet prior.\n\nIn this example, we will use the wavelet prior, which can be done with the :class:`deepinv.optim.prior.WaveletPrior`\nclass. The prior object represents the cost function of the prior, as well as convenient methods,\nsuch as its proximal operator $\\text{prox}_{\\tau \\regname}$.\n\n"
      ]
    },
    {
      "cell_type": "code",
      "execution_count": null,
      "metadata": {
        "collapsed": false
      },
      "outputs": [],
      "source": [
        "# Set up the wavelet prior\nprior = dinv.optim.prior.WaveletPrior(level=4, wv=\"db8\", p=1, device=device)\n\n# Compute the wavelet prior cost\ncost_wv = prior(y)\nprint(f\"Cost wavelet: g(y) = {cost_wv.item():.2f}\")\n\n# Apply the proximal operator of the wavelet prior\nx_wv = prior.prox(y, gamma=0.1)\ncost_wv_prox = prior(x_wv)"
      ]
    },
    {
      "cell_type": "markdown",
      "metadata": {},
      "source": [
        "<div class=\"alert alert-info\"><h4>Note</h4><p>The output of the proximity operator of the wavelet prior is **not** the solution to our inpainting problem. It is only a\n          step towards the solution and is used in the proximal gradient descent algorithm to solve the inverse\n          problem.</p></div>\n\n\n"
      ]
    },
    {
      "cell_type": "code",
      "execution_count": null,
      "metadata": {
        "collapsed": false
      },
      "outputs": [],
      "source": [
        "# Plot the input and the output of the wavelet proximal operator\nplot(\n    {\n        \"Input\": y,\n        \"Output\": x_wv,\n    },\n    subtitles=[\n        f\"Wavelet cost:\\n{int(cost_wv.item())}\",\n        f\"Wavelet cost:\\n{int(cost_wv_prox.item())}\",\n    ],\n    tight=False,\n)"
      ]
    },
    {
      "cell_type": "markdown",
      "metadata": {},
      "source": [
        "## Set up the optimization algorithm to solve the inverse problem.\nThe problem we want to minimize is the following:\n\n\\begin{align}\\begin{equation*}\n    \\underset{x}{\\operatorname{min}} \\,\\, \\frac{1}{2} \\|Ax-y\\|_2^2 + \\lambda \\|\\Psi x\\|_{1}(x),\n    \\end{equation*}\\end{align}\n\n\nwhere $1/2 \\|A(x)-y\\|_2^2$ is the a data-fidelity term, $\\|\\Psi x\\|_{1}(x)$ is a sparsity inducing\nprior for the image $x$, and $\\lambda>0$ is a regularisation parameters.\n\nWe use a Proximal Gradient Descent (PGD) algorithm to solve the inverse problem.\n\n"
      ]
    },
    {
      "cell_type": "code",
      "execution_count": null,
      "metadata": {
        "collapsed": false
      },
      "outputs": [],
      "source": [
        "# Select the data fidelity term\ndata_fidelity = L2()\n\n# Specify the prior (we redefine it with a smaller number of iteration for faster computation)\nprior = dinv.optim.prior.WaveletPrior(level=4, wv=\"db8\", p=1, device=device)\n\n# Logging parameters\nverbose = True\nplot_convergence_metrics = (\n    True  # compute performance and convergence metrics along the algorithm.\n)\n\n# Algorithm parameters\nlamb = 0.1  # wavelet regularisation parameter\nstepsize = 1.0  # stepsize for the PGD algorithm\nparams_algo = {\"stepsize\": stepsize, \"lambda\": lamb}\nmax_iter = 300\nearly_stop = True\nbacktracking = False\n\n# Instantiate the algorithm class to solve the problem.\nmodel = optim_builder(\n    iteration=\"DRS\",\n    prior=prior,\n    data_fidelity=data_fidelity,\n    early_stop=early_stop,\n    max_iter=max_iter,\n    verbose=verbose,\n    params_algo=params_algo,\n    backtracking=backtracking,\n)"
      ]
    },
    {
      "cell_type": "markdown",
      "metadata": {},
      "source": [
        "## Evaluate the model on the problem and plot the results.\n\nThe model returns the output and the metrics computed along the iterations.\nFor computing PSNR, the ground truth image ``x_gt`` must be provided.\n\n"
      ]
    },
    {
      "cell_type": "code",
      "execution_count": null,
      "metadata": {
        "collapsed": false
      },
      "outputs": [],
      "source": [
        "x_lin = physics.A_adjoint(y)  # linear reconstruction with the adjoint operator\n\n# run the model on the problem.\nx_model, metrics = model(\n    y, physics, x_gt=x, compute_metrics=True\n)  # reconstruction with PGD algorithm\n\n# clamp the output to the valid range [0, 1]\nx_model = x_model.clamp(0, 1)\n\n# compute PSNR\n# plot images. Images are saved in RESULTS_DIR.\nplot(\n    {\n        \"GT\": x,\n        \"Input\": y,\n        \"Linear\": x_lin,\n        \"Recons.\": x_model,\n    },\n    subtitles=[\n        \"PSNR:\",\n        f\"{dinv.metric.PSNR()(x, y).item():.2f} dB\",\n        f\"{dinv.metric.PSNR()(x, x_lin).item():.2f} dB\",\n        f\"{dinv.metric.PSNR()(x, x_model).item():.2f} dB\",\n    ],\n)\n\n# plot convergence curves\nif plot_convergence_metrics:\n    plot_curves(metrics)"
      ]
    }
  ],
  "metadata": {
    "kernelspec": {
      "display_name": "Python 3",
      "language": "python",
      "name": "python3"
    },
    "language_info": {
      "codemirror_mode": {
        "name": "ipython",
        "version": 3
      },
      "file_extension": ".py",
      "mimetype": "text/x-python",
      "name": "python",
      "nbconvert_exporter": "python",
      "pygments_lexer": "ipython3",
      "version": "3.12.12"
    }
  },
  "nbformat": 4,
  "nbformat_minor": 0
}