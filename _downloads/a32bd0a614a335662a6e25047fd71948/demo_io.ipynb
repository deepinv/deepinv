{
  "cells": [
    {
      "cell_type": "code",
      "execution_count": null,
      "metadata": {
        "collapsed": false
      },
      "outputs": [],
      "source": [
        "# \ud83d\ude80 To get started, install DeepInverse by creating a new cell and running `%pip install deepinv`"
      ]
    },
    {
      "cell_type": "markdown",
      "metadata": {},
      "source": [
        "\n# Loading scientific images\n\nThis example presents the various input/output functions provided by DeepInverse\nfor handling medical and scientific imaging formats. We demonstrate loading and\nplotting from DICOM, NIfTI, ISMRMRD, PyTorch, NumPy and raster data sources.\n"
      ]
    },
    {
      "cell_type": "code",
      "execution_count": null,
      "metadata": {
        "collapsed": false
      },
      "outputs": [],
      "source": [
        "import deepinv as dinv"
      ]
    },
    {
      "cell_type": "markdown",
      "metadata": {},
      "source": [
        "## 1. Load DICOM\n\nDICOM files are commonly used in clinical imaging. We can fetch and load them\ndirectly using :func:`deepinv.utils.load_dicom`. Here, we demonstrate on a\ndemo DICOM from the Internet.\n\nThis function requires `pydicom`. Install it with `pip install pydicom`.\n\n\n"
      ]
    },
    {
      "cell_type": "code",
      "execution_count": null,
      "metadata": {
        "collapsed": false
      },
      "outputs": [],
      "source": [
        "x = dinv.io.load_dicom(\n    dinv.io.load_url(\n        \"https://github.com/robyoung/dicom-test-files/raw/refs/heads/master/data/pydicom/693_J2KI.dcm\"\n    )\n)  # (1,H,W)\n\ndinv.utils.plot({\"dicom\": x.unsqueeze(0)})"
      ]
    },
    {
      "cell_type": "markdown",
      "metadata": {},
      "source": [
        "## 2. Load NIfTI\n\nNIfTI files are often used for volumetric neuroimaging data. We load them using :func:`deepinv.utils.load_nifti`.\nSince `nibabel` doesn't support file buffers, we download a sample volume first.\n\nThis function requires `nibabel`. Install it with `pip install nibabel`.\n\n"
      ]
    },
    {
      "cell_type": "code",
      "execution_count": null,
      "metadata": {
        "collapsed": false
      },
      "outputs": [],
      "source": [
        "import requests\n\nsave_path = dinv.utils.get_data_home() / \"tmp.nii.gz\"\nwith open(save_path, \"wb\") as f:\n    f.write(\n        requests.get(\n            \"https://github.com/neurolabusc/niivue-images/raw/refs/heads/main/Iguana.nii.gz\"\n        ).content\n    )\n\nx = dinv.io.load_nifti(save_path).unsqueeze(0)  # (1, H, W, D)\n\nx = x[..., x.shape[-1] // 2]  # take central slice, (1,H,W)\n\ndinv.utils.plot({\"nifti slice\": x.unsqueeze(0)})"
      ]
    },
    {
      "cell_type": "markdown",
      "metadata": {},
      "source": [
        "## 3. Load ISMRMRD\n\nISMRMRD is a standard raw MRI k-space format. We load a k-space slice using :func:`deepinv.utils.load_ismrmd`\nand compute a root-sum-of-squares reconstruction.\n\n"
      ]
    },
    {
      "cell_type": "code",
      "execution_count": null,
      "metadata": {
        "collapsed": false
      },
      "outputs": [],
      "source": [
        "y = dinv.io.load_ismrmd(\n    dinv.io.load_url(dinv.utils.demo.get_image_url(\"demo_fastmri_brain_multicoil.h5\")),\n    data_name=\"kspace\",\n    data_slice=0,\n)  # (2,N,H,W) where N is coils\n\nrss = dinv.physics.MultiCoilMRI(img_size=y.shape[-2:]).A_adjoint(\n    y.unsqueeze(0), rss=True\n)  # (1,2,H,W)\n\ndinv.utils.plot({\"ismrmrd rss\": rss})"
      ]
    },
    {
      "cell_type": "markdown",
      "metadata": {},
      "source": [
        "## 4. Load tensors and arrays\n\nWe provide helper functions for loading tensors and arrays directly, for example provided\nin the `DeepInverse HuggingFace demo repository <https://huggingface.co/datasets/deepinv/images>`.\n\n"
      ]
    },
    {
      "cell_type": "code",
      "execution_count": null,
      "metadata": {
        "collapsed": false
      },
      "outputs": [],
      "source": [
        "x = dinv.io.load_torch(\n    dinv.utils.load_url(dinv.utils.demo.get_image_url(\"CT100_256x256_0.pt\"))\n)  # (1,1,H,W)\n\ny = dinv.io.load_np(\n    dinv.utils.load_url(\n        dinv.utils.demo.get_image_url(\"brainweb_t1_ICBM_1mm_subject_0_slice_0.npy\")\n    )\n)  # (H,W)\n\ndinv.utils.plot({\"torch\": x, \"numpy\": y.unsqueeze(0).unsqueeze(0)})"
      ]
    },
    {
      "cell_type": "markdown",
      "metadata": {},
      "source": [
        "## 6. Load raster images\n\nRaster formats (e.g. GeoTIFF, COSAR) can be streamed with patches.\nSee :func:`deepinv.utils.load_raster` for patch options.\n\nThis function requires `rasterio`. Install it with `pip install rasterio`.\n\n"
      ]
    },
    {
      "cell_type": "code",
      "execution_count": null,
      "metadata": {
        "collapsed": false
      },
      "outputs": [],
      "source": [
        "patches = dinv.io.load_raster(\n    dinv.io.load_url(\n        \"https://download.osgeo.org/geotiff/samples/spot/chicago/SP27GTIF.TIF\"\n    ),\n    patch=500,\n    patch_start=(200, 200),\n)\n\nx = next(patches)  # Stream patch\n\ndinv.utils.plot({\"raster\": x.unsqueeze(0)})"
      ]
    }
  ],
  "metadata": {
    "kernelspec": {
      "display_name": "Python 3",
      "language": "python",
      "name": "python3"
    },
    "language_info": {
      "codemirror_mode": {
        "name": "ipython",
        "version": 3
      },
      "file_extension": ".py",
      "mimetype": "text/x-python",
      "name": "python",
      "nbconvert_exporter": "python",
      "pygments_lexer": "ipython3",
      "version": "3.12.12"
    }
  },
  "nbformat": 4,
  "nbformat_minor": 0
}