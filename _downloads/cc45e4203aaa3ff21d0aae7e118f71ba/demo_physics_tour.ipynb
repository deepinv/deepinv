{
  "cells": [
    {
      "cell_type": "code",
      "execution_count": null,
      "metadata": {
        "collapsed": false
      },
      "outputs": [],
      "source": [
        "# \ud83d\ude80 To get started, install DeepInverse by creating a new cell and running `%pip install deepinv`"
      ]
    },
    {
      "cell_type": "markdown",
      "metadata": {},
      "source": [
        "\n# Tour of forward sensing operators\n\nThis example provides a tour of some of the forward operators implemented in DeepInverse.\nWe restrict ourselves to operators where the signal is a 2D image. The full list of operators can be found in\n[here](physics).\n"
      ]
    },
    {
      "cell_type": "code",
      "execution_count": null,
      "metadata": {
        "collapsed": false
      },
      "outputs": [],
      "source": [
        "import torch\n\nimport deepinv as dinv\nfrom deepinv.utils.plotting import plot\nfrom deepinv.utils import load_example"
      ]
    },
    {
      "cell_type": "markdown",
      "metadata": {},
      "source": [
        "## Load image from the internet\n\nThis example uses an image of the CBSD68 dataset.\n\n"
      ]
    },
    {
      "cell_type": "code",
      "execution_count": null,
      "metadata": {
        "collapsed": false
      },
      "outputs": [],
      "source": [
        "device = dinv.utils.get_freer_gpu() if torch.cuda.is_available() else \"cpu\"\n\nx = load_example(\"CBSD_0010.png\", grayscale=False).to(device)\n\nx = torch.tensor(x, device=device, dtype=torch.float)\nx = torch.nn.functional.interpolate(x, size=(64, 64))\nimg_size = x.shape[1:]\n# Set the global random seed from pytorch to ensure reproducibility of the example.\ntorch.manual_seed(0)"
      ]
    },
    {
      "cell_type": "markdown",
      "metadata": {},
      "source": [
        "## Denoising\n\nThe denoising class :class:`deepinv.physics.Denoising` is associated with an identity operator.\nIn this example we choose a Poisson noise.\n\n"
      ]
    },
    {
      "cell_type": "code",
      "execution_count": null,
      "metadata": {
        "collapsed": false
      },
      "outputs": [],
      "source": [
        "physics = dinv.physics.Denoising(dinv.physics.PoissonNoise(0.1))\n\ny = physics(x)\n\n# plot results\nplot([x, y], titles=[\"signal\", \"measurement\"])"
      ]
    },
    {
      "cell_type": "markdown",
      "metadata": {},
      "source": [
        "## Inpainting\n\nThe inpainting class :class:`deepinv.physics.Inpainting` is associated with a mask operator.\nThe mask is generated at random (unless an explicit mask is provided as input).\nWe also consider Gaussian noise in this example.\n\n"
      ]
    },
    {
      "cell_type": "code",
      "execution_count": null,
      "metadata": {
        "collapsed": false
      },
      "outputs": [],
      "source": [
        "sigma = 0.1  # noise level\nphysics = dinv.physics.Inpainting(\n    mask=0.5,\n    img_size=x.shape[1:],\n    noise_model=dinv.physics.GaussianNoise(sigma=sigma),\n    device=device,\n)\n\ny = physics(x)\n\n# plot results\nplot([x, y], titles=[\"signal\", \"measurement\"])"
      ]
    },
    {
      "cell_type": "markdown",
      "metadata": {},
      "source": [
        "## Demosaicing\n\nThe demosaicing class :class:`deepinv.physics.Demosaicing` is associated with a Bayer pattern,\nwhich is a color filter array used in digital cameras (see [Wikipedia](https://en.wikipedia.org/wiki/Bayer_filter)).\n\n"
      ]
    },
    {
      "cell_type": "code",
      "execution_count": null,
      "metadata": {
        "collapsed": false
      },
      "outputs": [],
      "source": [
        "physics = dinv.physics.Demosaicing(img_size=(64, 64), device=device)\n\ny = physics(x)\n\n# plot results\nplot([x, y], titles=[\"signal\", \"measurement\"])"
      ]
    },
    {
      "cell_type": "markdown",
      "metadata": {},
      "source": [
        "## Compressed Sensing\n\nThe compressed sensing class :class:`deepinv.physics.CompressedSensing` is associated with a random Gaussian matrix.\nHere we take 2048 measurements of an image of size 64x64, which corresponds to a compression ratio of 2.\n\n"
      ]
    },
    {
      "cell_type": "code",
      "execution_count": null,
      "metadata": {
        "collapsed": false
      },
      "outputs": [],
      "source": [
        "physics = dinv.physics.CompressedSensing(\n    m=2048,\n    fast=False,\n    channelwise=True,\n    img_size=img_size,\n    device=device,\n)\n\ny = physics(x)\n\n# plot results\nplot([x, physics.A_dagger(y)], titles=[\"signal\", \"linear inverse\"])"
      ]
    },
    {
      "cell_type": "markdown",
      "metadata": {},
      "source": [
        "## Computed Tomography\n\nThe class :class:`deepinv.physics.Tomography` is associated with the sparse Radon transform.\nHere we take 20 views of an image of size 64x64, and consider mixed Poisson-Gaussian noise.\n\n"
      ]
    },
    {
      "cell_type": "code",
      "execution_count": null,
      "metadata": {
        "collapsed": false
      },
      "outputs": [],
      "source": [
        "physics = dinv.physics.Tomography(\n    img_width=img_size[-1],\n    angles=20,\n    device=device,\n    noise_model=dinv.physics.PoissonGaussianNoise(gain=0.1, sigma=0.05),\n)\n\ny = physics(x)\n\n# plot results\nplot(\n    [x, (y - y.min()) / y.max(), physics.A_dagger(y)],\n    titles=[\"signal\", \"sinogram\", \"filtered backprojection\"],\n)"
      ]
    },
    {
      "cell_type": "markdown",
      "metadata": {},
      "source": [
        "## MRI\n\nThe class :class:`deepinv.physics.MRI` is associated with a subsampling of the Fourier transform.\nThe mask indicates which Fourier coefficients are measured. Here we use a random Cartesian mask, which\ncorresponds to a compression ratio of approximately 4.\n\n<div class=\"alert alert-info\"><h4>Note</h4><p>The signal must be complex-valued for this operator, where the first channel corresponds to the real part\n   and the second channel to the imaginary part. In this example, we set the imaginary part to zero.</p></div>\n\n"
      ]
    },
    {
      "cell_type": "code",
      "execution_count": null,
      "metadata": {
        "collapsed": false
      },
      "outputs": [],
      "source": [
        "mask = torch.rand((1, img_size[-1]), device=device) > 0.75\nmask = torch.ones((img_size[-2], 1), device=device) * mask\nmask[:, int(img_size[-1] / 2) - 2 : int(img_size[-1] / 2) + 2] = 1\n\nphysics = dinv.physics.MRI(\n    mask=mask, device=device, noise_model=dinv.physics.GaussianNoise(sigma=0.05)\n)\n\nx2 = torch.cat(\n    [x[:, 0, :, :].unsqueeze(1), torch.zeros_like(x[:, 0, :, :].unsqueeze(1))], dim=1\n)\ny = physics(x2)\n\n# plot results\nplot(\n    [x2, mask.unsqueeze(0).unsqueeze(0), physics.A_adjoint(y)],\n    titles=[\"signal\", \"k-space mask\", \"linear inverse\"],\n)"
      ]
    },
    {
      "cell_type": "markdown",
      "metadata": {},
      "source": [
        "We also provide physics generators for various accelerated MRI masks.\nThese are Cartesian sampling strategies and can be used for static (k) and dynamic (k-t) undersampling:\n\n"
      ]
    },
    {
      "cell_type": "code",
      "execution_count": null,
      "metadata": {
        "collapsed": false
      },
      "outputs": [],
      "source": [
        "from deepinv.physics.generator import (\n    GaussianMaskGenerator,\n    RandomMaskGenerator,\n    EquispacedMaskGenerator,\n)\n\n# shape (C, T, H, W)\nmask_gaussian = GaussianMaskGenerator((2, 8, 64, 50), acceleration=4).step()[\"mask\"]\nmask_uniform = EquispacedMaskGenerator((2, 8, 64, 50), acceleration=4).step()[\"mask\"]\nmask_random = RandomMaskGenerator((2, 8, 64, 50), acceleration=4).step()[\"mask\"]\n\nplot(\n    [\n        mask_gaussian[:, :, 0, ...],\n        mask_uniform[:, :, 0, ...],\n        mask_random[:, :, 0, ...],\n    ],\n    titles=[\"Gaussian\", \"Uniform\", \"Random uniform\"],\n)"
      ]
    },
    {
      "cell_type": "markdown",
      "metadata": {},
      "source": [
        "## Decolorize\n\nThe class :class:`deepinv.physics.Decolorize` is associated with a simple\ncolor-to-gray operator.\n\n"
      ]
    },
    {
      "cell_type": "code",
      "execution_count": null,
      "metadata": {
        "collapsed": false
      },
      "outputs": [],
      "source": [
        "physics = dinv.physics.Decolorize(device=device)\n\ny = physics(x)\n\n# plot results\nplot([x, y], titles=[\"signal\", \"measurement\"])"
      ]
    },
    {
      "cell_type": "markdown",
      "metadata": {},
      "source": [
        "## Pan-sharpening\n\nThe class :class:`deepinv.physics.Pansharpen` obtains measurements which consist of\na high-resolution grayscale image and a low-resolution RGB image.\n\n"
      ]
    },
    {
      "cell_type": "code",
      "execution_count": null,
      "metadata": {
        "collapsed": false
      },
      "outputs": [],
      "source": [
        "physics = dinv.physics.Pansharpen(img_size=img_size, device=device)\n\ny = physics(x)\n\n# plot results\nplot([x, y[0], y[1]], titles=[\"signal\", \"low res rgb\", \"high res gray\"])"
      ]
    },
    {
      "cell_type": "markdown",
      "metadata": {},
      "source": [
        "## Single-Pixel Camera\n\nThe single-pixel camera class :class:`deepinv.physics.SinglePixelCamera` is associated with ``m`` binary patterns.\nWhen ``fast=True``, the patterns are generated using a fast Hadamard transform.\n\n"
      ]
    },
    {
      "cell_type": "code",
      "execution_count": null,
      "metadata": {
        "collapsed": false
      },
      "outputs": [],
      "source": [
        "physics = dinv.physics.SinglePixelCamera(\n    m=1024, fast=True, ordering=\"cake_cutting\", img_size=img_size, device=device\n)\n\ny = physics(x)\n\n# plot results\nplot([x, physics.A_adjoint(y)], titles=[\"signal\", \"linear inverse\"])"
      ]
    },
    {
      "cell_type": "markdown",
      "metadata": {},
      "source": [
        "## Blur\n\nThe class :class:`deepinv.physics.Blur` blurs the input image with a specified kernel.\nHere we use a Gaussian blur with a standard deviation of 2 pixels and an angle of 45 degrees.\n\n"
      ]
    },
    {
      "cell_type": "code",
      "execution_count": null,
      "metadata": {
        "collapsed": false
      },
      "outputs": [],
      "source": [
        "physics = dinv.physics.Blur(\n    dinv.physics.blur.gaussian_blur(sigma=(2, 0.1), angle=45.0), device=device\n)\n\ny = physics(x)\n\n# plot results\nplot([x, y], titles=[\"signal\", \"measurement\"])"
      ]
    },
    {
      "cell_type": "markdown",
      "metadata": {},
      "source": [
        "## Super-Resolution\n\nThe downsampling class :class:`deepinv.physics.Downsampling` is associated with a downsampling operator.\n\n"
      ]
    },
    {
      "cell_type": "code",
      "execution_count": null,
      "metadata": {
        "collapsed": false
      },
      "outputs": [],
      "source": [
        "physics = dinv.physics.Downsampling(\n    img_size=img_size, factor=2, device=device, filter=\"bicubic\"\n)\n\n\ny = physics(x)\n\n# plot results\nplot([x, y], titles=[\"signal\", \"measurement\"])"
      ]
    }
  ],
  "metadata": {
    "kernelspec": {
      "display_name": "Python 3",
      "language": "python",
      "name": "python3"
    },
    "language_info": {
      "codemirror_mode": {
        "name": "ipython",
        "version": 3
      },
      "file_extension": ".py",
      "mimetype": "text/x-python",
      "name": "python",
      "nbconvert_exporter": "python",
      "pygments_lexer": "ipython3",
      "version": "3.12.12"
    }
  },
  "nbformat": 4,
  "nbformat_minor": 0
}