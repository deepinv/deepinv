{
 "cells": [
  {
   "cell_type": "code",
   "execution_count": 2,
   "metadata": {},
   "outputs": [],
   "source": [
    "import sys\n",
    "sys.path.append(\"/home/zhhu/workspaces/deepinv/\")"
   ]
  },
  {
   "cell_type": "code",
   "execution_count": 9,
   "metadata": {},
   "outputs": [],
   "source": [
    "from datetime import datetime\n",
    "import deepinv as dinv\n",
    "from pathlib import Path\n",
    "from time import time\n",
    "import math\n",
    "\n",
    "import numpy as np\n",
    "import pandas as pd\n",
    "import torch\n",
    "import matplotlib.pyplot as plt\n",
    "import seaborn as sns\n",
    "from tqdm import tqdm, trange\n",
    "from deepinv.models import DRUNet\n",
    "from deepinv.optim.data_fidelity import L2\n",
    "from deepinv.optim.prior import PnP\n",
    "from deepinv.optim.optimizers import optim_builder\n",
    "from deepinv.utils.demo import load_url_image, get_image_url\n",
    "from deepinv.utils.plotting import plot, plot_curves\n",
    "from deepinv.optim.phase_retrieval import correct_global_phase, cosine_similarity, spectral_methods, default_preprocessing, spectral_methods_wrapper, plot_error_bars\n",
    "from deepinv.models.complex import to_complex_denoiser"
   ]
  },
  {
   "cell_type": "code",
   "execution_count": 4,
   "metadata": {},
   "outputs": [
    {
     "name": "stdout",
     "output_type": "stream",
     "text": [
      "Selected GPU 2 with 32497 MB free memory \n"
     ]
    },
    {
     "data": {
      "text/plain": [
       "device(type='cuda', index=2)"
      ]
     },
     "execution_count": 4,
     "metadata": {},
     "output_type": "execute_result"
    }
   ],
   "source": [
    "device = dinv.utils.get_freer_gpu() if torch.cuda.is_available() else \"cpu\"\n",
    "device"
   ]
  },
  {
   "cell_type": "markdown",
   "metadata": {},
   "source": [
    "# Generate signal"
   ]
  },
  {
   "cell_type": "code",
   "execution_count": 5,
   "metadata": {},
   "outputs": [
    {
     "name": "stdout",
     "output_type": "stream",
     "text": [
      "torch.Size([1, 1, 99, 99])\n"
     ]
    },
    {
     "data": {
      "image/png": "[encoded data removed]",
      "text/plain": [
       "<Figure size 200x200 with 1 Axes>"
      ]
     },
     "metadata": {},
     "output_type": "display_data"
    }
   ],
   "source": [
    "# Load image\n",
    "img_size = 99\n",
    "url = get_image_url(\"SheppLogan.png\")\n",
    "x = load_url_image(\n",
    "    url=url, img_size=img_size, grayscale=True, resize_mode=\"resize\", device=device\n",
    ")\n",
    "print(x.shape)\n",
    "plot(x, titles=\"Original image\")\n",
    "\n",
    "# generate phase signal\n",
    "\n",
    "# The phase is computed as 2*pi*x - pi, where x is the original image.\n",
    "x_phase = torch.exp(1j*x*torch.pi - 0.5j*torch.pi).to(device)\n",
    "\n",
    "# Every element of the signal should have unit norm.\n",
    "assert torch.allclose(x_phase.real**2 + x_phase.imag**2, torch.tensor(1.0))"
   ]
  },
  {
   "cell_type": "markdown",
   "metadata": {},
   "source": [
    "# Time complexity"
   ]
  },
  {
   "cell_type": "code",
   "execution_count": 70,
   "metadata": {},
   "outputs": [
    {
     "name": "stdout",
     "output_type": "stream",
     "text": [
      "[1, 11, 21, 31, 41, 51, 61, 71, 81, 91, 101, 111, 121, 131, 141, 151, 161]\n"
     ]
    }
   ],
   "source": [
    "img_sizes: list[int] = [i for i in range(1, 163, 10)]\n",
    "print(img_sizes)\n",
    "n_repeats = 100\n",
    "oversampling = 1"
   ]
  },
  {
   "cell_type": "code",
   "execution_count": 116,
   "metadata": {},
   "outputs": [
    {
     "name": "stdout",
     "output_type": "stream",
     "text": [
      "Selected GPU 1 with 3793 MB free memory \n"
     ]
    },
    {
     "data": {
      "text/plain": [
       "device(type='cuda', index=1)"
      ]
     },
     "execution_count": 116,
     "metadata": {},
     "output_type": "execute_result"
    }
   ],
   "source": [
    "device = dinv.utils.get_freer_gpu() if torch.cuda.is_available() else \"cpu\"\n",
    "device"
   ]
  },
  {
   "cell_type": "code",
   "execution_count": 107,
   "metadata": {},
   "outputs": [
    {
     "name": "stderr",
     "output_type": "stream",
     "text": [
      "  0%|          | 0/17 [00:00<?, ?it/s]"
     ]
    },
    {
     "name": "stderr",
     "output_type": "stream",
     "text": [
      "100%|██████████| 17/17 [00:29<00:00,  1.71s/it]\n"
     ]
    }
   ],
   "source": [
    "# random model\n",
    "df_random_gpu = pd.DataFrame(\n",
    "    {\n",
    "        **{f\"img_size_{img_size}\": None for img_size in np.array(img_sizes)},\n",
    "    },\n",
    "    index=[0]\n",
    ")\n",
    "\n",
    "for img_size in tqdm(img_sizes):\n",
    "    x = load_url_image(url=url, img_size=img_size, grayscale=True, resize_mode=\"resize\", device=device)\n",
    "    x_phase = torch.exp(1j*x*torch.pi - 0.5j*torch.pi).to(device)\n",
    "    torch.cuda.synchronize()\n",
    "    for i in range(n_repeats):\n",
    "        #torch.cuda.empty_cache()\n",
    "        physics = dinv.physics.RandomPhaseRetrieval(\n",
    "            m = int(oversampling*torch.prod(torch.tensor(x.shape))),\n",
    "            img_shape= (1, img_size, img_size),\n",
    "            dtype = torch.cfloat,\n",
    "            device=device,\n",
    "        )\n",
    "        torch.cuda.synchronize()\n",
    "        init_time = time()\n",
    "        y = physics.forward(x_phase)\n",
    "        torch.cuda.synchronize() \n",
    "        df_random_gpu.loc[i, f\"img_size_{img_size}\"] = time() - init_time"
   ]
  },
  {
   "cell_type": "code",
   "execution_count": 104,
   "metadata": {},
   "outputs": [
    {
     "data": {
      "text/html": [
       "<div>\n",
       "<style scoped>\n",
       "    .dataframe tbody tr th:only-of-type {\n",
       "        vertical-align: middle;\n",
       "    }\n",
       "\n",
       "    .dataframe tbody tr th {\n",
       "        vertical-align: top;\n",
       "    }\n",
       "\n",
       "    .dataframe thead th {\n",
       "        text-align: right;\n",
       "    }\n",
       "</style>\n",
       "<table border=\"1\" class=\"dataframe\">\n",
       "  <thead>\n",
       "    <tr style=\"text-align: right;\">\n",
       "      <th></th>\n",
       "      <th>img_size_1</th>\n",
       "      <th>img_size_11</th>\n",
       "      <th>img_size_21</th>\n",
       "      <th>img_size_31</th>\n",
       "      <th>img_size_41</th>\n",
       "      <th>img_size_51</th>\n",
       "      <th>img_size_61</th>\n",
       "      <th>img_size_71</th>\n",
       "      <th>img_size_81</th>\n",
       "      <th>img_size_91</th>\n",
       "      <th>img_size_101</th>\n",
       "      <th>img_size_111</th>\n",
       "      <th>img_size_121</th>\n",
       "      <th>img_size_131</th>\n",
       "      <th>img_size_141</th>\n",
       "      <th>img_size_151</th>\n",
       "      <th>img_size_161</th>\n",
       "    </tr>\n",
       "  </thead>\n",
       "  <tbody>\n",
       "    <tr>\n",
       "      <th>0</th>\n",
       "      <td>0.000229</td>\n",
       "      <td>0.000563</td>\n",
       "      <td>0.000495</td>\n",
       "      <td>0.000353</td>\n",
       "      <td>0.000557</td>\n",
       "      <td>0.000379</td>\n",
       "      <td>0.000337</td>\n",
       "      <td>0.000307</td>\n",
       "      <td>0.000201</td>\n",
       "      <td>0.000261</td>\n",
       "      <td>0.000189</td>\n",
       "      <td>0.000199</td>\n",
       "      <td>0.000276</td>\n",
       "      <td>0.000228</td>\n",
       "      <td>0.000306</td>\n",
       "      <td>0.000369</td>\n",
       "      <td>0.000357</td>\n",
       "    </tr>\n",
       "    <tr>\n",
       "      <th>1</th>\n",
       "      <td>0.000151</td>\n",
       "      <td>0.000464</td>\n",
       "      <td>0.000457</td>\n",
       "      <td>0.000357</td>\n",
       "      <td>0.000476</td>\n",
       "      <td>0.000319</td>\n",
       "      <td>0.000299</td>\n",
       "      <td>0.000276</td>\n",
       "      <td>0.000196</td>\n",
       "      <td>0.000212</td>\n",
       "      <td>0.00017</td>\n",
       "      <td>0.00017</td>\n",
       "      <td>0.000184</td>\n",
       "      <td>0.000173</td>\n",
       "      <td>0.000192</td>\n",
       "      <td>0.000188</td>\n",
       "      <td>0.000191</td>\n",
       "    </tr>\n",
       "    <tr>\n",
       "      <th>2</th>\n",
       "      <td>0.000142</td>\n",
       "      <td>0.000453</td>\n",
       "      <td>0.000454</td>\n",
       "      <td>0.000334</td>\n",
       "      <td>0.000458</td>\n",
       "      <td>0.000312</td>\n",
       "      <td>0.000283</td>\n",
       "      <td>0.000268</td>\n",
       "      <td>0.000179</td>\n",
       "      <td>0.000204</td>\n",
       "      <td>0.000168</td>\n",
       "      <td>0.000166</td>\n",
       "      <td>0.000168</td>\n",
       "      <td>0.000169</td>\n",
       "      <td>0.000169</td>\n",
       "      <td>0.00017</td>\n",
       "      <td>0.000172</td>\n",
       "    </tr>\n",
       "    <tr>\n",
       "      <th>3</th>\n",
       "      <td>0.000138</td>\n",
       "      <td>0.00045</td>\n",
       "      <td>0.000453</td>\n",
       "      <td>0.000333</td>\n",
       "      <td>0.000456</td>\n",
       "      <td>0.000312</td>\n",
       "      <td>0.000281</td>\n",
       "      <td>0.000269</td>\n",
       "      <td>0.000177</td>\n",
       "      <td>0.000214</td>\n",
       "      <td>0.000166</td>\n",
       "      <td>0.000164</td>\n",
       "      <td>0.000166</td>\n",
       "      <td>0.000167</td>\n",
       "      <td>0.000167</td>\n",
       "      <td>0.000168</td>\n",
       "      <td>0.000172</td>\n",
       "    </tr>\n",
       "    <tr>\n",
       "      <th>4</th>\n",
       "      <td>0.000139</td>\n",
       "      <td>0.000449</td>\n",
       "      <td>0.00045</td>\n",
       "      <td>0.000332</td>\n",
       "      <td>0.000471</td>\n",
       "      <td>0.000316</td>\n",
       "      <td>0.000281</td>\n",
       "      <td>0.000264</td>\n",
       "      <td>0.000176</td>\n",
       "      <td>0.000191</td>\n",
       "      <td>0.000165</td>\n",
       "      <td>0.000167</td>\n",
       "      <td>0.000166</td>\n",
       "      <td>0.000165</td>\n",
       "      <td>0.000167</td>\n",
       "      <td>0.000169</td>\n",
       "      <td>0.000178</td>\n",
       "    </tr>\n",
       "    <tr>\n",
       "      <th>...</th>\n",
       "      <td>...</td>\n",
       "      <td>...</td>\n",
       "      <td>...</td>\n",
       "      <td>...</td>\n",
       "      <td>...</td>\n",
       "      <td>...</td>\n",
       "      <td>...</td>\n",
       "      <td>...</td>\n",
       "      <td>...</td>\n",
       "      <td>...</td>\n",
       "      <td>...</td>\n",
       "      <td>...</td>\n",
       "      <td>...</td>\n",
       "      <td>...</td>\n",
       "      <td>...</td>\n",
       "      <td>...</td>\n",
       "      <td>...</td>\n",
       "    </tr>\n",
       "    <tr>\n",
       "      <th>95</th>\n",
       "      <td>0.000157</td>\n",
       "      <td>0.000172</td>\n",
       "      <td>0.000186</td>\n",
       "      <td>0.000199</td>\n",
       "      <td>0.00019</td>\n",
       "      <td>0.000207</td>\n",
       "      <td>0.000196</td>\n",
       "      <td>0.000201</td>\n",
       "      <td>0.000164</td>\n",
       "      <td>0.000163</td>\n",
       "      <td>0.000163</td>\n",
       "      <td>0.000164</td>\n",
       "      <td>0.000165</td>\n",
       "      <td>0.000165</td>\n",
       "      <td>0.000167</td>\n",
       "      <td>0.000168</td>\n",
       "      <td>0.042277</td>\n",
       "    </tr>\n",
       "    <tr>\n",
       "      <th>96</th>\n",
       "      <td>0.00014</td>\n",
       "      <td>0.000173</td>\n",
       "      <td>0.000188</td>\n",
       "      <td>0.000202</td>\n",
       "      <td>0.000199</td>\n",
       "      <td>0.000196</td>\n",
       "      <td>0.000196</td>\n",
       "      <td>0.000199</td>\n",
       "      <td>0.000165</td>\n",
       "      <td>0.000162</td>\n",
       "      <td>0.000164</td>\n",
       "      <td>0.000164</td>\n",
       "      <td>0.000165</td>\n",
       "      <td>0.000165</td>\n",
       "      <td>0.000166</td>\n",
       "      <td>0.000166</td>\n",
       "      <td>0.042614</td>\n",
       "    </tr>\n",
       "    <tr>\n",
       "      <th>97</th>\n",
       "      <td>0.000137</td>\n",
       "      <td>0.000183</td>\n",
       "      <td>0.000187</td>\n",
       "      <td>0.000199</td>\n",
       "      <td>0.000185</td>\n",
       "      <td>0.000194</td>\n",
       "      <td>0.000196</td>\n",
       "      <td>0.000212</td>\n",
       "      <td>0.000164</td>\n",
       "      <td>0.000164</td>\n",
       "      <td>0.000163</td>\n",
       "      <td>0.000164</td>\n",
       "      <td>0.000166</td>\n",
       "      <td>0.000165</td>\n",
       "      <td>0.000166</td>\n",
       "      <td>0.000167</td>\n",
       "      <td>0.042644</td>\n",
       "    </tr>\n",
       "    <tr>\n",
       "      <th>98</th>\n",
       "      <td>0.000142</td>\n",
       "      <td>0.000169</td>\n",
       "      <td>0.000182</td>\n",
       "      <td>0.000194</td>\n",
       "      <td>0.000184</td>\n",
       "      <td>0.000194</td>\n",
       "      <td>0.000207</td>\n",
       "      <td>0.000189</td>\n",
       "      <td>0.000165</td>\n",
       "      <td>0.000163</td>\n",
       "      <td>0.000165</td>\n",
       "      <td>0.000163</td>\n",
       "      <td>0.000166</td>\n",
       "      <td>0.000173</td>\n",
       "      <td>0.000165</td>\n",
       "      <td>0.000167</td>\n",
       "      <td>0.042486</td>\n",
       "    </tr>\n",
       "    <tr>\n",
       "      <th>99</th>\n",
       "      <td>0.000137</td>\n",
       "      <td>0.000169</td>\n",
       "      <td>0.000183</td>\n",
       "      <td>0.000193</td>\n",
       "      <td>0.000184</td>\n",
       "      <td>0.000193</td>\n",
       "      <td>0.00019</td>\n",
       "      <td>0.00019</td>\n",
       "      <td>0.000163</td>\n",
       "      <td>0.000164</td>\n",
       "      <td>0.000164</td>\n",
       "      <td>0.000164</td>\n",
       "      <td>0.000163</td>\n",
       "      <td>0.000165</td>\n",
       "      <td>0.000165</td>\n",
       "      <td>0.000169</td>\n",
       "      <td>0.04252</td>\n",
       "    </tr>\n",
       "  </tbody>\n",
       "</table>\n",
       "<p>100 rows × 17 columns</p>\n",
       "</div>"
      ],
      "text/plain": [
       "   img_size_1 img_size_11 img_size_21 img_size_31 img_size_41 img_size_51  \\\n",
       "0    0.000229    0.000563    0.000495    0.000353    0.000557    0.000379   \n",
       "1    0.000151    0.000464    0.000457    0.000357    0.000476    0.000319   \n",
       "2    0.000142    0.000453    0.000454    0.000334    0.000458    0.000312   \n",
       "3    0.000138     0.00045    0.000453    0.000333    0.000456    0.000312   \n",
       "4    0.000139    0.000449     0.00045    0.000332    0.000471    0.000316   \n",
       "..        ...         ...         ...         ...         ...         ...   \n",
       "95   0.000157    0.000172    0.000186    0.000199     0.00019    0.000207   \n",
       "96    0.00014    0.000173    0.000188    0.000202    0.000199    0.000196   \n",
       "97   0.000137    0.000183    0.000187    0.000199    0.000185    0.000194   \n",
       "98   0.000142    0.000169    0.000182    0.000194    0.000184    0.000194   \n",
       "99   0.000137    0.000169    0.000183    0.000193    0.000184    0.000193   \n",
       "\n",
       "   img_size_61 img_size_71 img_size_81 img_size_91 img_size_101 img_size_111  \\\n",
       "0     0.000337    0.000307    0.000201    0.000261     0.000189     0.000199   \n",
       "1     0.000299    0.000276    0.000196    0.000212      0.00017      0.00017   \n",
       "2     0.000283    0.000268    0.000179    0.000204     0.000168     0.000166   \n",
       "3     0.000281    0.000269    0.000177    0.000214     0.000166     0.000164   \n",
       "4     0.000281    0.000264    0.000176    0.000191     0.000165     0.000167   \n",
       "..         ...         ...         ...         ...          ...          ...   \n",
       "95    0.000196    0.000201    0.000164    0.000163     0.000163     0.000164   \n",
       "96    0.000196    0.000199    0.000165    0.000162     0.000164     0.000164   \n",
       "97    0.000196    0.000212    0.000164    0.000164     0.000163     0.000164   \n",
       "98    0.000207    0.000189    0.000165    0.000163     0.000165     0.000163   \n",
       "99     0.00019     0.00019    0.000163    0.000164     0.000164     0.000164   \n",
       "\n",
       "   img_size_121 img_size_131 img_size_141 img_size_151 img_size_161  \n",
       "0      0.000276     0.000228     0.000306     0.000369     0.000357  \n",
       "1      0.000184     0.000173     0.000192     0.000188     0.000191  \n",
       "2      0.000168     0.000169     0.000169      0.00017     0.000172  \n",
       "3      0.000166     0.000167     0.000167     0.000168     0.000172  \n",
       "4      0.000166     0.000165     0.000167     0.000169     0.000178  \n",
       "..          ...          ...          ...          ...          ...  \n",
       "95     0.000165     0.000165     0.000167     0.000168     0.042277  \n",
       "96     0.000165     0.000165     0.000166     0.000166     0.042614  \n",
       "97     0.000166     0.000165     0.000166     0.000167     0.042644  \n",
       "98     0.000166     0.000173     0.000165     0.000167     0.042486  \n",
       "99     0.000163     0.000165     0.000165     0.000169      0.04252  \n",
       "\n",
       "[100 rows x 17 columns]"
      ]
     },
     "execution_count": 104,
     "metadata": {},
     "output_type": "execute_result"
    }
   ],
   "source": [
    "df_random_gpu"
   ]
  },
  {
   "cell_type": "code",
   "execution_count": 117,
   "metadata": {},
   "outputs": [
    {
     "name": "stderr",
     "output_type": "stream",
     "text": [
      "100%|██████████| 17/17 [00:04<00:00,  3.75it/s]\n"
     ]
    }
   ],
   "source": [
    "# pseudorandom model\n",
    "df_pseudorandom_gpu = pd.DataFrame(\n",
    "    {\n",
    "        **{f\"img_size_{img_size}\": None for img_size in np.array(img_sizes)},\n",
    "    },\n",
    "    index=[0]\n",
    ")\n",
    "\n",
    "for img_size in tqdm(img_sizes):\n",
    "    img_size = img_size\n",
    "    x = load_url_image(url=url, img_size=img_size, grayscale=True, resize_mode=\"resize\", device=device)\n",
    "    x_phase = torch.exp(1j*x*torch.pi - 0.5j*torch.pi).to(device)\n",
    "\n",
    "    torch.cuda.synchronize()\n",
    "    for i in range(n_repeats):\n",
    "        physics = dinv.physics.PseudoRandomPhaseRetrieval(\n",
    "            n_layers=2,\n",
    "            input_shape=(1, img_size, img_size),\n",
    "            output_shape=(1, int(math.sqrt(oversampling))*img_size, int(math.sqrt(oversampling))*img_size),\n",
    "            dtype = torch.cfloat,\n",
    "            device=device,\n",
    "        )\n",
    "        torch.cuda.synchronize()\n",
    "        init_time = time()\n",
    "        y = physics.forward(x_phase)\n",
    "        torch.cuda.synchronize() \n",
    "        df_pseudorandom_gpu.loc[i, f\"img_size_{img_size}\"] = time() - init_time"
   ]
  },
  {
   "cell_type": "code",
   "execution_count": 106,
   "metadata": {},
   "outputs": [
    {
     "data": {
      "text/html": [
       "<div>\n",
       "<style scoped>\n",
       "    .dataframe tbody tr th:only-of-type {\n",
       "        vertical-align: middle;\n",
       "    }\n",
       "\n",
       "    .dataframe tbody tr th {\n",
       "        vertical-align: top;\n",
       "    }\n",
       "\n",
       "    .dataframe thead th {\n",
       "        text-align: right;\n",
       "    }\n",
       "</style>\n",
       "<table border=\"1\" class=\"dataframe\">\n",
       "  <thead>\n",
       "    <tr style=\"text-align: right;\">\n",
       "      <th></th>\n",
       "      <th>img_size_1</th>\n",
       "      <th>img_size_11</th>\n",
       "      <th>img_size_21</th>\n",
       "      <th>img_size_31</th>\n",
       "      <th>img_size_41</th>\n",
       "      <th>img_size_51</th>\n",
       "      <th>img_size_61</th>\n",
       "      <th>img_size_71</th>\n",
       "      <th>img_size_81</th>\n",
       "      <th>img_size_91</th>\n",
       "      <th>img_size_101</th>\n",
       "      <th>img_size_111</th>\n",
       "      <th>img_size_121</th>\n",
       "      <th>img_size_131</th>\n",
       "      <th>img_size_141</th>\n",
       "      <th>img_size_151</th>\n",
       "      <th>img_size_161</th>\n",
       "    </tr>\n",
       "  </thead>\n",
       "  <tbody>\n",
       "    <tr>\n",
       "      <th>0</th>\n",
       "      <td>0.000594</td>\n",
       "      <td>0.000611</td>\n",
       "      <td>0.000388</td>\n",
       "      <td>0.000369</td>\n",
       "      <td>0.000353</td>\n",
       "      <td>0.00065</td>\n",
       "      <td>0.000615</td>\n",
       "      <td>0.000394</td>\n",
       "      <td>0.000606</td>\n",
       "      <td>0.000638</td>\n",
       "      <td>0.000479</td>\n",
       "      <td>0.000398</td>\n",
       "      <td>0.000607</td>\n",
       "      <td>0.000614</td>\n",
       "      <td>0.000665</td>\n",
       "      <td>0.000617</td>\n",
       "      <td>0.000722</td>\n",
       "    </tr>\n",
       "    <tr>\n",
       "      <th>1</th>\n",
       "      <td>0.000515</td>\n",
       "      <td>0.000603</td>\n",
       "      <td>0.000379</td>\n",
       "      <td>0.000359</td>\n",
       "      <td>0.000344</td>\n",
       "      <td>0.000621</td>\n",
       "      <td>0.000588</td>\n",
       "      <td>0.000386</td>\n",
       "      <td>0.00061</td>\n",
       "      <td>0.000633</td>\n",
       "      <td>0.000465</td>\n",
       "      <td>0.000381</td>\n",
       "      <td>0.000592</td>\n",
       "      <td>0.000599</td>\n",
       "      <td>0.000632</td>\n",
       "      <td>0.000597</td>\n",
       "      <td>0.000666</td>\n",
       "    </tr>\n",
       "    <tr>\n",
       "      <th>2</th>\n",
       "      <td>0.000506</td>\n",
       "      <td>0.000582</td>\n",
       "      <td>0.00038</td>\n",
       "      <td>0.000353</td>\n",
       "      <td>0.000343</td>\n",
       "      <td>0.000617</td>\n",
       "      <td>0.00059</td>\n",
       "      <td>0.000379</td>\n",
       "      <td>0.000585</td>\n",
       "      <td>0.000621</td>\n",
       "      <td>0.000463</td>\n",
       "      <td>0.000378</td>\n",
       "      <td>0.000606</td>\n",
       "      <td>0.000592</td>\n",
       "      <td>0.000626</td>\n",
       "      <td>0.000589</td>\n",
       "      <td>0.000652</td>\n",
       "    </tr>\n",
       "    <tr>\n",
       "      <th>3</th>\n",
       "      <td>0.000505</td>\n",
       "      <td>0.000574</td>\n",
       "      <td>0.000387</td>\n",
       "      <td>0.000356</td>\n",
       "      <td>0.000338</td>\n",
       "      <td>0.000633</td>\n",
       "      <td>0.000582</td>\n",
       "      <td>0.000375</td>\n",
       "      <td>0.000583</td>\n",
       "      <td>0.000657</td>\n",
       "      <td>0.000464</td>\n",
       "      <td>0.000393</td>\n",
       "      <td>0.000584</td>\n",
       "      <td>0.000586</td>\n",
       "      <td>0.000621</td>\n",
       "      <td>0.000601</td>\n",
       "      <td>0.000656</td>\n",
       "    </tr>\n",
       "    <tr>\n",
       "      <th>4</th>\n",
       "      <td>0.000505</td>\n",
       "      <td>0.000581</td>\n",
       "      <td>0.00037</td>\n",
       "      <td>0.000348</td>\n",
       "      <td>0.000339</td>\n",
       "      <td>0.001151</td>\n",
       "      <td>0.000584</td>\n",
       "      <td>0.000381</td>\n",
       "      <td>0.000585</td>\n",
       "      <td>0.000616</td>\n",
       "      <td>0.000483</td>\n",
       "      <td>0.00038</td>\n",
       "      <td>0.000583</td>\n",
       "      <td>0.000606</td>\n",
       "      <td>0.000622</td>\n",
       "      <td>0.000611</td>\n",
       "      <td>0.000634</td>\n",
       "    </tr>\n",
       "    <tr>\n",
       "      <th>...</th>\n",
       "      <td>...</td>\n",
       "      <td>...</td>\n",
       "      <td>...</td>\n",
       "      <td>...</td>\n",
       "      <td>...</td>\n",
       "      <td>...</td>\n",
       "      <td>...</td>\n",
       "      <td>...</td>\n",
       "      <td>...</td>\n",
       "      <td>...</td>\n",
       "      <td>...</td>\n",
       "      <td>...</td>\n",
       "      <td>...</td>\n",
       "      <td>...</td>\n",
       "      <td>...</td>\n",
       "      <td>...</td>\n",
       "      <td>...</td>\n",
       "    </tr>\n",
       "    <tr>\n",
       "      <th>95</th>\n",
       "      <td>0.000174</td>\n",
       "      <td>0.00023</td>\n",
       "      <td>0.00023</td>\n",
       "      <td>0.000223</td>\n",
       "      <td>0.000243</td>\n",
       "      <td>0.000241</td>\n",
       "      <td>0.000233</td>\n",
       "      <td>0.000261</td>\n",
       "      <td>0.000245</td>\n",
       "      <td>0.000244</td>\n",
       "      <td>0.000255</td>\n",
       "      <td>0.000247</td>\n",
       "      <td>0.000233</td>\n",
       "      <td>0.000217</td>\n",
       "      <td>0.00023</td>\n",
       "      <td>0.000225</td>\n",
       "      <td>0.000287</td>\n",
       "    </tr>\n",
       "    <tr>\n",
       "      <th>96</th>\n",
       "      <td>0.000176</td>\n",
       "      <td>0.00023</td>\n",
       "      <td>0.000229</td>\n",
       "      <td>0.000224</td>\n",
       "      <td>0.000242</td>\n",
       "      <td>0.000241</td>\n",
       "      <td>0.000249</td>\n",
       "      <td>0.000246</td>\n",
       "      <td>0.00023</td>\n",
       "      <td>0.000242</td>\n",
       "      <td>0.000244</td>\n",
       "      <td>0.000248</td>\n",
       "      <td>0.000229</td>\n",
       "      <td>0.000219</td>\n",
       "      <td>0.000231</td>\n",
       "      <td>0.000234</td>\n",
       "      <td>0.000288</td>\n",
       "    </tr>\n",
       "    <tr>\n",
       "      <th>97</th>\n",
       "      <td>0.000189</td>\n",
       "      <td>0.000253</td>\n",
       "      <td>0.000229</td>\n",
       "      <td>0.000221</td>\n",
       "      <td>0.000256</td>\n",
       "      <td>0.000241</td>\n",
       "      <td>0.000246</td>\n",
       "      <td>0.000249</td>\n",
       "      <td>0.000228</td>\n",
       "      <td>0.000243</td>\n",
       "      <td>0.000243</td>\n",
       "      <td>0.000278</td>\n",
       "      <td>0.000229</td>\n",
       "      <td>0.000218</td>\n",
       "      <td>0.000231</td>\n",
       "      <td>0.000236</td>\n",
       "      <td>0.000312</td>\n",
       "    </tr>\n",
       "    <tr>\n",
       "      <th>98</th>\n",
       "      <td>0.000176</td>\n",
       "      <td>0.000248</td>\n",
       "      <td>0.000229</td>\n",
       "      <td>0.00022</td>\n",
       "      <td>0.000238</td>\n",
       "      <td>0.000244</td>\n",
       "      <td>0.000229</td>\n",
       "      <td>0.000229</td>\n",
       "      <td>0.000227</td>\n",
       "      <td>0.000243</td>\n",
       "      <td>0.000241</td>\n",
       "      <td>0.000248</td>\n",
       "      <td>0.000232</td>\n",
       "      <td>0.000217</td>\n",
       "      <td>0.000226</td>\n",
       "      <td>0.000221</td>\n",
       "      <td>0.000316</td>\n",
       "    </tr>\n",
       "    <tr>\n",
       "      <th>99</th>\n",
       "      <td>0.000176</td>\n",
       "      <td>0.000227</td>\n",
       "      <td>0.00023</td>\n",
       "      <td>0.000221</td>\n",
       "      <td>0.000237</td>\n",
       "      <td>0.00025</td>\n",
       "      <td>0.00023</td>\n",
       "      <td>0.000229</td>\n",
       "      <td>0.000228</td>\n",
       "      <td>0.000243</td>\n",
       "      <td>0.000242</td>\n",
       "      <td>0.000247</td>\n",
       "      <td>0.000228</td>\n",
       "      <td>0.000216</td>\n",
       "      <td>0.000223</td>\n",
       "      <td>0.000219</td>\n",
       "      <td>0.000285</td>\n",
       "    </tr>\n",
       "  </tbody>\n",
       "</table>\n",
       "<p>100 rows × 17 columns</p>\n",
       "</div>"
      ],
      "text/plain": [
       "   img_size_1 img_size_11 img_size_21 img_size_31 img_size_41 img_size_51  \\\n",
       "0    0.000594    0.000611    0.000388    0.000369    0.000353     0.00065   \n",
       "1    0.000515    0.000603    0.000379    0.000359    0.000344    0.000621   \n",
       "2    0.000506    0.000582     0.00038    0.000353    0.000343    0.000617   \n",
       "3    0.000505    0.000574    0.000387    0.000356    0.000338    0.000633   \n",
       "4    0.000505    0.000581     0.00037    0.000348    0.000339    0.001151   \n",
       "..        ...         ...         ...         ...         ...         ...   \n",
       "95   0.000174     0.00023     0.00023    0.000223    0.000243    0.000241   \n",
       "96   0.000176     0.00023    0.000229    0.000224    0.000242    0.000241   \n",
       "97   0.000189    0.000253    0.000229    0.000221    0.000256    0.000241   \n",
       "98   0.000176    0.000248    0.000229     0.00022    0.000238    0.000244   \n",
       "99   0.000176    0.000227     0.00023    0.000221    0.000237     0.00025   \n",
       "\n",
       "   img_size_61 img_size_71 img_size_81 img_size_91 img_size_101 img_size_111  \\\n",
       "0     0.000615    0.000394    0.000606    0.000638     0.000479     0.000398   \n",
       "1     0.000588    0.000386     0.00061    0.000633     0.000465     0.000381   \n",
       "2      0.00059    0.000379    0.000585    0.000621     0.000463     0.000378   \n",
       "3     0.000582    0.000375    0.000583    0.000657     0.000464     0.000393   \n",
       "4     0.000584    0.000381    0.000585    0.000616     0.000483      0.00038   \n",
       "..         ...         ...         ...         ...          ...          ...   \n",
       "95    0.000233    0.000261    0.000245    0.000244     0.000255     0.000247   \n",
       "96    0.000249    0.000246     0.00023    0.000242     0.000244     0.000248   \n",
       "97    0.000246    0.000249    0.000228    0.000243     0.000243     0.000278   \n",
       "98    0.000229    0.000229    0.000227    0.000243     0.000241     0.000248   \n",
       "99     0.00023    0.000229    0.000228    0.000243     0.000242     0.000247   \n",
       "\n",
       "   img_size_121 img_size_131 img_size_141 img_size_151 img_size_161  \n",
       "0      0.000607     0.000614     0.000665     0.000617     0.000722  \n",
       "1      0.000592     0.000599     0.000632     0.000597     0.000666  \n",
       "2      0.000606     0.000592     0.000626     0.000589     0.000652  \n",
       "3      0.000584     0.000586     0.000621     0.000601     0.000656  \n",
       "4      0.000583     0.000606     0.000622     0.000611     0.000634  \n",
       "..          ...          ...          ...          ...          ...  \n",
       "95     0.000233     0.000217      0.00023     0.000225     0.000287  \n",
       "96     0.000229     0.000219     0.000231     0.000234     0.000288  \n",
       "97     0.000229     0.000218     0.000231     0.000236     0.000312  \n",
       "98     0.000232     0.000217     0.000226     0.000221     0.000316  \n",
       "99     0.000228     0.000216     0.000223     0.000219     0.000285  \n",
       "\n",
       "[100 rows x 17 columns]"
      ]
     },
     "execution_count": 106,
     "metadata": {},
     "output_type": "execute_result"
    }
   ],
   "source": [
    "df_pseudorandom_gpu"
   ]
  },
  {
   "cell_type": "code",
   "execution_count": 111,
   "metadata": {},
   "outputs": [],
   "source": [
    "device = 'cpu'"
   ]
  },
  {
   "cell_type": "code",
   "execution_count": 81,
   "metadata": {},
   "outputs": [
    {
     "name": "stderr",
     "output_type": "stream",
     "text": [
      "100%|██████████| 17/17 [1:11:08<00:00, 251.08s/it]\n"
     ]
    }
   ],
   "source": [
    "# random model\n",
    "df_random_cpu = pd.DataFrame(\n",
    "    {\n",
    "        **{f\"img_size_{img_size}\": None for img_size in np.array(img_sizes)},\n",
    "    },\n",
    "    index=[0]\n",
    ")\n",
    "\n",
    "for img_size in tqdm(img_sizes):\n",
    "    x = load_url_image(url=url, img_size=img_size, grayscale=True, resize_mode=\"resize\", device=device)\n",
    "    x_phase = torch.exp(1j*x*torch.pi - 0.5j*torch.pi).to(device)\n",
    "\n",
    "    for i in range(n_repeats):\n",
    "        physics = dinv.physics.RandomPhaseRetrieval(\n",
    "            m = int(oversampling*torch.prod(torch.tensor(x.shape))),\n",
    "            img_shape= (1, img_size, img_size),\n",
    "            dtype = torch.cfloat,\n",
    "            device=device,\n",
    "        )\n",
    "        init_time = time()\n",
    "        y = physics.forward(x_phase)\n",
    "        df_random_cpu.loc[i, f\"img_size_{img_size}\"] = time() - init_time"
   ]
  },
  {
   "cell_type": "code",
   "execution_count": 114,
   "metadata": {},
   "outputs": [
    {
     "name": "stderr",
     "output_type": "stream",
     "text": [
      "  0%|          | 0/17 [00:00<?, ?it/s]"
     ]
    },
    {
     "name": "stderr",
     "output_type": "stream",
     "text": [
      "100%|██████████| 17/17 [00:06<00:00,  2.66it/s]\n"
     ]
    }
   ],
   "source": [
    "# pseudorandom model\n",
    "df_pseudorandom_cpu = pd.DataFrame(\n",
    "    {\n",
    "        **{f\"img_size_{img_size}\": None for img_size in np.array(img_sizes)},\n",
    "    },\n",
    "    index=[0]\n",
    ")\n",
    "\n",
    "for img_size in tqdm(img_sizes):\n",
    "    img_size = img_size\n",
    "    x = load_url_image(url=url, img_size=img_size, grayscale=True, resize_mode=\"resize\", device=device)\n",
    "    x_phase = torch.exp(1j*x*torch.pi - 0.5j*torch.pi).to(device)\n",
    "\n",
    "    for i in range(n_repeats):\n",
    "        physics = dinv.physics.PseudoRandomPhaseRetrieval(\n",
    "            n_layers=2,\n",
    "            input_shape=(1, img_size, img_size),\n",
    "            output_shape=(1, int(math.sqrt(oversampling))*img_size, int(math.sqrt(oversampling))*img_size),\n",
    "            dtype = torch.cfloat,\n",
    "            device=device,\n",
    "        )\n",
    "        init_time = time()\n",
    "        y = physics.forward(x_phase)\n",
    "        df_pseudorandom_cpu.loc[i, f\"img_size_{img_size}\"] = time() - init_time"
   ]
  },
  {
   "cell_type": "code",
   "execution_count": 83,
   "metadata": {},
   "outputs": [
    {
     "data": {
      "text/plain": [
       "array([0.0001290130615234375, 0.0001510810852050781,\n",
       "       0.00017380714416503906, 0.0002672910690307617,\n",
       "       0.0005184388160705566, 0.0008750557899475098,\n",
       "       0.0016055941581726075, 0.0022009634971618653,\n",
       "       0.0036849331855773925, 0.0050679826736450195, 0.007164092063903809,\n",
       "       0.010233995914459228, 0.014109177589416504, 0.019362120628356932,\n",
       "       0.024639775753021242, 0.03548391342163086, 0.045135767459869386],\n",
       "      dtype=object)"
      ]
     },
     "execution_count": 83,
     "metadata": {},
     "output_type": "execute_result"
    }
   ],
   "source": [
    "df_random_cpu.mean(axis=0).values"
   ]
  },
  {
   "cell_type": "code",
   "execution_count": 85,
   "metadata": {},
   "outputs": [],
   "source": [
    "pixels = [i**2 for i in img_sizes]"
   ]
  },
  {
   "cell_type": "code",
   "execution_count": 126,
   "metadata": {},
   "outputs": [
    {
     "data": {
      "image/png": "[encoded data removed]",
      "text/plain": [
       "<Figure size 640x480 with 1 Axes>"
      ]
     },
     "metadata": {},
     "output_type": "display_data"
    }
   ],
   "source": [
    "plt.plot(pixels,df_random_cpu.mean(axis=0),label='Random (CPU)')\n",
    "plt.plot(pixels,df_random_gpu.mean(axis=0),label='Random (GPU)')\n",
    "plt.plot(pixels,df_pseudorandom_cpu.mean(axis=0),label='Pseudorandom (CPU)')\n",
    "plt.plot(pixels,df_pseudorandom_gpu.mean(axis=0),label='Pseudorandom (GPU)')\n",
    "plt.xlabel('Image size (pixels)')\n",
    "plt.ylabel('Forward time (s)')\n",
    "plt.xscale('log')\n",
    "plt.yscale('log')\n",
    "plt.title(f'Time Complexity of Forward Model')\n",
    "plt.legend()\n",
    "plt.savefig('time.svg')\n",
    "plt.show()"
   ]
  },
  {
   "cell_type": "code",
   "execution_count": 127,
   "metadata": {},
   "outputs": [],
   "source": [
    "# save data\n",
    "df_random_cpu.to_csv('df_random_cpu.csv')\n",
    "df_random_gpu.to_csv('df_random_gpu.csv')\n",
    "df_pseudorandom_cpu.to_csv('df_pseudorandom_cpu.csv')\n",
    "df_pseudorandom_gpu.to_csv('df_pseudorandom_gpu.csv')"
   ]
  },
  {
   "cell_type": "code",
   "execution_count": 55,
   "metadata": {},
   "outputs": [
    {
     "name": "stdout",
     "output_type": "stream",
     "text": [
      "Random (CPU)\n"
     ]
    },
    {
     "ename": "ValueError",
     "evalue": "All arrays must be of the same length",
     "output_type": "error",
     "traceback": [
      "\u001b[0;31m---------------------------------------------------------------------------\u001b[0m",
      "\u001b[0;31mValueError\u001b[0m                                Traceback (most recent call last)",
      "Cell \u001b[0;32mIn[55], line 1\u001b[0m\n\u001b[0;32m----> 1\u001b[0m \u001b[43mplot_error_bars\u001b[49m\u001b[43m(\u001b[49m\u001b[43m[\u001b[49m\u001b[43mpixels\u001b[49m\u001b[43m]\u001b[49m\u001b[43m \u001b[49m\u001b[38;5;241;43m*\u001b[39;49m\u001b[43m \u001b[49m\u001b[38;5;241;43m4\u001b[39;49m\u001b[43m,\u001b[49m\n\u001b[1;32m      2\u001b[0m \u001b[43m                \u001b[49m\u001b[43m[\u001b[49m\u001b[43mdf_random_cpu\u001b[49m\u001b[43m,\u001b[49m\u001b[43m \u001b[49m\u001b[43mdf_random_gpu\u001b[49m\u001b[43m,\u001b[49m\u001b[43m \u001b[49m\u001b[43mdf_pseudorandom_cpu\u001b[49m\u001b[43m,\u001b[49m\u001b[43m \u001b[49m\u001b[43mdf_pseudorandom_gpu\u001b[49m\u001b[43m]\u001b[49m\u001b[43m,\u001b[49m\n\u001b[1;32m      3\u001b[0m \u001b[43m                \u001b[49m\u001b[43m[\u001b[49m\u001b[38;5;124;43m'\u001b[39;49m\u001b[38;5;124;43mRandom (CPU)\u001b[39;49m\u001b[38;5;124;43m'\u001b[39;49m\u001b[43m,\u001b[49m\u001b[43m \u001b[49m\u001b[38;5;124;43m'\u001b[39;49m\u001b[38;5;124;43mRandom (GPU)\u001b[39;49m\u001b[38;5;124;43m'\u001b[39;49m\u001b[43m,\u001b[49m\u001b[43m \u001b[49m\u001b[38;5;124;43m'\u001b[39;49m\u001b[38;5;124;43mPseudorandom (CPU)\u001b[39;49m\u001b[38;5;124;43m'\u001b[39;49m\u001b[43m,\u001b[49m\u001b[43m \u001b[49m\u001b[38;5;124;43m'\u001b[39;49m\u001b[38;5;124;43mPseudorandom (GPU)\u001b[39;49m\u001b[38;5;124;43m'\u001b[39;49m\u001b[43m]\u001b[49m\u001b[43m,\u001b[49m\n\u001b[1;32m      4\u001b[0m \u001b[43m                \u001b[49m\u001b[43mtitle\u001b[49m\u001b[43m \u001b[49m\u001b[38;5;241;43m=\u001b[39;49m\u001b[43m \u001b[49m\u001b[38;5;124;43mf\u001b[39;49m\u001b[38;5;124;43m'\u001b[39;49m\u001b[38;5;124;43mForward time (s) vs Image size (oversampling=\u001b[39;49m\u001b[38;5;132;43;01m{\u001b[39;49;00m\u001b[43moversampling\u001b[49m\u001b[38;5;132;43;01m}\u001b[39;49;00m\u001b[38;5;124;43m)\u001b[39;49m\u001b[38;5;124;43m'\u001b[39;49m\u001b[43m,\u001b[49m\n\u001b[1;32m      5\u001b[0m \u001b[43m                \u001b[49m\u001b[43mxlabel\u001b[49m\u001b[43m \u001b[49m\u001b[38;5;241;43m=\u001b[39;49m\u001b[43m \u001b[49m\u001b[38;5;124;43m'\u001b[39;49m\u001b[38;5;124;43mImage size\u001b[39;49m\u001b[38;5;124;43m'\u001b[39;49m\u001b[43m,\u001b[49m\n\u001b[1;32m      6\u001b[0m \u001b[43m                \u001b[49m\u001b[43mxscale\u001b[49m\u001b[43m \u001b[49m\u001b[38;5;241;43m=\u001b[39;49m\u001b[43m \u001b[49m\u001b[38;5;124;43m'\u001b[39;49m\u001b[38;5;124;43mlog\u001b[39;49m\u001b[38;5;124;43m'\u001b[39;49m\u001b[43m,\u001b[49m\n\u001b[1;32m      7\u001b[0m \u001b[43m                \u001b[49m\u001b[43mylabel\u001b[49m\u001b[43m \u001b[49m\u001b[38;5;241;43m=\u001b[39;49m\u001b[43m \u001b[49m\u001b[38;5;124;43m'\u001b[39;49m\u001b[38;5;124;43mForward time (s)\u001b[39;49m\u001b[38;5;124;43m'\u001b[39;49m\u001b[43m,\u001b[49m\n\u001b[1;32m      8\u001b[0m \u001b[43m                \u001b[49m\u001b[43myscale\u001b[49m\u001b[43m \u001b[49m\u001b[38;5;241;43m=\u001b[39;49m\u001b[43m \u001b[49m\u001b[38;5;124;43m'\u001b[39;49m\u001b[38;5;124;43mlog\u001b[39;49m\u001b[38;5;124;43m'\u001b[39;49m\u001b[43m,\u001b[49m\n\u001b[1;32m      9\u001b[0m \u001b[43m                \u001b[49m\u001b[43maxis\u001b[49m\u001b[43m \u001b[49m\u001b[38;5;241;43m=\u001b[39;49m\u001b[43m \u001b[49m\u001b[38;5;241;43m0\u001b[39;49m\u001b[43m)\u001b[49m\n",
      "File \u001b[0;32m~/workspaces/deepinv/deepinv/optim/phase_retrieval.py:180\u001b[0m, in \u001b[0;36mplot_error_bars\u001b[0;34m(oversamplings, datasets, labels, axis, title, xlabel, ylabel, xscale, yscale, save)\u001b[0m\n\u001b[1;32m    177\u001b[0m yerr_upper \u001b[38;5;241m=\u001b[39m max_vals \u001b[38;5;241m-\u001b[39m avg_vals\n\u001b[1;32m    179\u001b[0m \u001b[38;5;66;03m# Prepare data for plotting\u001b[39;00m\n\u001b[0;32m--> 180\u001b[0m df \u001b[38;5;241m=\u001b[39m \u001b[43mpd\u001b[49m\u001b[38;5;241;43m.\u001b[39;49m\u001b[43mDataFrame\u001b[49m\u001b[43m(\u001b[49m\n\u001b[1;32m    181\u001b[0m \u001b[43m    \u001b[49m\u001b[43m{\u001b[49m\n\u001b[1;32m    182\u001b[0m \u001b[43m        \u001b[49m\u001b[38;5;124;43m\"\u001b[39;49m\u001b[38;5;124;43mx\u001b[39;49m\u001b[38;5;124;43m\"\u001b[39;49m\u001b[43m:\u001b[49m\u001b[43m \u001b[49m\u001b[43moversampling\u001b[49m\u001b[43m,\u001b[49m\n\u001b[1;32m    183\u001b[0m \u001b[43m        \u001b[49m\u001b[38;5;124;43m\"\u001b[39;49m\u001b[38;5;124;43mavg\u001b[39;49m\u001b[38;5;124;43m\"\u001b[39;49m\u001b[43m:\u001b[49m\u001b[43m \u001b[49m\u001b[43mavg_vals\u001b[49m\u001b[43m,\u001b[49m\n\u001b[1;32m    184\u001b[0m \u001b[43m        \u001b[49m\u001b[38;5;124;43m\"\u001b[39;49m\u001b[38;5;124;43myerr_lower\u001b[39;49m\u001b[38;5;124;43m\"\u001b[39;49m\u001b[43m:\u001b[49m\u001b[43m \u001b[49m\u001b[43myerr_lower\u001b[49m\u001b[43m,\u001b[49m\n\u001b[1;32m    185\u001b[0m \u001b[43m        \u001b[49m\u001b[38;5;124;43m\"\u001b[39;49m\u001b[38;5;124;43myerr_upper\u001b[39;49m\u001b[38;5;124;43m\"\u001b[39;49m\u001b[43m:\u001b[49m\u001b[43m \u001b[49m\u001b[43myerr_upper\u001b[49m\u001b[43m,\u001b[49m\n\u001b[1;32m    186\u001b[0m \u001b[43m    \u001b[49m\u001b[43m}\u001b[49m\n\u001b[1;32m    187\u001b[0m \u001b[43m\u001b[49m\u001b[43m)\u001b[49m\n\u001b[1;32m    189\u001b[0m \u001b[38;5;66;03m# Plotting\u001b[39;00m\n\u001b[1;32m    190\u001b[0m color \u001b[38;5;241m=\u001b[39m palette[i]\n",
      "File \u001b[0;32m~/.conda/envs/deepinv/lib/python3.9/site-packages/pandas/core/frame.py:778\u001b[0m, in \u001b[0;36mDataFrame.__init__\u001b[0;34m(self, data, index, columns, dtype, copy)\u001b[0m\n\u001b[1;32m    772\u001b[0m     mgr \u001b[38;5;241m=\u001b[39m \u001b[38;5;28mself\u001b[39m\u001b[38;5;241m.\u001b[39m_init_mgr(\n\u001b[1;32m    773\u001b[0m         data, axes\u001b[38;5;241m=\u001b[39m{\u001b[38;5;124m\"\u001b[39m\u001b[38;5;124mindex\u001b[39m\u001b[38;5;124m\"\u001b[39m: index, \u001b[38;5;124m\"\u001b[39m\u001b[38;5;124mcolumns\u001b[39m\u001b[38;5;124m\"\u001b[39m: columns}, dtype\u001b[38;5;241m=\u001b[39mdtype, copy\u001b[38;5;241m=\u001b[39mcopy\n\u001b[1;32m    774\u001b[0m     )\n\u001b[1;32m    776\u001b[0m \u001b[38;5;28;01melif\u001b[39;00m \u001b[38;5;28misinstance\u001b[39m(data, \u001b[38;5;28mdict\u001b[39m):\n\u001b[1;32m    777\u001b[0m     \u001b[38;5;66;03m# GH#38939 de facto copy defaults to False only in non-dict cases\u001b[39;00m\n\u001b[0;32m--> 778\u001b[0m     mgr \u001b[38;5;241m=\u001b[39m \u001b[43mdict_to_mgr\u001b[49m\u001b[43m(\u001b[49m\u001b[43mdata\u001b[49m\u001b[43m,\u001b[49m\u001b[43m \u001b[49m\u001b[43mindex\u001b[49m\u001b[43m,\u001b[49m\u001b[43m \u001b[49m\u001b[43mcolumns\u001b[49m\u001b[43m,\u001b[49m\u001b[43m \u001b[49m\u001b[43mdtype\u001b[49m\u001b[38;5;241;43m=\u001b[39;49m\u001b[43mdtype\u001b[49m\u001b[43m,\u001b[49m\u001b[43m \u001b[49m\u001b[43mcopy\u001b[49m\u001b[38;5;241;43m=\u001b[39;49m\u001b[43mcopy\u001b[49m\u001b[43m,\u001b[49m\u001b[43m \u001b[49m\u001b[43mtyp\u001b[49m\u001b[38;5;241;43m=\u001b[39;49m\u001b[43mmanager\u001b[49m\u001b[43m)\u001b[49m\n\u001b[1;32m    779\u001b[0m \u001b[38;5;28;01melif\u001b[39;00m \u001b[38;5;28misinstance\u001b[39m(data, ma\u001b[38;5;241m.\u001b[39mMaskedArray):\n\u001b[1;32m    780\u001b[0m     \u001b[38;5;28;01mfrom\u001b[39;00m \u001b[38;5;21;01mnumpy\u001b[39;00m\u001b[38;5;21;01m.\u001b[39;00m\u001b[38;5;21;01mma\u001b[39;00m \u001b[38;5;28;01mimport\u001b[39;00m mrecords\n",
      "File \u001b[0;32m~/.conda/envs/deepinv/lib/python3.9/site-packages/pandas/core/internals/construction.py:503\u001b[0m, in \u001b[0;36mdict_to_mgr\u001b[0;34m(data, index, columns, dtype, typ, copy)\u001b[0m\n\u001b[1;32m    499\u001b[0m     \u001b[38;5;28;01melse\u001b[39;00m:\n\u001b[1;32m    500\u001b[0m         \u001b[38;5;66;03m# dtype check to exclude e.g. range objects, scalars\u001b[39;00m\n\u001b[1;32m    501\u001b[0m         arrays \u001b[38;5;241m=\u001b[39m [x\u001b[38;5;241m.\u001b[39mcopy() \u001b[38;5;28;01mif\u001b[39;00m \u001b[38;5;28mhasattr\u001b[39m(x, \u001b[38;5;124m\"\u001b[39m\u001b[38;5;124mdtype\u001b[39m\u001b[38;5;124m\"\u001b[39m) \u001b[38;5;28;01melse\u001b[39;00m x \u001b[38;5;28;01mfor\u001b[39;00m x \u001b[38;5;129;01min\u001b[39;00m arrays]\n\u001b[0;32m--> 503\u001b[0m \u001b[38;5;28;01mreturn\u001b[39;00m \u001b[43marrays_to_mgr\u001b[49m\u001b[43m(\u001b[49m\u001b[43marrays\u001b[49m\u001b[43m,\u001b[49m\u001b[43m \u001b[49m\u001b[43mcolumns\u001b[49m\u001b[43m,\u001b[49m\u001b[43m \u001b[49m\u001b[43mindex\u001b[49m\u001b[43m,\u001b[49m\u001b[43m \u001b[49m\u001b[43mdtype\u001b[49m\u001b[38;5;241;43m=\u001b[39;49m\u001b[43mdtype\u001b[49m\u001b[43m,\u001b[49m\u001b[43m \u001b[49m\u001b[43mtyp\u001b[49m\u001b[38;5;241;43m=\u001b[39;49m\u001b[43mtyp\u001b[49m\u001b[43m,\u001b[49m\u001b[43m \u001b[49m\u001b[43mconsolidate\u001b[49m\u001b[38;5;241;43m=\u001b[39;49m\u001b[43mcopy\u001b[49m\u001b[43m)\u001b[49m\n",
      "File \u001b[0;32m~/.conda/envs/deepinv/lib/python3.9/site-packages/pandas/core/internals/construction.py:114\u001b[0m, in \u001b[0;36marrays_to_mgr\u001b[0;34m(arrays, columns, index, dtype, verify_integrity, typ, consolidate)\u001b[0m\n\u001b[1;32m    111\u001b[0m \u001b[38;5;28;01mif\u001b[39;00m verify_integrity:\n\u001b[1;32m    112\u001b[0m     \u001b[38;5;66;03m# figure out the index, if necessary\u001b[39;00m\n\u001b[1;32m    113\u001b[0m     \u001b[38;5;28;01mif\u001b[39;00m index \u001b[38;5;129;01mis\u001b[39;00m \u001b[38;5;28;01mNone\u001b[39;00m:\n\u001b[0;32m--> 114\u001b[0m         index \u001b[38;5;241m=\u001b[39m \u001b[43m_extract_index\u001b[49m\u001b[43m(\u001b[49m\u001b[43marrays\u001b[49m\u001b[43m)\u001b[49m\n\u001b[1;32m    115\u001b[0m     \u001b[38;5;28;01melse\u001b[39;00m:\n\u001b[1;32m    116\u001b[0m         index \u001b[38;5;241m=\u001b[39m ensure_index(index)\n",
      "File \u001b[0;32m~/.conda/envs/deepinv/lib/python3.9/site-packages/pandas/core/internals/construction.py:677\u001b[0m, in \u001b[0;36m_extract_index\u001b[0;34m(data)\u001b[0m\n\u001b[1;32m    675\u001b[0m lengths \u001b[38;5;241m=\u001b[39m \u001b[38;5;28mlist\u001b[39m(\u001b[38;5;28mset\u001b[39m(raw_lengths))\n\u001b[1;32m    676\u001b[0m \u001b[38;5;28;01mif\u001b[39;00m \u001b[38;5;28mlen\u001b[39m(lengths) \u001b[38;5;241m>\u001b[39m \u001b[38;5;241m1\u001b[39m:\n\u001b[0;32m--> 677\u001b[0m     \u001b[38;5;28;01mraise\u001b[39;00m \u001b[38;5;167;01mValueError\u001b[39;00m(\u001b[38;5;124m\"\u001b[39m\u001b[38;5;124mAll arrays must be of the same length\u001b[39m\u001b[38;5;124m\"\u001b[39m)\n\u001b[1;32m    679\u001b[0m \u001b[38;5;28;01mif\u001b[39;00m have_dicts:\n\u001b[1;32m    680\u001b[0m     \u001b[38;5;28;01mraise\u001b[39;00m \u001b[38;5;167;01mValueError\u001b[39;00m(\n\u001b[1;32m    681\u001b[0m         \u001b[38;5;124m\"\u001b[39m\u001b[38;5;124mMixing dicts with non-Series may lead to ambiguous ordering.\u001b[39m\u001b[38;5;124m\"\u001b[39m\n\u001b[1;32m    682\u001b[0m     )\n",
      "\u001b[0;31mValueError\u001b[0m: All arrays must be of the same length"
     ]
    },
    {
     "data": {
      "text/plain": [
       "<Figure size 1000x600 with 0 Axes>"
      ]
     },
     "metadata": {},
     "output_type": "display_data"
    }
   ],
   "source": [
    "plot_error_bars([pixels] * 4,\n",
    "                [df_random_cpu, df_random_gpu, df_pseudorandom_cpu, df_pseudorandom_gpu],\n",
    "                ['Random (CPU)', 'Random (GPU)', 'Pseudorandom (CPU)', 'Pseudorandom (GPU)'],\n",
    "                title = f'Forward time (s) vs Image size (oversampling={oversampling})',\n",
    "                xlabel = 'Image size',\n",
    "                xscale = 'log',\n",
    "                ylabel = 'Forward time (s)',\n",
    "                yscale = 'log',\n",
    "                axis = 0)"
   ]
  },
  {
   "cell_type": "markdown",
   "metadata": {},
   "source": [
    "# Use deepinv optimizer for random model"
   ]
  },
  {
   "cell_type": "code",
   "execution_count": 102,
   "metadata": {},
   "outputs": [],
   "source": [
    "# Set up the variable to fetch dataset and operators.\n",
    "img_size = 64\n",
    "url = get_image_url(\"SheppLogan.png\")\n",
    "x = load_url_image(\n",
    "    url=url, img_size=img_size, grayscale=True, resize_mode=\"resize\", device=device\n",
    ")\n",
    "x.shape\n",
    "\n",
    "# generate phase signal\n",
    "\n",
    "# The phase is computed as 2*pi*x - pi, where x is the original image.\n",
    "x_phase = torch.exp(1j * x * torch.pi - 0.5j * torch.pi).to(device)\n",
    "\n",
    "# Every element of the signal should have unit norm.\n",
    "assert torch.allclose(x_phase.real**2 + x_phase.imag**2, torch.tensor(1.0))"
   ]
  },
  {
   "cell_type": "code",
   "execution_count": 103,
   "metadata": {},
   "outputs": [],
   "source": [
    "data_fidelity = L2()\n",
    "prior = dinv.optim.prior.Zero()\n",
    "max_iter = 10000\n",
    "early_stop = True\n",
    "verbose = True\n",
    "# stepsize: use 1e-4 for oversampling ratio 0-2, and 3e-3*oversampling for oversampling ratio 2-3, use 1e-2 for oversampling ratio 3-9\n",
    "step_size = 3e-3\n",
    "oversampling = 1"
   ]
  },
  {
   "cell_type": "code",
   "execution_count": 104,
   "metadata": {},
   "outputs": [],
   "source": [
    "physics = dinv.physics.RandomPhaseRetrieval(\n",
    "    m=oversampling*torch.prod(torch.tensor(x.shape)),\n",
    "    img_shape=(1, img_size, img_size),\n",
    "    dtype=torch.cfloat,\n",
    "    device=device,\n",
    ")\n",
    "y = physics(x_phase)"
   ]
  },
  {
   "cell_type": "code",
   "execution_count": 105,
   "metadata": {},
   "outputs": [
    {
     "name": "stdout",
     "output_type": "stream",
     "text": [
      "stepsize: 0.003\n",
      "Power iteration early stopping at iteration 4785.\n",
      "Iteration 5409, current converge crit. = 1.00E-05, objective = 1.00E-05 \n"
     ]
    }
   ],
   "source": [
    "params_algo = {\"stepsize\": step_size * oversampling, \"g_params\": 0.00}\n",
    "print(\"stepsize:\", params_algo[\"stepsize\"])\n",
    "model = optim_builder(\n",
    "    iteration=\"PGD\",\n",
    "    prior=prior,\n",
    "    data_fidelity=data_fidelity,\n",
    "    early_stop=early_stop,\n",
    "    max_iter=max_iter,\n",
    "    verbose=verbose,\n",
    "    params_algo=params_algo,\n",
    "    custom_init=spectral_methods_wrapper,\n",
    ")\n",
    "\n",
    "x_phase_gd_spec, metrics = model(y, physics, x_gt=x_phase, compute_metrics=True)"
   ]
  },
  {
   "cell_type": "code",
   "execution_count": 100,
   "metadata": {},
   "outputs": [
    {
     "name": "stderr",
     "output_type": "stream",
     "text": [
      "/home/zhhu/.conda/envs/deepinv/lib/python3.9/site-packages/matplotlib/cbook.py:1762: ComplexWarning: Casting complex values to real discards the imaginary part\n",
      "  return math.isfinite(val)\n",
      "/home/zhhu/.conda/envs/deepinv/lib/python3.9/site-packages/matplotlib/cbook.py:1398: ComplexWarning: Casting complex values to real discards the imaginary part\n",
      "  return np.asarray(x, float)\n"
     ]
    },
    {
     "data": {
      "image/png": "[encoded data removed]",
      "text/plain": [
       "<Figure size 1800x400 with 3 Axes>"
      ]
     },
     "metadata": {},
     "output_type": "display_data"
    }
   ],
   "source": [
    "plot_curves(metrics)"
   ]
  },
  {
   "cell_type": "code",
   "execution_count": 101,
   "metadata": {},
   "outputs": [
    {
     "name": "stdout",
     "output_type": "stream",
     "text": [
      "Image 0, channel 0 does not have a global phase shift.\n",
      "Cosine similarity: 0.1747\n"
     ]
    },
    {
     "data": {
      "image/png": "[encoded data removed]",
      "text/plain": [
       "<Figure size 400x200 with 2 Axes>"
      ]
     },
     "metadata": {},
     "output_type": "display_data"
    }
   ],
   "source": [
    "x_phase_gd_spec = correct_global_phase(x_phase_gd_spec, x_phase)\n",
    "print(f\"Cosine similarity: {cosine_similarity(x_phase_gd_spec, x_phase):.4f}\")\n",
    "# extract phase information and normalize to the range [0, 1]\n",
    "x_gd_spec = torch.angle(x_phase_gd_spec) / torch.pi + 0.5\n",
    "plot([x, x_gd_spec],titles=[\"Signal\",\"Reconstruction\"],rescale_mode='clip')"
   ]
  },
  {
   "cell_type": "code",
   "execution_count": 106,
   "metadata": {},
   "outputs": [
    {
     "data": {
      "text/plain": [
       "tensor([0.1000, 0.2000, 0.3000, 0.4000, 0.5000, 0.6000, 0.7000, 0.8000, 0.9000,\n",
       "        1.0000, 1.1000, 1.2000, 1.3000, 1.4000, 1.5000, 1.6000, 1.7000, 1.8000,\n",
       "        1.9000, 2.0000, 2.1000, 2.2000, 2.3000, 2.4000, 2.5000, 2.6000, 2.7000,\n",
       "        2.8000, 2.9000, 3.0000, 3.5000, 4.0000, 4.5000, 5.0000, 5.5000, 6.0000,\n",
       "        6.5000, 7.0000, 7.5000, 8.0000, 8.5000, 9.0000])"
      ]
     },
     "execution_count": 106,
     "metadata": {},
     "output_type": "execute_result"
    }
   ],
   "source": [
    "oversampling_ratios = torch.cat((torch.arange(0.1,3.1,0.1),torch.arange(3.5,9.5,0.5)))\n",
    "oversampling_ratios"
   ]
  },
  {
   "cell_type": "markdown",
   "metadata": {},
   "source": [
    "# Use PnP as regularizer"
   ]
  },
  {
   "cell_type": "code",
   "execution_count": null,
   "metadata": {},
   "outputs": [],
   "source": [
    "# Set up the variable to fetch dataset and operators.\n",
    "img_size = 99\n",
    "url = get_image_url(\"SheppLogan.png\")\n",
    "x = load_url_image(\n",
    "    url=url, img_size=img_size, grayscale=True, resize_mode=\"resize\", device=device\n",
    ")\n",
    "x.shape\n",
    "\n",
    "# generate phase signal\n",
    "\n",
    "# The phase is computed as 2*pi*x - pi, where x is the original image.\n",
    "x_phase = torch.exp(1j * x * torch.pi - 0.5j * torch.pi).to(device)\n",
    "\n",
    "# Every element of the signal should have unit norm.\n",
    "assert torch.allclose(x_phase.real**2 + x_phase.imag**2, torch.tensor(1.0))"
   ]
  },
  {
   "cell_type": "code",
   "execution_count": null,
   "metadata": {},
   "outputs": [],
   "source": [
    "noise_level_img = 0.05\n",
    "\n",
    "physics = dinv.physics.PseudoRandomPhaseRetrieval(\n",
    "    n_layers=2,\n",
    "    input_shape=(1, img_size, img_size),\n",
    "    output_shape=(1, 171, 171),\n",
    "    dtype=torch.cfloat,\n",
    "    device=device,\n",
    "    #noise_model=dinv.physics.GaussianNoise(sigma=noise_level_img)\n",
    ")\n",
    "y = physics(x_phase)"
   ]
  },
  {
   "cell_type": "code",
   "execution_count": null,
   "metadata": {},
   "outputs": [],
   "source": [
    "n_channels = 1\n",
    "\n",
    "denoiser = DRUNet(\n",
    "    in_channels=n_channels,\n",
    "    out_channels=n_channels,\n",
    "    pretrained=\"download\",  # automatically downloads the pretrained weights, set to a path to use custom weights.\n",
    "    train=False,\n",
    "    device=device,\n",
    ") # TODO: use dncnn lipschitz constant\n",
    "denoiser_complex = to_complex_denoiser(denoiser,mode=\"abs_angle\")"
   ]
  },
  {
   "cell_type": "code",
   "execution_count": null,
   "metadata": {},
   "outputs": [],
   "source": [
    "data_fidelity = L2()\n",
    "prior = dinv.optim.prior.PnP(denoiser=denoiser_complex)\n",
    "#prior = dinv.optim.prior.Zero()\n",
    "max_iter = 5000\n",
    "early_stop = True\n",
    "verbose = True\n",
    "# stepsize: use 1e-4 for oversampling ratio 0-2, and 3e-3*oversampling for oversampling ratio 2-9\n",
    "step_size = 1e-5"
   ]
  },
  {
   "cell_type": "code",
   "execution_count": null,
   "metadata": {},
   "outputs": [
    {
     "name": "stdout",
     "output_type": "stream",
     "text": [
      "stepsize: 1e-05\n"
     ]
    }
   ],
   "source": [
    "params_algo = {\"stepsize\": step_size, \"g_param\": 0.10}\n",
    "print(\"stepsize:\", params_algo[\"stepsize\"])\n",
    "model = optim_builder(\n",
    "    iteration=\"PGD\",\n",
    "    prior=prior,\n",
    "    data_fidelity=data_fidelity,\n",
    "    early_stop=early_stop,\n",
    "    max_iter=max_iter,\n",
    "    verbose=verbose,\n",
    "    params_algo=params_algo,\n",
    "    custom_init=spectral_methods_wrapper,\n",
    ")\n",
    "\n",
    "x_phase_gd_spec = model(y, physics, x_gt=x_phase, compute_metrics=True)"
   ]
  },
  {
   "cell_type": "code",
   "execution_count": null,
   "metadata": {},
   "outputs": [
    {
     "name": "stdout",
     "output_type": "stream",
     "text": [
      "Image 0, channel 0 does not have a global phase shift.\n"
     ]
    },
    {
     "data": {
      "image/png": "[encoded data removed]",
      "text/plain": [
       "<Figure size 400x200 with 2 Axes>"
      ]
     },
     "metadata": {},
     "output_type": "display_data"
    },
    {
     "name": "stdout",
     "output_type": "stream",
     "text": [
      "Cosine similarity: 0.1567\n"
     ]
    }
   ],
   "source": [
    "# correct possible global phase shifts\n",
    "x_gd_spec = correct_global_phase(x_phase_gd_spec, x_phase)\n",
    "# now no global phase shift should exist\n",
    "#assert torch.allclose(x_est, x_phase)\n",
    "# extract phase information and normalize to the range [0, 1]\n",
    "x_gd_spec = torch.angle(x_gd_spec) / (2*torch.pi) + 0.5\n",
    "plot([x, x_gd_spec],titles=[\"Signal\",\"Reconstruction\"],rescale_mode='clip')\n",
    "print(f\"Cosine similarity: {cosine_similarity(x_phase_gd_spec, x_phase):.4f}\")"
   ]
  },
  {
   "cell_type": "markdown",
   "metadata": {},
   "source": [
    "# Use shared weights"
   ]
  },
  {
   "cell_type": "code",
   "execution_count": 6,
   "metadata": {},
   "outputs": [],
   "source": [
    "# Set up the variable to fetch dataset and operators.\n",
    "img_size = 128\n",
    "url = get_image_url(\"SheppLogan.png\")\n",
    "x = load_url_image(\n",
    "    url=url, img_size=img_size, grayscale=True, resize_mode=\"resize\", device=device\n",
    ")\n",
    "x.shape\n",
    "\n",
    "# generate phase signal\n",
    "\n",
    "# The phase is computed as 2*pi*x - pi, where x is the original image.\n",
    "x_phase = torch.exp(1j * x * torch.pi - 0.5j * torch.pi).to(device)\n",
    "\n",
    "# Every element of the signal should have unit norm.\n",
    "assert torch.allclose(x_phase.real**2 + x_phase.imag**2, torch.tensor(1.0))"
   ]
  },
  {
   "cell_type": "code",
   "execution_count": 7,
   "metadata": {},
   "outputs": [],
   "source": [
    "physics = dinv.physics.PseudoRandomPhaseRetrieval(\n",
    "    n_layers=2,\n",
    "    input_shape=(1, img_size, img_size),\n",
    "    output_shape=(1, 202, 202),\n",
    "    dtype=torch.cfloat,\n",
    "    device=device,\n",
    "    drop_tail=True,\n",
    ")\n",
    "\n",
    "y = physics(x_phase)"
   ]
  },
  {
   "cell_type": "code",
   "execution_count": 8,
   "metadata": {},
   "outputs": [
    {
     "name": "stdout",
     "output_type": "stream",
     "text": [
      "Power iteration early stopping at iteration 3933.\n",
      "tensor([[[[-3.4575e-08+3.1665e-08j, -2.1420e-08+4.3539e-08j,\n",
      "            2.3516e-08+4.1910e-09j,  ...,\n",
      "            5.6811e-08+6.5193e-09j,  3.1549e-08-7.5903e-08j,\n",
      "            5.9605e-08+2.3283e-08j],\n",
      "          [ 8.9640e-08-7.5670e-09j, -5.2154e-08+1.9791e-08j,\n",
      "           -5.5879e-09-4.7847e-08j,  ...,\n",
      "           -1.1642e-10-9.3598e-08j, -2.7940e-09-3.9698e-08j,\n",
      "           -1.7229e-08-7.1712e-08j],\n",
      "          [ 9.3714e-08+7.1712e-08j,  1.5134e-08+6.4261e-08j,\n",
      "            5.7975e-08-1.1642e-09j,  ...,\n",
      "            1.9092e-08+4.3772e-08j,  2.2119e-08-5.6811e-08j,\n",
      "           -2.5611e-08-6.9849e-09j],\n",
      "          ...,\n",
      "          [-2.9802e-08-1.3039e-07j, -9.1270e-08-1.4901e-08j,\n",
      "           -2.6812e-08+2.9337e-08j,  ...,\n",
      "           -2.2817e-08-9.9652e-08j, -2.7736e-08-2.1188e-08j,\n",
      "           -1.9558e-08-8.8476e-09j],\n",
      "          [-8.8010e-08-2.3283e-08j,  3.7020e-08-5.4482e-08j,\n",
      "           -3.8650e-08-5.2154e-08j,  ...,\n",
      "            2.8405e-08-5.1921e-08j,  9.1968e-09-7.2177e-08j,\n",
      "           -8.9407e-08+4.7497e-08j],\n",
      "          [ 1.3912e-08+1.2573e-08j, -8.3819e-09+5.7742e-08j,\n",
      "           -2.7772e-08-4.9360e-08j,  ...,\n",
      "            5.3085e-08+1.7229e-08j, -5.3551e-09-3.3528e-08j,\n",
      "            6.3854e-08-1.8626e-08j]]]], device='cuda:2')\n",
      "tensor([[[[-9.9983e-04+0.0143j,  1.9866e-03+0.0029j,  3.1742e-03+0.0020j,\n",
      "            ..., -5.7348e-03+0.0022j, -1.5772e-03+0.0068j,\n",
      "           -3.9888e-03+0.0114j],\n",
      "          [-2.3619e-03-0.0017j, -7.8796e-03+0.0012j, -3.9390e-03+0.0012j,\n",
      "            ...,  1.4983e-03+0.0057j, -9.4260e-03+0.0014j,\n",
      "            4.1340e-03+0.0063j],\n",
      "          [ 1.5965e-03+0.0083j, -1.4642e-03+0.0091j, -3.2665e-03+0.0008j,\n",
      "            ...,  4.5054e-03+0.0133j,  2.9049e-03+0.0088j,\n",
      "           -6.1746e-03+0.0073j],\n",
      "          ...,\n",
      "          [-3.3451e-04+0.0061j, -1.4472e-03+0.0031j,  5.9696e-05+0.0044j,\n",
      "            ...,  5.1220e-03+0.0115j, -3.6000e-04+0.0038j,\n",
      "           -2.1475e-03+0.0057j],\n",
      "          [-5.9796e-03+0.0106j, -2.3714e-03+0.0026j,  4.0616e-03+0.0052j,\n",
      "            ...,  5.3329e-03+0.0030j,  1.3640e-03+0.0060j,\n",
      "           -1.2531e-02+0.0100j],\n",
      "          [ 3.4263e-04+0.0055j,  1.1886e-03+0.0165j, -7.9272e-05+0.0067j,\n",
      "            ...,  1.0415e-02-0.0051j, -1.6940e-03-0.0063j,\n",
      "           -4.4249e-04+0.0057j]]]], device='cuda:2')\n"
     ]
    },
    {
     "data": {
      "image/png": "[encoded data removed]",
      "text/plain": [
       "<Figure size 640x480 with 1 Axes>"
      ]
     },
     "metadata": {},
     "output_type": "display_data"
    }
   ],
   "source": [
    "x_phase_1, metrics = spectral_methods(y, physics, n_iter=5000, log=True, x_true=x_phase,rtol=1e-5)\n",
    "cosine_similarity(x_phase_1, x_phase)\n",
    "metrics = [i.cpu().numpy() for i in metrics]\n",
    "plt.plot(metrics)\n",
    "plt.show()"
   ]
  },
  {
   "cell_type": "code",
   "execution_count": 51,
   "metadata": {},
   "outputs": [
    {
     "data": {
      "text/plain": [
       "[tensor([[[-0.4501-0.8930j, -0.6903-0.7235j, -0.3409+0.9401j,  ...,\n",
       "            0.3860-0.9225j, -0.9152+0.4030j,  0.8253-0.5646j],\n",
       "          [ 0.7835-0.6213j,  0.3299-0.9440j, -0.4560-0.8900j,  ...,\n",
       "            0.3489-0.9372j,  0.7486-0.6630j, -0.7159+0.6982j],\n",
       "          [-0.9056-0.4241j,  0.8376-0.5462j,  0.9636-0.2672j,  ...,\n",
       "            0.2538+0.9672j, -0.0745-0.9972j, -0.9830-0.1835j],\n",
       "          ...,\n",
       "          [ 0.9640+0.2657j, -0.8663-0.4996j, -0.7159+0.6982j,  ...,\n",
       "            0.1277+0.9918j,  0.9837-0.1796j,  0.3925-0.9198j],\n",
       "          [ 0.4512+0.8924j,  0.9842-0.1771j, -0.8482-0.5297j,  ...,\n",
       "           -0.8160+0.5781j,  0.5181-0.8553j,  0.9965-0.0833j],\n",
       "          [ 0.6226+0.7826j,  0.8461+0.5331j,  0.8266-0.5628j,  ...,\n",
       "            0.9924+0.1232j, -0.6313+0.7755j, -0.5331-0.8461j]]],\n",
       "        device='cuda:0'),\n",
       " tensor([[[ 0.4369-0.8995j, -0.9699-0.2434j,  0.8604+0.5096j,  ...,\n",
       "            0.1439-0.9896j, -0.0121-0.9999j,  0.8225+0.5688j],\n",
       "          [-0.9448-0.3276j, -0.5258-0.8506j, -0.9065-0.4223j,  ...,\n",
       "            0.6121-0.7908j,  0.6530-0.7574j, -0.6810+0.7323j],\n",
       "          [-0.8734-0.4869j, -0.8866-0.4626j,  0.8244-0.5660j,  ...,\n",
       "            0.9988-0.0486j,  0.9873-0.1587j, -0.9445-0.3284j],\n",
       "          ...,\n",
       "          [-0.0388-0.9992j,  0.8981+0.4399j,  0.1364-0.9907j,  ...,\n",
       "           -0.9010-0.4338j,  0.2548-0.9670j, -0.0350+0.9994j],\n",
       "          [-0.9071+0.4208j,  0.9800-0.1988j,  0.9887-0.1499j,  ...,\n",
       "            0.9970+0.0777j,  0.5931+0.8051j, -0.8656-0.5007j],\n",
       "          [-0.1921-0.9814j,  0.4418+0.8971j,  0.8764-0.4816j,  ...,\n",
       "           -0.7608-0.6490j, -0.4713-0.8820j,  0.5088-0.8609j]]],\n",
       "        device='cuda:0')]"
      ]
     },
     "execution_count": 51,
     "metadata": {},
     "output_type": "execute_result"
    }
   ],
   "source": [
    "physics.diagonals"
   ]
  },
  {
   "cell_type": "code",
   "execution_count": 52,
   "metadata": {},
   "outputs": [],
   "source": [
    "assert torch.allclose((physics.B.A_adjoint(physics.B(x_phase))),x_phase)"
   ]
  },
  {
   "cell_type": "code",
   "execution_count": 53,
   "metadata": {},
   "outputs": [],
   "source": [
    "data_fidelity = L2()\n",
    "#prior = dinv.optim.prior.PnP(denoiser=denoiser_complex)\n",
    "prior = dinv.optim.prior.Zero()\n",
    "max_iter = 30000\n",
    "early_stop = True\n",
    "verbose = True\n",
    "# stepsize: use 1e-4 for oversampling ratio 0-2, and 3e-3*oversampling for oversampling ratio 2-9\n",
    "step_size = 4e-3*3"
   ]
  },
  {
   "cell_type": "code",
   "execution_count": 54,
   "metadata": {},
   "outputs": [],
   "source": [
    "def spectral_methods_wrapper(y, physics, n_iter=5000, **kwargs):\n",
    "    x = spectral_methods(y, physics, n_iter=n_iter, **kwargs)\n",
    "    z = spectral_methods(y, physics, n_iter=n_iter, **kwargs)\n",
    "    return {\"est\": (x, z)}"
   ]
  },
  {
   "cell_type": "code",
   "execution_count": 55,
   "metadata": {},
   "outputs": [
    {
     "name": "stdout",
     "output_type": "stream",
     "text": [
      "stepsize: 0.012\n"
     ]
    }
   ],
   "source": [
    "params_algo = {\"stepsize\": step_size, \"g_param\": 0.00}\n",
    "print(\"stepsize:\", params_algo[\"stepsize\"])\n",
    "model = optim_builder(\n",
    "    iteration=\"PGD\",\n",
    "    prior=prior,\n",
    "    data_fidelity=data_fidelity,\n",
    "    early_stop=early_stop,\n",
    "    max_iter=max_iter,\n",
    "    verbose=verbose,\n",
    "    params_algo=params_algo,\n",
    "    custom_init=spectral_methods_wrapper,\n",
    ")\n",
    "\n",
    "x_phase_gd_spec = model(y, physics, x_gt=x_phase)"
   ]
  },
  {
   "cell_type": "code",
   "execution_count": 56,
   "metadata": {},
   "outputs": [
    {
     "name": "stdout",
     "output_type": "stream",
     "text": [
      "Image 0, channel 0 does not have a global phase shift.\n"
     ]
    },
    {
     "data": {
      "image/png": "[encoded data removed]",
      "text/plain": [
       "<Figure size 400x200 with 2 Axes>"
      ]
     },
     "metadata": {},
     "output_type": "display_data"
    },
    {
     "name": "stdout",
     "output_type": "stream",
     "text": [
      "Cosine similarity: 0.5672\n"
     ]
    }
   ],
   "source": [
    "# correct possible global phase shifts\n",
    "x_gd_spec = correct_global_phase(x_phase_gd_spec, x_phase)\n",
    "# now no global phase shift should exist\n",
    "#assert torch.allclose(x_est, x_phase)\n",
    "# extract phase information and normalize to the range [0, 1]\n",
    "x_gd_spec = torch.angle(x_gd_spec) / (2*torch.pi) + 0.5\n",
    "plot([x, x_gd_spec],titles=[\"Signal\",\"Reconstruction\"],rescale_mode='clip')\n",
    "print(f\"Cosine similarity: {cosine_similarity(x_phase_gd_spec, x_phase):.4f}\")"
   ]
  },
  {
   "cell_type": "markdown",
   "metadata": {},
   "source": [
    "# Try QR decomposition"
   ]
  },
  {
   "cell_type": "code",
   "execution_count": null,
   "metadata": {},
   "outputs": [
    {
     "name": "stdout",
     "output_type": "stream",
     "text": [
      "tensor([[-0.8743+0.3645j, -0.7821-0.3355j,  0.4701-0.8829j],\n",
      "        [ 0.4294-1.0614j, -0.3441+0.9698j,  0.0404+1.7377j],\n",
      "        [-0.2848+0.1911j, -0.6175-0.1912j,  0.0704+0.0362j],\n",
      "        [-1.1079-0.6402j,  0.1408+0.3108j, -1.6640-0.0430j],\n",
      "        [ 0.2608+0.4154j,  0.3932+1.1281j,  0.0477+0.4164j]], device='cuda:0')\n"
     ]
    }
   ],
   "source": [
    "A = torch.randn((5,3),dtype=torch.cfloat,device=device)\n",
    "print(A)"
   ]
  },
  {
   "cell_type": "code",
   "execution_count": null,
   "metadata": {},
   "outputs": [
    {
     "name": "stdout",
     "output_type": "stream",
     "text": [
      "torch.Size([5, 3])\n",
      "torch.Size([3, 3])\n",
      "tensor([[-0.8743+0.3645j, -0.7821-0.3355j,  0.4701-0.8829j],\n",
      "        [ 0.4294-1.0614j, -0.3441+0.9698j,  0.0404+1.7377j],\n",
      "        [-0.2848+0.1911j, -0.6175-0.1912j,  0.0704+0.0362j],\n",
      "        [-1.1079-0.6402j,  0.1408+0.3108j, -1.6640-0.0430j],\n",
      "        [ 0.2608+0.4154j,  0.3932+1.1281j,  0.0477+0.4164j]], device='cuda:0')\n"
     ]
    }
   ],
   "source": [
    "Q, R = torch.linalg.qr(A)\n",
    "print(Q.shape)\n",
    "print(R.shape)\n",
    "print(Q@R)"
   ]
  },
  {
   "cell_type": "code",
   "execution_count": null,
   "metadata": {},
   "outputs": [
    {
     "data": {
      "text/plain": [
       "tensor([[-1.7881e-07+0.0000e+00j,  0.0000e+00+2.9802e-08j,\n",
       "          1.1921e-07-3.5763e-07j],\n",
       "        [ 2.9802e-08+0.0000e+00j, -5.9605e-08+5.9605e-08j,\n",
       "          1.0803e-07-1.1921e-07j],\n",
       "        [ 0.0000e+00-1.4901e-08j,  0.0000e+00+1.4901e-08j,\n",
       "          2.9802e-08-5.5879e-08j],\n",
       "        [-1.1921e-07-5.9605e-08j,  1.4901e-08-2.9802e-08j,\n",
       "          0.0000e+00-8.5682e-08j],\n",
       "        [ 0.0000e+00+0.0000e+00j,  5.9605e-08+1.1921e-07j,\n",
       "         -1.1921e-07-2.9802e-08j]], device='cuda:0')"
      ]
     },
     "execution_count": 6,
     "metadata": {},
     "output_type": "execute_result"
    }
   ],
   "source": [
    "Q@R-A"
   ]
  },
  {
   "cell_type": "code",
   "execution_count": null,
   "metadata": {},
   "outputs": [
    {
     "name": "stdout",
     "output_type": "stream",
     "text": [
      "tensor([ 2.0503+0.j,  1.9024+0.j, -2.4322+0.j], device='cuda:0')\n",
      "tensor([ 1.+0.j,  1.+0.j, -1.+0.j], device='cuda:0')\n",
      "tensor([[ 1.+0.j,  0.+0.j,  0.+0.j],\n",
      "        [ 0.+0.j,  1.+0.j,  0.+0.j],\n",
      "        [ 0.+0.j,  0.+0.j, -1.+0.j]], device='cuda:0')\n"
     ]
    }
   ],
   "source": [
    "print(torch.diag(R))\n",
    "print(torch.sgn(torch.diag(R)))\n",
    "print(torch.diag(torch.sgn(torch.diag(R))))"
   ]
  },
  {
   "cell_type": "code",
   "execution_count": null,
   "metadata": {},
   "outputs": [
    {
     "name": "stdout",
     "output_type": "stream",
     "text": [
      "tensor([[1.+0.j, 2.+0.j, 3.+0.j],\n",
      "        [4.+0.j, 5.+0.j, 6.+0.j],\n",
      "        [7.+0.j, 8.+0.j, 9.+0.j]], device='cuda:0')\n",
      "tensor([[ 1.+0.j,  2.+0.j, -3.+0.j],\n",
      "        [ 4.+0.j,  5.+0.j, -6.+0.j],\n",
      "        [ 7.+0.j,  8.+0.j, -9.+0.j]], device='cuda:0')\n"
     ]
    }
   ],
   "source": [
    "B = torch.arange(1,10).reshape(3,3).to(device).to(torch.cfloat)\n",
    "print(B)\n",
    "print(B*torch.sgn(torch.diag(R))[None,:])"
   ]
  },
  {
   "cell_type": "markdown",
   "metadata": {},
   "source": [
    "# Try Haar matrix"
   ]
  },
  {
   "cell_type": "code",
   "execution_count": null,
   "metadata": {},
   "outputs": [],
   "source": [
    "# Set up the variable to fetch dataset and operators.\n",
    "img_size = 99\n",
    "url = get_image_url(\"SheppLogan.png\")\n",
    "x = load_url_image(\n",
    "    url=url, img_size=img_size, grayscale=True, resize_mode=\"resize\", device=device\n",
    ")\n",
    "x.shape\n",
    "\n",
    "# generate phase signal\n",
    "\n",
    "# The phase is computed as 2*pi*x - pi, where x is the original image.\n",
    "x_phase = torch.exp(1j * x * torch.pi - 0.5j * torch.pi).to(device)\n",
    "\n",
    "# Every element of the signal should have unit norm.\n",
    "assert torch.allclose(x_phase.real**2 + x_phase.imag**2, torch.tensor(1.0))"
   ]
  },
  {
   "cell_type": "code",
   "execution_count": null,
   "metadata": {},
   "outputs": [
    {
     "name": "stdout",
     "output_type": "stream",
     "text": [
      "Using Haar matrix\n"
     ]
    }
   ],
   "source": [
    "physics = dinv.physics.RandomPhaseRetrieval(\n",
    "    m=3*torch.prod(torch.tensor(x.shape)),\n",
    "    img_shape=(1, img_size, img_size),\n",
    "    dtype=torch.cfloat,\n",
    "    device=device,\n",
    "    use_haar=True,\n",
    ")\n",
    "\n",
    "y = physics(x_phase)"
   ]
  },
  {
   "cell_type": "code",
   "execution_count": null,
   "metadata": {},
   "outputs": [],
   "source": [
    "assert torch.allclose((physics.B.A_adjoint(physics.B(x_phase))),x_phase)"
   ]
  },
  {
   "cell_type": "code",
   "execution_count": null,
   "metadata": {},
   "outputs": [],
   "source": [
    "data_fidelity = L2()\n",
    "#prior = dinv.optim.prior.PnP(denoiser=denoiser_complex)\n",
    "prior = dinv.optim.prior.Zero()\n",
    "max_iter = 10000\n",
    "early_stop = True\n",
    "verbose = True\n",
    "# stepsize: use 1e-4 for oversampling ratio 0-2, and 3e-3*oversampling for oversampling ratio 2-9\n",
    "step_size = 1e-2"
   ]
  },
  {
   "cell_type": "code",
   "execution_count": null,
   "metadata": {},
   "outputs": [],
   "source": [
    "def spectral_methods_wrapper(y, physics, n_iter=5000, **kwargs):\n",
    "    x = spectral_methods(y, physics, n_iter=n_iter, **kwargs)\n",
    "    z = spectral_methods(y, physics, n_iter=n_iter, **kwargs)\n",
    "    return {\"est\": (x, z)}"
   ]
  },
  {
   "cell_type": "code",
   "execution_count": null,
   "metadata": {},
   "outputs": [
    {
     "name": "stdout",
     "output_type": "stream",
     "text": [
      "stepsize: 0.01\n"
     ]
    }
   ],
   "source": [
    "params_algo = {\"stepsize\": step_size, \"g_param\": 0.00}\n",
    "print(\"stepsize:\", params_algo[\"stepsize\"])\n",
    "model = optim_builder(\n",
    "    iteration=\"PGD\",\n",
    "    prior=prior,\n",
    "    data_fidelity=data_fidelity,\n",
    "    early_stop=early_stop,\n",
    "    max_iter=max_iter,\n",
    "    verbose=verbose,\n",
    "    params_algo=params_algo,\n",
    "    custom_init=spectral_methods_wrapper,\n",
    ")\n",
    "\n",
    "x_phase_gd_spec = model(y, physics, x_gt=x_phase)"
   ]
  },
  {
   "cell_type": "code",
   "execution_count": null,
   "metadata": {},
   "outputs": [
    {
     "name": "stdout",
     "output_type": "stream",
     "text": [
      "Image 0, channel 0 does not have a global phase shift.\n"
     ]
    },
    {
     "data": {
      "image/png": "[encoded data removed]",
      "text/plain": [
       "<Figure size 400x200 with 2 Axes>"
      ]
     },
     "metadata": {},
     "output_type": "display_data"
    },
    {
     "name": "stdout",
     "output_type": "stream",
     "text": [
      "Cosine similarity: 0.9745\n"
     ]
    }
   ],
   "source": [
    "# correct possible global phase shifts\n",
    "x_gd_spec = correct_global_phase(x_phase_gd_spec, x_phase)\n",
    "# now no global phase shift should exist\n",
    "#assert torch.allclose(x_est, x_phase)\n",
    "# extract phase information and normalize to the range [0, 1]\n",
    "x_gd_spec = torch.angle(x_gd_spec) / (2*torch.pi) + 0.5\n",
    "plot([x, x_gd_spec],titles=[\"Signal\",\"Reconstruction\"],rescale_mode='clip')\n",
    "print(f\"Cosine similarity: {cosine_similarity(x_phase_gd_spec, x_phase):.4f}\")"
   ]
  },
  {
   "cell_type": "markdown",
   "metadata": {},
   "source": [
    "# 1 layer drop tail or not "
   ]
  },
  {
   "cell_type": "code",
   "execution_count": 89,
   "metadata": {},
   "outputs": [],
   "source": [
    "# create model and generate measurements\n",
    "\n",
    "physics = dinv.physics.PseudoRandomPhaseRetrieval(\n",
    "            n_layers=1,\n",
    "            input_shape=(1, img_size, img_size),\n",
    "            output_shape=(1, 173, 173),\n",
    "            shared_weights=True,\n",
    "            drop_tail=True,\n",
    "            dtype = torch.cfloat,\n",
    "            device=device,\n",
    "        )\n",
    "\n",
    "y = physics(x_phase)"
   ]
  },
  {
   "cell_type": "code",
   "execution_count": 90,
   "metadata": {},
   "outputs": [
    {
     "data": {
      "text/plain": [
       "tensor(0.0486, device='cuda:0')"
      ]
     },
     "execution_count": 90,
     "metadata": {},
     "output_type": "execute_result"
    }
   ],
   "source": [
    "x_hat = spectral_methods(y, physics, n_iter=5000)\n",
    "\n",
    "cosine_similarity(x_hat, x_phase)"
   ]
  },
  {
   "cell_type": "markdown",
   "metadata": {},
   "source": [
    "# any size of images"
   ]
  },
  {
   "cell_type": "code",
   "execution_count": 90,
   "metadata": {},
   "outputs": [
    {
     "name": "stdout",
     "output_type": "stream",
     "text": [
      "torch.Size([1, 1, 5, 3])\n"
     ]
    },
    {
     "data": {
      "image/png": "[encoded data removed]",
      "text/plain": [
       "<Figure size 200x200 with 1 Axes>"
      ]
     },
     "metadata": {},
     "output_type": "display_data"
    }
   ],
   "source": [
    "# Load image\n",
    "img_size = 4\n",
    "url = get_image_url(\"SheppLogan.png\")\n",
    "x = load_url_image(\n",
    "    url=url, img_size=(5,3), grayscale=True, resize_mode=\"resize\", device=device\n",
    ")\n",
    "print(x.shape)\n",
    "plot(x, titles=\"Original image\")\n",
    "\n",
    "# generate phase signal\n",
    "\n",
    "# The phase is computed as 2*pi*x - pi, where x is the original image.\n",
    "x_phase = torch.exp(1j*x*torch.pi - 0.5j*torch.pi).to(device)\n",
    "\n",
    "# Every element of the signal should have unit norm.\n",
    "assert torch.allclose(x_phase.real**2 + x_phase.imag**2, torch.tensor(1.0))"
   ]
  },
  {
   "cell_type": "code",
   "execution_count": 94,
   "metadata": {},
   "outputs": [
    {
     "name": "stdout",
     "output_type": "stream",
     "text": [
      "0 0 1 0\n"
     ]
    }
   ],
   "source": [
    "input_shape = torch.tensor((1, 5, 3))\n",
    "output_shape = torch.tensor((1, 6, 3))\n",
    "\n",
    "change_top = math.ceil(abs(input_shape[1] - output_shape[1])/2)\n",
    "change_bottom = math.floor(abs(input_shape[1] - output_shape[1])/2)\n",
    "change_left = math.ceil(abs(input_shape[2] - output_shape[2])/2)\n",
    "change_right = math.floor(abs(input_shape[2] - output_shape[2])/2)\n",
    "\n",
    "print(change_left,change_right,change_top,change_bottom)\n",
    "\n",
    "assert change_left + change_right == abs(input_shape[2] - output_shape[2])\n",
    "assert change_top + change_bottom == abs(input_shape[1] - output_shape[1])"
   ]
  },
  {
   "cell_type": "code",
   "execution_count": 95,
   "metadata": {},
   "outputs": [],
   "source": [
    "padding = torch.nn.ZeroPad2d((change_left,change_right,change_top,change_bottom))\n",
    "\n",
    "def trimming(tensor: torch.Tensor):\n",
    "    if change_bottom == 0:\n",
    "        tensor = tensor[...,change_top:,:]\n",
    "    else:\n",
    "        tensor = tensor[...,change_top:-change_bottom,:]\n",
    "    if change_right == 0:\n",
    "        tensor = tensor[...,change_left:]\n",
    "    else:\n",
    "        tensor = tensor[...,change_left:-change_right]\n",
    "    return tensor"
   ]
  },
  {
   "cell_type": "code",
   "execution_count": 97,
   "metadata": {},
   "outputs": [
    {
     "name": "stdout",
     "output_type": "stream",
     "text": [
      "tensor([[[[0.2677-0.9635j, 0.7264-0.6872j, 0.2677-0.9635j],\n",
      "          [0.4067-0.9135j, 0.6459-0.7634j, 0.4291-0.9032j],\n",
      "          [0.3727-0.9280j, 0.3612-0.9325j, 0.4180-0.9085j],\n",
      "          [0.3612-0.9325j, 0.5159-0.8566j, 0.3727-0.9280j],\n",
      "          [0.1958-0.9806j, 0.5677-0.8233j, 0.1958-0.9806j]]]], device='cuda:0')\n",
      "tensor([[[[0.2677-0.9635j, 0.7264-0.6872j, 0.2677-0.9635j],\n",
      "          [0.4067-0.9135j, 0.6459-0.7634j, 0.4291-0.9032j],\n",
      "          [0.3727-0.9280j, 0.3612-0.9325j, 0.4180-0.9085j],\n",
      "          [0.3612-0.9325j, 0.5159-0.8566j, 0.3727-0.9280j],\n",
      "          [0.1958-0.9806j, 0.5677-0.8233j, 0.1958-0.9806j]]]], device='cuda:0')\n"
     ]
    }
   ],
   "source": [
    "x_phase_new = padding(x_phase)\n",
    "x_phase_new = torch.fft.fft2(x_phase_new, norm='ortho')\n",
    "x_phase_new = torch.fft.ifft2(x_phase_new, norm='ortho')\n",
    "x_phase_new = trimming(x_phase_new)\n",
    "\n",
    "#assert torch.allclose(x_phase_new, x_phase)\n",
    "\n",
    "print(x_phase_new)\n",
    "print(x_phase)"
   ]
  },
  {
   "cell_type": "code",
   "execution_count": 89,
   "metadata": {},
   "outputs": [
    {
     "name": "stdout",
     "output_type": "stream",
     "text": [
      "tensor([[[[-0.5748, -1.2221,  1.4677,  0.3021],\n",
      "          [-0.2890, -1.3209, -1.8855,  2.5176],\n",
      "          [-3.0000, -0.3725, -0.6453, -1.5584],\n",
      "          [-0.8070, -1.6998, -1.0418,  0.0125]]]], device='cuda:0')\n",
      "tensor([[[[-0.5748, -1.2221,  1.4677,  0.3021],\n",
      "          [-0.2890, -1.3209, -1.8855,  2.5176],\n",
      "          [-3.0000, -0.3725, -0.6453, -1.5584],\n",
      "          [-0.8070, -1.6998, -1.0418,  0.0125]]]], device='cuda:0')\n"
     ]
    }
   ],
   "source": [
    "x_random = torch.randn(1, 1, 4, 4).to(device)\n",
    "print(x_random)\n",
    "x_random = padding(x_random)\n",
    "x_random = trimming(x_random)\n",
    "print(x_random)"
   ]
  }
 ],
 "metadata": {
  "kernelspec": {
   "display_name": "deepinv",
   "language": "python",
   "name": "python3"
  },
  "language_info": {
   "codemirror_mode": {
    "name": "ipython",
    "version": 3
   },
   "file_extension": ".py",
   "mimetype": "text/x-python",
   "name": "python",
   "nbconvert_exporter": "python",
   "pygments_lexer": "ipython3",
   "version": "3.9.19"
  }
 },
 "nbformat": 4,
 "nbformat_minor": 2
}
