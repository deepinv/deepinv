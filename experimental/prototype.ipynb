{
 "cells": [
  {
   "cell_type": "code",
   "execution_count": 24,
   "metadata": {},
   "outputs": [],
   "source": [
    "import sys\n",
    "sys.path.append(\"/home/zhhu/workspaces/deepinv/\")"
   ]
  },
  {
   "cell_type": "code",
   "execution_count": 25,
   "metadata": {},
   "outputs": [],
   "source": [
    "from datetime import datetime\n",
    "import deepinv as dinv\n",
    "from pathlib import Path\n",
    "from time import time\n",
    "import math\n",
    "\n",
    "import numpy as np\n",
    "import pandas as pd\n",
    "import torch\n",
    "import matplotlib.pyplot as plt\n",
    "import seaborn as sns\n",
    "from tqdm import tqdm, trange\n",
    "from deepinv.models import DRUNet\n",
    "from deepinv.optim.data_fidelity import L2\n",
    "from deepinv.optim.prior import PnP\n",
    "from deepinv.optim.optimizers import optim_builder\n",
    "from deepinv.utils.demo import load_url_image, get_image_url\n",
    "from deepinv.utils.plotting import plot, plot_curves\n",
    "from deepinv.optim.phase_retrieval import correct_global_phase, cosine_similarity, spectral_methods, default_preprocessing, spectral_methods_wrapper, plot_error_bars\n",
    "from deepinv.models.complex import to_complex_denoiser"
   ]
  },
  {
   "cell_type": "code",
   "execution_count": 30,
   "metadata": {},
   "outputs": [
    {
     "name": "stdout",
     "output_type": "stream",
     "text": [
      "Selected GPU 2 with 18483 MB free memory \n"
     ]
    },
    {
     "data": {
      "text/plain": [
       "device(type='cuda', index=2)"
      ]
     },
     "execution_count": 30,
     "metadata": {},
     "output_type": "execute_result"
    }
   ],
   "source": [
    "device = dinv.utils.get_freer_gpu() if torch.cuda.is_available() else \"cpu\"\n",
    "device"
   ]
  },
  {
   "cell_type": "markdown",
   "metadata": {},
   "source": [
    "# Generate signal"
   ]
  },
  {
   "cell_type": "code",
   "execution_count": 27,
   "metadata": {},
   "outputs": [
    {
     "name": "stdout",
     "output_type": "stream",
     "text": [
      "torch.Size([1, 1, 99, 99])\n"
     ]
    },
    {
     "data": {
      "image/png": "[encoded data removed]",
      "text/plain": [
       "<Figure size 200x200 with 1 Axes>"
      ]
     },
     "metadata": {},
     "output_type": "display_data"
    }
   ],
   "source": [
    "# Load image\n",
    "img_size = 99\n",
    "url = get_image_url(\"SheppLogan.png\")\n",
    "x = load_url_image(\n",
    "    url=url, img_size=img_size, grayscale=True, resize_mode=\"resize\", device=device\n",
    ")\n",
    "print(x.shape)\n",
    "plot(x, titles=\"Original image\")\n",
    "\n",
    "# generate phase signal\n",
    "\n",
    "# The phase is computed as 2*pi*x - pi, where x is the original image.\n",
    "x_phase = torch.exp(1j*x*torch.pi - 0.5j*torch.pi).to(device)\n",
    "\n",
    "# Every element of the signal should have unit norm.\n",
    "assert torch.allclose(x_phase.real**2 + x_phase.imag**2, torch.tensor(1.0))"
   ]
  },
  {
   "cell_type": "markdown",
   "metadata": {},
   "source": [
    "# Time complexity"
   ]
  },
  {
   "cell_type": "code",
   "execution_count": 70,
   "metadata": {},
   "outputs": [
    {
     "name": "stdout",
     "output_type": "stream",
     "text": [
      "[1, 11, 21, 31, 41, 51, 61, 71, 81, 91, 101, 111, 121, 131, 141, 151, 161]\n"
     ]
    }
   ],
   "source": [
    "img_sizes: list[int] = [i for i in range(1, 163, 10)]\n",
    "print(img_sizes)\n",
    "n_repeats = 100\n",
    "oversampling = 1"
   ]
  },
  {
   "cell_type": "code",
   "execution_count": 116,
   "metadata": {},
   "outputs": [
    {
     "name": "stdout",
     "output_type": "stream",
     "text": [
      "Selected GPU 1 with 3793 MB free memory \n"
     ]
    },
    {
     "data": {
      "text/plain": [
       "device(type='cuda', index=1)"
      ]
     },
     "execution_count": 116,
     "metadata": {},
     "output_type": "execute_result"
    }
   ],
   "source": [
    "device = dinv.utils.get_freer_gpu() if torch.cuda.is_available() else \"cpu\"\n",
    "device"
   ]
  },
  {
   "cell_type": "code",
   "execution_count": 107,
   "metadata": {},
   "outputs": [
    {
     "name": "stderr",
     "output_type": "stream",
     "text": [
      "  0%|          | 0/17 [00:00<?, ?it/s]"
     ]
    },
    {
     "name": "stderr",
     "output_type": "stream",
     "text": [
      "100%|██████████| 17/17 [00:29<00:00,  1.71s/it]\n"
     ]
    }
   ],
   "source": [
    "# random model\n",
    "df_random_gpu = pd.DataFrame(\n",
    "    {\n",
    "        **{f\"img_size_{img_size}\": None for img_size in np.array(img_sizes)},\n",
    "    },\n",
    "    index=[0]\n",
    ")\n",
    "\n",
    "for img_size in tqdm(img_sizes):\n",
    "    x = load_url_image(url=url, img_size=img_size, grayscale=True, resize_mode=\"resize\", device=device)\n",
    "    x_phase = torch.exp(1j*x*torch.pi - 0.5j*torch.pi).to(device)\n",
    "    torch.cuda.synchronize()\n",
    "    for i in range(n_repeats):\n",
    "        #torch.cuda.empty_cache()\n",
    "        physics = dinv.physics.RandomPhaseRetrieval(\n",
    "            m = int(oversampling*torch.prod(torch.tensor(x.shape))),\n",
    "            img_shape= (1, img_size, img_size),\n",
    "            dtype = torch.cfloat,\n",
    "            device=device,\n",
    "        )\n",
    "        torch.cuda.synchronize()\n",
    "        init_time = time()\n",
    "        y = physics.forward(x_phase)\n",
    "        torch.cuda.synchronize() \n",
    "        df_random_gpu.loc[i, f\"img_size_{img_size}\"] = time() - init_time"
   ]
  },
  {
   "cell_type": "code",
   "execution_count": 104,
   "metadata": {},
   "outputs": [
    {
     "data": {
      "text/html": [
       "<div>\n",
       "<style scoped>\n",
       "    .dataframe tbody tr th:only-of-type {\n",
       "        vertical-align: middle;\n",
       "    }\n",
       "\n",
       "    .dataframe tbody tr th {\n",
       "        vertical-align: top;\n",
       "    }\n",
       "\n",
       "    .dataframe thead th {\n",
       "        text-align: right;\n",
       "    }\n",
       "</style>\n",
       "<table border=\"1\" class=\"dataframe\">\n",
       "  <thead>\n",
       "    <tr style=\"text-align: right;\">\n",
       "      <th></th>\n",
       "      <th>img_size_1</th>\n",
       "      <th>img_size_11</th>\n",
       "      <th>img_size_21</th>\n",
       "      <th>img_size_31</th>\n",
       "      <th>img_size_41</th>\n",
       "      <th>img_size_51</th>\n",
       "      <th>img_size_61</th>\n",
       "      <th>img_size_71</th>\n",
       "      <th>img_size_81</th>\n",
       "      <th>img_size_91</th>\n",
       "      <th>img_size_101</th>\n",
       "      <th>img_size_111</th>\n",
       "      <th>img_size_121</th>\n",
       "      <th>img_size_131</th>\n",
       "      <th>img_size_141</th>\n",
       "      <th>img_size_151</th>\n",
       "      <th>img_size_161</th>\n",
       "    </tr>\n",
       "  </thead>\n",
       "  <tbody>\n",
       "    <tr>\n",
       "      <th>0</th>\n",
       "      <td>0.000229</td>\n",
       "      <td>0.000563</td>\n",
       "      <td>0.000495</td>\n",
       "      <td>0.000353</td>\n",
       "      <td>0.000557</td>\n",
       "      <td>0.000379</td>\n",
       "      <td>0.000337</td>\n",
       "      <td>0.000307</td>\n",
       "      <td>0.000201</td>\n",
       "      <td>0.000261</td>\n",
       "      <td>0.000189</td>\n",
       "      <td>0.000199</td>\n",
       "      <td>0.000276</td>\n",
       "      <td>0.000228</td>\n",
       "      <td>0.000306</td>\n",
       "      <td>0.000369</td>\n",
       "      <td>0.000357</td>\n",
       "    </tr>\n",
       "    <tr>\n",
       "      <th>1</th>\n",
       "      <td>0.000151</td>\n",
       "      <td>0.000464</td>\n",
       "      <td>0.000457</td>\n",
       "      <td>0.000357</td>\n",
       "      <td>0.000476</td>\n",
       "      <td>0.000319</td>\n",
       "      <td>0.000299</td>\n",
       "      <td>0.000276</td>\n",
       "      <td>0.000196</td>\n",
       "      <td>0.000212</td>\n",
       "      <td>0.00017</td>\n",
       "      <td>0.00017</td>\n",
       "      <td>0.000184</td>\n",
       "      <td>0.000173</td>\n",
       "      <td>0.000192</td>\n",
       "      <td>0.000188</td>\n",
       "      <td>0.000191</td>\n",
       "    </tr>\n",
       "    <tr>\n",
       "      <th>2</th>\n",
       "      <td>0.000142</td>\n",
       "      <td>0.000453</td>\n",
       "      <td>0.000454</td>\n",
       "      <td>0.000334</td>\n",
       "      <td>0.000458</td>\n",
       "      <td>0.000312</td>\n",
       "      <td>0.000283</td>\n",
       "      <td>0.000268</td>\n",
       "      <td>0.000179</td>\n",
       "      <td>0.000204</td>\n",
       "      <td>0.000168</td>\n",
       "      <td>0.000166</td>\n",
       "      <td>0.000168</td>\n",
       "      <td>0.000169</td>\n",
       "      <td>0.000169</td>\n",
       "      <td>0.00017</td>\n",
       "      <td>0.000172</td>\n",
       "    </tr>\n",
       "    <tr>\n",
       "      <th>3</th>\n",
       "      <td>0.000138</td>\n",
       "      <td>0.00045</td>\n",
       "      <td>0.000453</td>\n",
       "      <td>0.000333</td>\n",
       "      <td>0.000456</td>\n",
       "      <td>0.000312</td>\n",
       "      <td>0.000281</td>\n",
       "      <td>0.000269</td>\n",
       "      <td>0.000177</td>\n",
       "      <td>0.000214</td>\n",
       "      <td>0.000166</td>\n",
       "      <td>0.000164</td>\n",
       "      <td>0.000166</td>\n",
       "      <td>0.000167</td>\n",
       "      <td>0.000167</td>\n",
       "      <td>0.000168</td>\n",
       "      <td>0.000172</td>\n",
       "    </tr>\n",
       "    <tr>\n",
       "      <th>4</th>\n",
       "      <td>0.000139</td>\n",
       "      <td>0.000449</td>\n",
       "      <td>0.00045</td>\n",
       "      <td>0.000332</td>\n",
       "      <td>0.000471</td>\n",
       "      <td>0.000316</td>\n",
       "      <td>0.000281</td>\n",
       "      <td>0.000264</td>\n",
       "      <td>0.000176</td>\n",
       "      <td>0.000191</td>\n",
       "      <td>0.000165</td>\n",
       "      <td>0.000167</td>\n",
       "      <td>0.000166</td>\n",
       "      <td>0.000165</td>\n",
       "      <td>0.000167</td>\n",
       "      <td>0.000169</td>\n",
       "      <td>0.000178</td>\n",
       "    </tr>\n",
       "    <tr>\n",
       "      <th>...</th>\n",
       "      <td>...</td>\n",
       "      <td>...</td>\n",
       "      <td>...</td>\n",
       "      <td>...</td>\n",
       "      <td>...</td>\n",
       "      <td>...</td>\n",
       "      <td>...</td>\n",
       "      <td>...</td>\n",
       "      <td>...</td>\n",
       "      <td>...</td>\n",
       "      <td>...</td>\n",
       "      <td>...</td>\n",
       "      <td>...</td>\n",
       "      <td>...</td>\n",
       "      <td>...</td>\n",
       "      <td>...</td>\n",
       "      <td>...</td>\n",
       "    </tr>\n",
       "    <tr>\n",
       "      <th>95</th>\n",
       "      <td>0.000157</td>\n",
       "      <td>0.000172</td>\n",
       "      <td>0.000186</td>\n",
       "      <td>0.000199</td>\n",
       "      <td>0.00019</td>\n",
       "      <td>0.000207</td>\n",
       "      <td>0.000196</td>\n",
       "      <td>0.000201</td>\n",
       "      <td>0.000164</td>\n",
       "      <td>0.000163</td>\n",
       "      <td>0.000163</td>\n",
       "      <td>0.000164</td>\n",
       "      <td>0.000165</td>\n",
       "      <td>0.000165</td>\n",
       "      <td>0.000167</td>\n",
       "      <td>0.000168</td>\n",
       "      <td>0.042277</td>\n",
       "    </tr>\n",
       "    <tr>\n",
       "      <th>96</th>\n",
       "      <td>0.00014</td>\n",
       "      <td>0.000173</td>\n",
       "      <td>0.000188</td>\n",
       "      <td>0.000202</td>\n",
       "      <td>0.000199</td>\n",
       "      <td>0.000196</td>\n",
       "      <td>0.000196</td>\n",
       "      <td>0.000199</td>\n",
       "      <td>0.000165</td>\n",
       "      <td>0.000162</td>\n",
       "      <td>0.000164</td>\n",
       "      <td>0.000164</td>\n",
       "      <td>0.000165</td>\n",
       "      <td>0.000165</td>\n",
       "      <td>0.000166</td>\n",
       "      <td>0.000166</td>\n",
       "      <td>0.042614</td>\n",
       "    </tr>\n",
       "    <tr>\n",
       "      <th>97</th>\n",
       "      <td>0.000137</td>\n",
       "      <td>0.000183</td>\n",
       "      <td>0.000187</td>\n",
       "      <td>0.000199</td>\n",
       "      <td>0.000185</td>\n",
       "      <td>0.000194</td>\n",
       "      <td>0.000196</td>\n",
       "      <td>0.000212</td>\n",
       "      <td>0.000164</td>\n",
       "      <td>0.000164</td>\n",
       "      <td>0.000163</td>\n",
       "      <td>0.000164</td>\n",
       "      <td>0.000166</td>\n",
       "      <td>0.000165</td>\n",
       "      <td>0.000166</td>\n",
       "      <td>0.000167</td>\n",
       "      <td>0.042644</td>\n",
       "    </tr>\n",
       "    <tr>\n",
       "      <th>98</th>\n",
       "      <td>0.000142</td>\n",
       "      <td>0.000169</td>\n",
       "      <td>0.000182</td>\n",
       "      <td>0.000194</td>\n",
       "      <td>0.000184</td>\n",
       "      <td>0.000194</td>\n",
       "      <td>0.000207</td>\n",
       "      <td>0.000189</td>\n",
       "      <td>0.000165</td>\n",
       "      <td>0.000163</td>\n",
       "      <td>0.000165</td>\n",
       "      <td>0.000163</td>\n",
       "      <td>0.000166</td>\n",
       "      <td>0.000173</td>\n",
       "      <td>0.000165</td>\n",
       "      <td>0.000167</td>\n",
       "      <td>0.042486</td>\n",
       "    </tr>\n",
       "    <tr>\n",
       "      <th>99</th>\n",
       "      <td>0.000137</td>\n",
       "      <td>0.000169</td>\n",
       "      <td>0.000183</td>\n",
       "      <td>0.000193</td>\n",
       "      <td>0.000184</td>\n",
       "      <td>0.000193</td>\n",
       "      <td>0.00019</td>\n",
       "      <td>0.00019</td>\n",
       "      <td>0.000163</td>\n",
       "      <td>0.000164</td>\n",
       "      <td>0.000164</td>\n",
       "      <td>0.000164</td>\n",
       "      <td>0.000163</td>\n",
       "      <td>0.000165</td>\n",
       "      <td>0.000165</td>\n",
       "      <td>0.000169</td>\n",
       "      <td>0.04252</td>\n",
       "    </tr>\n",
       "  </tbody>\n",
       "</table>\n",
       "<p>100 rows × 17 columns</p>\n",
       "</div>"
      ],
      "text/plain": [
       "   img_size_1 img_size_11 img_size_21 img_size_31 img_size_41 img_size_51  \\\n",
       "0    0.000229    0.000563    0.000495    0.000353    0.000557    0.000379   \n",
       "1    0.000151    0.000464    0.000457    0.000357    0.000476    0.000319   \n",
       "2    0.000142    0.000453    0.000454    0.000334    0.000458    0.000312   \n",
       "3    0.000138     0.00045    0.000453    0.000333    0.000456    0.000312   \n",
       "4    0.000139    0.000449     0.00045    0.000332    0.000471    0.000316   \n",
       "..        ...         ...         ...         ...         ...         ...   \n",
       "95   0.000157    0.000172    0.000186    0.000199     0.00019    0.000207   \n",
       "96    0.00014    0.000173    0.000188    0.000202    0.000199    0.000196   \n",
       "97   0.000137    0.000183    0.000187    0.000199    0.000185    0.000194   \n",
       "98   0.000142    0.000169    0.000182    0.000194    0.000184    0.000194   \n",
       "99   0.000137    0.000169    0.000183    0.000193    0.000184    0.000193   \n",
       "\n",
       "   img_size_61 img_size_71 img_size_81 img_size_91 img_size_101 img_size_111  \\\n",
       "0     0.000337    0.000307    0.000201    0.000261     0.000189     0.000199   \n",
       "1     0.000299    0.000276    0.000196    0.000212      0.00017      0.00017   \n",
       "2     0.000283    0.000268    0.000179    0.000204     0.000168     0.000166   \n",
       "3     0.000281    0.000269    0.000177    0.000214     0.000166     0.000164   \n",
       "4     0.000281    0.000264    0.000176    0.000191     0.000165     0.000167   \n",
       "..         ...         ...         ...         ...          ...          ...   \n",
       "95    0.000196    0.000201    0.000164    0.000163     0.000163     0.000164   \n",
       "96    0.000196    0.000199    0.000165    0.000162     0.000164     0.000164   \n",
       "97    0.000196    0.000212    0.000164    0.000164     0.000163     0.000164   \n",
       "98    0.000207    0.000189    0.000165    0.000163     0.000165     0.000163   \n",
       "99     0.00019     0.00019    0.000163    0.000164     0.000164     0.000164   \n",
       "\n",
       "   img_size_121 img_size_131 img_size_141 img_size_151 img_size_161  \n",
       "0      0.000276     0.000228     0.000306     0.000369     0.000357  \n",
       "1      0.000184     0.000173     0.000192     0.000188     0.000191  \n",
       "2      0.000168     0.000169     0.000169      0.00017     0.000172  \n",
       "3      0.000166     0.000167     0.000167     0.000168     0.000172  \n",
       "4      0.000166     0.000165     0.000167     0.000169     0.000178  \n",
       "..          ...          ...          ...          ...          ...  \n",
       "95     0.000165     0.000165     0.000167     0.000168     0.042277  \n",
       "96     0.000165     0.000165     0.000166     0.000166     0.042614  \n",
       "97     0.000166     0.000165     0.000166     0.000167     0.042644  \n",
       "98     0.000166     0.000173     0.000165     0.000167     0.042486  \n",
       "99     0.000163     0.000165     0.000165     0.000169      0.04252  \n",
       "\n",
       "[100 rows x 17 columns]"
      ]
     },
     "execution_count": 104,
     "metadata": {},
     "output_type": "execute_result"
    }
   ],
   "source": [
    "df_random_gpu"
   ]
  },
  {
   "cell_type": "code",
   "execution_count": 117,
   "metadata": {},
   "outputs": [
    {
     "name": "stderr",
     "output_type": "stream",
     "text": [
      "100%|██████████| 17/17 [00:04<00:00,  3.75it/s]\n"
     ]
    }
   ],
   "source": [
    "# pseudorandom model\n",
    "df_pseudorandom_gpu = pd.DataFrame(\n",
    "    {\n",
    "        **{f\"img_size_{img_size}\": None for img_size in np.array(img_sizes)},\n",
    "    },\n",
    "    index=[0]\n",
    ")\n",
    "\n",
    "for img_size in tqdm(img_sizes):\n",
    "    img_size = img_size\n",
    "    x = load_url_image(url=url, img_size=img_size, grayscale=True, resize_mode=\"resize\", device=device)\n",
    "    x_phase = torch.exp(1j*x*torch.pi - 0.5j*torch.pi).to(device)\n",
    "\n",
    "    torch.cuda.synchronize()\n",
    "    for i in range(n_repeats):\n",
    "        physics = dinv.physics.PseudoRandomPhaseRetrieval(\n",
    "            n_layers=2,\n",
    "            input_shape=(1, img_size, img_size),\n",
    "            output_shape=(1, int(math.sqrt(oversampling))*img_size, int(math.sqrt(oversampling))*img_size),\n",
    "            dtype = torch.cfloat,\n",
    "            device=device,\n",
    "        )\n",
    "        torch.cuda.synchronize()\n",
    "        init_time = time()\n",
    "        y = physics.forward(x_phase)\n",
    "        torch.cuda.synchronize() \n",
    "        df_pseudorandom_gpu.loc[i, f\"img_size_{img_size}\"] = time() - init_time"
   ]
  },
  {
   "cell_type": "code",
   "execution_count": 106,
   "metadata": {},
   "outputs": [
    {
     "data": {
      "text/html": [
       "<div>\n",
       "<style scoped>\n",
       "    .dataframe tbody tr th:only-of-type {\n",
       "        vertical-align: middle;\n",
       "    }\n",
       "\n",
       "    .dataframe tbody tr th {\n",
       "        vertical-align: top;\n",
       "    }\n",
       "\n",
       "    .dataframe thead th {\n",
       "        text-align: right;\n",
       "    }\n",
       "</style>\n",
       "<table border=\"1\" class=\"dataframe\">\n",
       "  <thead>\n",
       "    <tr style=\"text-align: right;\">\n",
       "      <th></th>\n",
       "      <th>img_size_1</th>\n",
       "      <th>img_size_11</th>\n",
       "      <th>img_size_21</th>\n",
       "      <th>img_size_31</th>\n",
       "      <th>img_size_41</th>\n",
       "      <th>img_size_51</th>\n",
       "      <th>img_size_61</th>\n",
       "      <th>img_size_71</th>\n",
       "      <th>img_size_81</th>\n",
       "      <th>img_size_91</th>\n",
       "      <th>img_size_101</th>\n",
       "      <th>img_size_111</th>\n",
       "      <th>img_size_121</th>\n",
       "      <th>img_size_131</th>\n",
       "      <th>img_size_141</th>\n",
       "      <th>img_size_151</th>\n",
       "      <th>img_size_161</th>\n",
       "    </tr>\n",
       "  </thead>\n",
       "  <tbody>\n",
       "    <tr>\n",
       "      <th>0</th>\n",
       "      <td>0.000594</td>\n",
       "      <td>0.000611</td>\n",
       "      <td>0.000388</td>\n",
       "      <td>0.000369</td>\n",
       "      <td>0.000353</td>\n",
       "      <td>0.00065</td>\n",
       "      <td>0.000615</td>\n",
       "      <td>0.000394</td>\n",
       "      <td>0.000606</td>\n",
       "      <td>0.000638</td>\n",
       "      <td>0.000479</td>\n",
       "      <td>0.000398</td>\n",
       "      <td>0.000607</td>\n",
       "      <td>0.000614</td>\n",
       "      <td>0.000665</td>\n",
       "      <td>0.000617</td>\n",
       "      <td>0.000722</td>\n",
       "    </tr>\n",
       "    <tr>\n",
       "      <th>1</th>\n",
       "      <td>0.000515</td>\n",
       "      <td>0.000603</td>\n",
       "      <td>0.000379</td>\n",
       "      <td>0.000359</td>\n",
       "      <td>0.000344</td>\n",
       "      <td>0.000621</td>\n",
       "      <td>0.000588</td>\n",
       "      <td>0.000386</td>\n",
       "      <td>0.00061</td>\n",
       "      <td>0.000633</td>\n",
       "      <td>0.000465</td>\n",
       "      <td>0.000381</td>\n",
       "      <td>0.000592</td>\n",
       "      <td>0.000599</td>\n",
       "      <td>0.000632</td>\n",
       "      <td>0.000597</td>\n",
       "      <td>0.000666</td>\n",
       "    </tr>\n",
       "    <tr>\n",
       "      <th>2</th>\n",
       "      <td>0.000506</td>\n",
       "      <td>0.000582</td>\n",
       "      <td>0.00038</td>\n",
       "      <td>0.000353</td>\n",
       "      <td>0.000343</td>\n",
       "      <td>0.000617</td>\n",
       "      <td>0.00059</td>\n",
       "      <td>0.000379</td>\n",
       "      <td>0.000585</td>\n",
       "      <td>0.000621</td>\n",
       "      <td>0.000463</td>\n",
       "      <td>0.000378</td>\n",
       "      <td>0.000606</td>\n",
       "      <td>0.000592</td>\n",
       "      <td>0.000626</td>\n",
       "      <td>0.000589</td>\n",
       "      <td>0.000652</td>\n",
       "    </tr>\n",
       "    <tr>\n",
       "      <th>3</th>\n",
       "      <td>0.000505</td>\n",
       "      <td>0.000574</td>\n",
       "      <td>0.000387</td>\n",
       "      <td>0.000356</td>\n",
       "      <td>0.000338</td>\n",
       "      <td>0.000633</td>\n",
       "      <td>0.000582</td>\n",
       "      <td>0.000375</td>\n",
       "      <td>0.000583</td>\n",
       "      <td>0.000657</td>\n",
       "      <td>0.000464</td>\n",
       "      <td>0.000393</td>\n",
       "      <td>0.000584</td>\n",
       "      <td>0.000586</td>\n",
       "      <td>0.000621</td>\n",
       "      <td>0.000601</td>\n",
       "      <td>0.000656</td>\n",
       "    </tr>\n",
       "    <tr>\n",
       "      <th>4</th>\n",
       "      <td>0.000505</td>\n",
       "      <td>0.000581</td>\n",
       "      <td>0.00037</td>\n",
       "      <td>0.000348</td>\n",
       "      <td>0.000339</td>\n",
       "      <td>0.001151</td>\n",
       "      <td>0.000584</td>\n",
       "      <td>0.000381</td>\n",
       "      <td>0.000585</td>\n",
       "      <td>0.000616</td>\n",
       "      <td>0.000483</td>\n",
       "      <td>0.00038</td>\n",
       "      <td>0.000583</td>\n",
       "      <td>0.000606</td>\n",
       "      <td>0.000622</td>\n",
       "      <td>0.000611</td>\n",
       "      <td>0.000634</td>\n",
       "    </tr>\n",
       "    <tr>\n",
       "      <th>...</th>\n",
       "      <td>...</td>\n",
       "      <td>...</td>\n",
       "      <td>...</td>\n",
       "      <td>...</td>\n",
       "      <td>...</td>\n",
       "      <td>...</td>\n",
       "      <td>...</td>\n",
       "      <td>...</td>\n",
       "      <td>...</td>\n",
       "      <td>...</td>\n",
       "      <td>...</td>\n",
       "      <td>...</td>\n",
       "      <td>...</td>\n",
       "      <td>...</td>\n",
       "      <td>...</td>\n",
       "      <td>...</td>\n",
       "      <td>...</td>\n",
       "    </tr>\n",
       "    <tr>\n",
       "      <th>95</th>\n",
       "      <td>0.000174</td>\n",
       "      <td>0.00023</td>\n",
       "      <td>0.00023</td>\n",
       "      <td>0.000223</td>\n",
       "      <td>0.000243</td>\n",
       "      <td>0.000241</td>\n",
       "      <td>0.000233</td>\n",
       "      <td>0.000261</td>\n",
       "      <td>0.000245</td>\n",
       "      <td>0.000244</td>\n",
       "      <td>0.000255</td>\n",
       "      <td>0.000247</td>\n",
       "      <td>0.000233</td>\n",
       "      <td>0.000217</td>\n",
       "      <td>0.00023</td>\n",
       "      <td>0.000225</td>\n",
       "      <td>0.000287</td>\n",
       "    </tr>\n",
       "    <tr>\n",
       "      <th>96</th>\n",
       "      <td>0.000176</td>\n",
       "      <td>0.00023</td>\n",
       "      <td>0.000229</td>\n",
       "      <td>0.000224</td>\n",
       "      <td>0.000242</td>\n",
       "      <td>0.000241</td>\n",
       "      <td>0.000249</td>\n",
       "      <td>0.000246</td>\n",
       "      <td>0.00023</td>\n",
       "      <td>0.000242</td>\n",
       "      <td>0.000244</td>\n",
       "      <td>0.000248</td>\n",
       "      <td>0.000229</td>\n",
       "      <td>0.000219</td>\n",
       "      <td>0.000231</td>\n",
       "      <td>0.000234</td>\n",
       "      <td>0.000288</td>\n",
       "    </tr>\n",
       "    <tr>\n",
       "      <th>97</th>\n",
       "      <td>0.000189</td>\n",
       "      <td>0.000253</td>\n",
       "      <td>0.000229</td>\n",
       "      <td>0.000221</td>\n",
       "      <td>0.000256</td>\n",
       "      <td>0.000241</td>\n",
       "      <td>0.000246</td>\n",
       "      <td>0.000249</td>\n",
       "      <td>0.000228</td>\n",
       "      <td>0.000243</td>\n",
       "      <td>0.000243</td>\n",
       "      <td>0.000278</td>\n",
       "      <td>0.000229</td>\n",
       "      <td>0.000218</td>\n",
       "      <td>0.000231</td>\n",
       "      <td>0.000236</td>\n",
       "      <td>0.000312</td>\n",
       "    </tr>\n",
       "    <tr>\n",
       "      <th>98</th>\n",
       "      <td>0.000176</td>\n",
       "      <td>0.000248</td>\n",
       "      <td>0.000229</td>\n",
       "      <td>0.00022</td>\n",
       "      <td>0.000238</td>\n",
       "      <td>0.000244</td>\n",
       "      <td>0.000229</td>\n",
       "      <td>0.000229</td>\n",
       "      <td>0.000227</td>\n",
       "      <td>0.000243</td>\n",
       "      <td>0.000241</td>\n",
       "      <td>0.000248</td>\n",
       "      <td>0.000232</td>\n",
       "      <td>0.000217</td>\n",
       "      <td>0.000226</td>\n",
       "      <td>0.000221</td>\n",
       "      <td>0.000316</td>\n",
       "    </tr>\n",
       "    <tr>\n",
       "      <th>99</th>\n",
       "      <td>0.000176</td>\n",
       "      <td>0.000227</td>\n",
       "      <td>0.00023</td>\n",
       "      <td>0.000221</td>\n",
       "      <td>0.000237</td>\n",
       "      <td>0.00025</td>\n",
       "      <td>0.00023</td>\n",
       "      <td>0.000229</td>\n",
       "      <td>0.000228</td>\n",
       "      <td>0.000243</td>\n",
       "      <td>0.000242</td>\n",
       "      <td>0.000247</td>\n",
       "      <td>0.000228</td>\n",
       "      <td>0.000216</td>\n",
       "      <td>0.000223</td>\n",
       "      <td>0.000219</td>\n",
       "      <td>0.000285</td>\n",
       "    </tr>\n",
       "  </tbody>\n",
       "</table>\n",
       "<p>100 rows × 17 columns</p>\n",
       "</div>"
      ],
      "text/plain": [
       "   img_size_1 img_size_11 img_size_21 img_size_31 img_size_41 img_size_51  \\\n",
       "0    0.000594    0.000611    0.000388    0.000369    0.000353     0.00065   \n",
       "1    0.000515    0.000603    0.000379    0.000359    0.000344    0.000621   \n",
       "2    0.000506    0.000582     0.00038    0.000353    0.000343    0.000617   \n",
       "3    0.000505    0.000574    0.000387    0.000356    0.000338    0.000633   \n",
       "4    0.000505    0.000581     0.00037    0.000348    0.000339    0.001151   \n",
       "..        ...         ...         ...         ...         ...         ...   \n",
       "95   0.000174     0.00023     0.00023    0.000223    0.000243    0.000241   \n",
       "96   0.000176     0.00023    0.000229    0.000224    0.000242    0.000241   \n",
       "97   0.000189    0.000253    0.000229    0.000221    0.000256    0.000241   \n",
       "98   0.000176    0.000248    0.000229     0.00022    0.000238    0.000244   \n",
       "99   0.000176    0.000227     0.00023    0.000221    0.000237     0.00025   \n",
       "\n",
       "   img_size_61 img_size_71 img_size_81 img_size_91 img_size_101 img_size_111  \\\n",
       "0     0.000615    0.000394    0.000606    0.000638     0.000479     0.000398   \n",
       "1     0.000588    0.000386     0.00061    0.000633     0.000465     0.000381   \n",
       "2      0.00059    0.000379    0.000585    0.000621     0.000463     0.000378   \n",
       "3     0.000582    0.000375    0.000583    0.000657     0.000464     0.000393   \n",
       "4     0.000584    0.000381    0.000585    0.000616     0.000483      0.00038   \n",
       "..         ...         ...         ...         ...          ...          ...   \n",
       "95    0.000233    0.000261    0.000245    0.000244     0.000255     0.000247   \n",
       "96    0.000249    0.000246     0.00023    0.000242     0.000244     0.000248   \n",
       "97    0.000246    0.000249    0.000228    0.000243     0.000243     0.000278   \n",
       "98    0.000229    0.000229    0.000227    0.000243     0.000241     0.000248   \n",
       "99     0.00023    0.000229    0.000228    0.000243     0.000242     0.000247   \n",
       "\n",
       "   img_size_121 img_size_131 img_size_141 img_size_151 img_size_161  \n",
       "0      0.000607     0.000614     0.000665     0.000617     0.000722  \n",
       "1      0.000592     0.000599     0.000632     0.000597     0.000666  \n",
       "2      0.000606     0.000592     0.000626     0.000589     0.000652  \n",
       "3      0.000584     0.000586     0.000621     0.000601     0.000656  \n",
       "4      0.000583     0.000606     0.000622     0.000611     0.000634  \n",
       "..          ...          ...          ...          ...          ...  \n",
       "95     0.000233     0.000217      0.00023     0.000225     0.000287  \n",
       "96     0.000229     0.000219     0.000231     0.000234     0.000288  \n",
       "97     0.000229     0.000218     0.000231     0.000236     0.000312  \n",
       "98     0.000232     0.000217     0.000226     0.000221     0.000316  \n",
       "99     0.000228     0.000216     0.000223     0.000219     0.000285  \n",
       "\n",
       "[100 rows x 17 columns]"
      ]
     },
     "execution_count": 106,
     "metadata": {},
     "output_type": "execute_result"
    }
   ],
   "source": [
    "df_pseudorandom_gpu"
   ]
  },
  {
   "cell_type": "code",
   "execution_count": 111,
   "metadata": {},
   "outputs": [],
   "source": [
    "device = 'cpu'"
   ]
  },
  {
   "cell_type": "code",
   "execution_count": 81,
   "metadata": {},
   "outputs": [
    {
     "name": "stderr",
     "output_type": "stream",
     "text": [
      "100%|██████████| 17/17 [1:11:08<00:00, 251.08s/it]\n"
     ]
    }
   ],
   "source": [
    "# random model\n",
    "df_random_cpu = pd.DataFrame(\n",
    "    {\n",
    "        **{f\"img_size_{img_size}\": None for img_size in np.array(img_sizes)},\n",
    "    },\n",
    "    index=[0]\n",
    ")\n",
    "\n",
    "for img_size in tqdm(img_sizes):\n",
    "    x = load_url_image(url=url, img_size=img_size, grayscale=True, resize_mode=\"resize\", device=device)\n",
    "    x_phase = torch.exp(1j*x*torch.pi - 0.5j*torch.pi).to(device)\n",
    "\n",
    "    for i in range(n_repeats):\n",
    "        physics = dinv.physics.RandomPhaseRetrieval(\n",
    "            m = int(oversampling*torch.prod(torch.tensor(x.shape))),\n",
    "            img_shape= (1, img_size, img_size),\n",
    "            dtype = torch.cfloat,\n",
    "            device=device,\n",
    "        )\n",
    "        init_time = time()\n",
    "        y = physics.forward(x_phase)\n",
    "        df_random_cpu.loc[i, f\"img_size_{img_size}\"] = time() - init_time"
   ]
  },
  {
   "cell_type": "code",
   "execution_count": 114,
   "metadata": {},
   "outputs": [
    {
     "name": "stderr",
     "output_type": "stream",
     "text": [
      "  0%|          | 0/17 [00:00<?, ?it/s]"
     ]
    },
    {
     "name": "stderr",
     "output_type": "stream",
     "text": [
      "100%|██████████| 17/17 [00:06<00:00,  2.66it/s]\n"
     ]
    }
   ],
   "source": [
    "# pseudorandom model\n",
    "df_pseudorandom_cpu = pd.DataFrame(\n",
    "    {\n",
    "        **{f\"img_size_{img_size}\": None for img_size in np.array(img_sizes)},\n",
    "    },\n",
    "    index=[0]\n",
    ")\n",
    "\n",
    "for img_size in tqdm(img_sizes):\n",
    "    img_size = img_size\n",
    "    x = load_url_image(url=url, img_size=img_size, grayscale=True, resize_mode=\"resize\", device=device)\n",
    "    x_phase = torch.exp(1j*x*torch.pi - 0.5j*torch.pi).to(device)\n",
    "\n",
    "    for i in range(n_repeats):\n",
    "        physics = dinv.physics.PseudoRandomPhaseRetrieval(\n",
    "            n_layers=2,\n",
    "            input_shape=(1, img_size, img_size),\n",
    "            output_shape=(1, int(math.sqrt(oversampling))*img_size, int(math.sqrt(oversampling))*img_size),\n",
    "            dtype = torch.cfloat,\n",
    "            device=device,\n",
    "        )\n",
    "        init_time = time()\n",
    "        y = physics.forward(x_phase)\n",
    "        df_pseudorandom_cpu.loc[i, f\"img_size_{img_size}\"] = time() - init_time"
   ]
  },
  {
   "cell_type": "code",
   "execution_count": 83,
   "metadata": {},
   "outputs": [
    {
     "data": {
      "text/plain": [
       "array([0.0001290130615234375, 0.0001510810852050781,\n",
       "       0.00017380714416503906, 0.0002672910690307617,\n",
       "       0.0005184388160705566, 0.0008750557899475098,\n",
       "       0.0016055941581726075, 0.0022009634971618653,\n",
       "       0.0036849331855773925, 0.0050679826736450195, 0.007164092063903809,\n",
       "       0.010233995914459228, 0.014109177589416504, 0.019362120628356932,\n",
       "       0.024639775753021242, 0.03548391342163086, 0.045135767459869386],\n",
       "      dtype=object)"
      ]
     },
     "execution_count": 83,
     "metadata": {},
     "output_type": "execute_result"
    }
   ],
   "source": [
    "df_random_cpu.mean(axis=0).values"
   ]
  },
  {
   "cell_type": "code",
   "execution_count": 85,
   "metadata": {},
   "outputs": [],
   "source": [
    "pixels = [i**2 for i in img_sizes]"
   ]
  },
  {
   "cell_type": "code",
   "execution_count": 126,
   "metadata": {},
   "outputs": [
    {
     "data": {
      "image/png": "[encoded data removed]",
      "text/plain": [
       "<Figure size 640x480 with 1 Axes>"
      ]
     },
     "metadata": {},
     "output_type": "display_data"
    }
   ],
   "source": [
    "plt.plot(pixels,df_random_cpu.mean(axis=0),label='Random (CPU)')\n",
    "plt.plot(pixels,df_random_gpu.mean(axis=0),label='Random (GPU)')\n",
    "plt.plot(pixels,df_pseudorandom_cpu.mean(axis=0),label='Pseudorandom (CPU)')\n",
    "plt.plot(pixels,df_pseudorandom_gpu.mean(axis=0),label='Pseudorandom (GPU)')\n",
    "plt.xlabel('Image size (pixels)')\n",
    "plt.ylabel('Forward time (s)')\n",
    "plt.xscale('log')\n",
    "plt.yscale('log')\n",
    "plt.title(f'Time Complexity of Forward Model')\n",
    "plt.legend()\n",
    "plt.savefig('time.svg')\n",
    "plt.show()"
   ]
  },
  {
   "cell_type": "code",
   "execution_count": 55,
   "metadata": {},
   "outputs": [
    {
     "name": "stdout",
     "output_type": "stream",
     "text": [
      "Random (CPU)\n"
     ]
    },
    {
     "ename": "ValueError",
     "evalue": "All arrays must be of the same length",
     "output_type": "error",
     "traceback": [
      "\u001b[0;31m---------------------------------------------------------------------------\u001b[0m",
      "\u001b[0;31mValueError\u001b[0m                                Traceback (most recent call last)",
      "Cell \u001b[0;32mIn[55], line 1\u001b[0m\n\u001b[0;32m----> 1\u001b[0m \u001b[43mplot_error_bars\u001b[49m\u001b[43m(\u001b[49m\u001b[43m[\u001b[49m\u001b[43mpixels\u001b[49m\u001b[43m]\u001b[49m\u001b[43m \u001b[49m\u001b[38;5;241;43m*\u001b[39;49m\u001b[43m \u001b[49m\u001b[38;5;241;43m4\u001b[39;49m\u001b[43m,\u001b[49m\n\u001b[1;32m      2\u001b[0m \u001b[43m                \u001b[49m\u001b[43m[\u001b[49m\u001b[43mdf_random_cpu\u001b[49m\u001b[43m,\u001b[49m\u001b[43m \u001b[49m\u001b[43mdf_random_gpu\u001b[49m\u001b[43m,\u001b[49m\u001b[43m \u001b[49m\u001b[43mdf_pseudorandom_cpu\u001b[49m\u001b[43m,\u001b[49m\u001b[43m \u001b[49m\u001b[43mdf_pseudorandom_gpu\u001b[49m\u001b[43m]\u001b[49m\u001b[43m,\u001b[49m\n\u001b[1;32m      3\u001b[0m \u001b[43m                \u001b[49m\u001b[43m[\u001b[49m\u001b[38;5;124;43m'\u001b[39;49m\u001b[38;5;124;43mRandom (CPU)\u001b[39;49m\u001b[38;5;124;43m'\u001b[39;49m\u001b[43m,\u001b[49m\u001b[43m \u001b[49m\u001b[38;5;124;43m'\u001b[39;49m\u001b[38;5;124;43mRandom (GPU)\u001b[39;49m\u001b[38;5;124;43m'\u001b[39;49m\u001b[43m,\u001b[49m\u001b[43m \u001b[49m\u001b[38;5;124;43m'\u001b[39;49m\u001b[38;5;124;43mPseudorandom (CPU)\u001b[39;49m\u001b[38;5;124;43m'\u001b[39;49m\u001b[43m,\u001b[49m\u001b[43m \u001b[49m\u001b[38;5;124;43m'\u001b[39;49m\u001b[38;5;124;43mPseudorandom (GPU)\u001b[39;49m\u001b[38;5;124;43m'\u001b[39;49m\u001b[43m]\u001b[49m\u001b[43m,\u001b[49m\n\u001b[1;32m      4\u001b[0m \u001b[43m                \u001b[49m\u001b[43mtitle\u001b[49m\u001b[43m \u001b[49m\u001b[38;5;241;43m=\u001b[39;49m\u001b[43m \u001b[49m\u001b[38;5;124;43mf\u001b[39;49m\u001b[38;5;124;43m'\u001b[39;49m\u001b[38;5;124;43mForward time (s) vs Image size (oversampling=\u001b[39;49m\u001b[38;5;132;43;01m{\u001b[39;49;00m\u001b[43moversampling\u001b[49m\u001b[38;5;132;43;01m}\u001b[39;49;00m\u001b[38;5;124;43m)\u001b[39;49m\u001b[38;5;124;43m'\u001b[39;49m\u001b[43m,\u001b[49m\n\u001b[1;32m      5\u001b[0m \u001b[43m                \u001b[49m\u001b[43mxlabel\u001b[49m\u001b[43m \u001b[49m\u001b[38;5;241;43m=\u001b[39;49m\u001b[43m \u001b[49m\u001b[38;5;124;43m'\u001b[39;49m\u001b[38;5;124;43mImage size\u001b[39;49m\u001b[38;5;124;43m'\u001b[39;49m\u001b[43m,\u001b[49m\n\u001b[1;32m      6\u001b[0m \u001b[43m                \u001b[49m\u001b[43mxscale\u001b[49m\u001b[43m \u001b[49m\u001b[38;5;241;43m=\u001b[39;49m\u001b[43m \u001b[49m\u001b[38;5;124;43m'\u001b[39;49m\u001b[38;5;124;43mlog\u001b[39;49m\u001b[38;5;124;43m'\u001b[39;49m\u001b[43m,\u001b[49m\n\u001b[1;32m      7\u001b[0m \u001b[43m                \u001b[49m\u001b[43mylabel\u001b[49m\u001b[43m \u001b[49m\u001b[38;5;241;43m=\u001b[39;49m\u001b[43m \u001b[49m\u001b[38;5;124;43m'\u001b[39;49m\u001b[38;5;124;43mForward time (s)\u001b[39;49m\u001b[38;5;124;43m'\u001b[39;49m\u001b[43m,\u001b[49m\n\u001b[1;32m      8\u001b[0m \u001b[43m                \u001b[49m\u001b[43myscale\u001b[49m\u001b[43m \u001b[49m\u001b[38;5;241;43m=\u001b[39;49m\u001b[43m \u001b[49m\u001b[38;5;124;43m'\u001b[39;49m\u001b[38;5;124;43mlog\u001b[39;49m\u001b[38;5;124;43m'\u001b[39;49m\u001b[43m,\u001b[49m\n\u001b[1;32m      9\u001b[0m \u001b[43m                \u001b[49m\u001b[43maxis\u001b[49m\u001b[43m \u001b[49m\u001b[38;5;241;43m=\u001b[39;49m\u001b[43m \u001b[49m\u001b[38;5;241;43m0\u001b[39;49m\u001b[43m)\u001b[49m\n",
      "File \u001b[0;32m~/workspaces/deepinv/deepinv/optim/phase_retrieval.py:180\u001b[0m, in \u001b[0;36mplot_error_bars\u001b[0;34m(oversamplings, datasets, labels, axis, title, xlabel, ylabel, xscale, yscale, save)\u001b[0m\n\u001b[1;32m    177\u001b[0m yerr_upper \u001b[38;5;241m=\u001b[39m max_vals \u001b[38;5;241m-\u001b[39m avg_vals\n\u001b[1;32m    179\u001b[0m \u001b[38;5;66;03m# Prepare data for plotting\u001b[39;00m\n\u001b[0;32m--> 180\u001b[0m df \u001b[38;5;241m=\u001b[39m \u001b[43mpd\u001b[49m\u001b[38;5;241;43m.\u001b[39;49m\u001b[43mDataFrame\u001b[49m\u001b[43m(\u001b[49m\n\u001b[1;32m    181\u001b[0m \u001b[43m    \u001b[49m\u001b[43m{\u001b[49m\n\u001b[1;32m    182\u001b[0m \u001b[43m        \u001b[49m\u001b[38;5;124;43m\"\u001b[39;49m\u001b[38;5;124;43mx\u001b[39;49m\u001b[38;5;124;43m\"\u001b[39;49m\u001b[43m:\u001b[49m\u001b[43m \u001b[49m\u001b[43moversampling\u001b[49m\u001b[43m,\u001b[49m\n\u001b[1;32m    183\u001b[0m \u001b[43m        \u001b[49m\u001b[38;5;124;43m\"\u001b[39;49m\u001b[38;5;124;43mavg\u001b[39;49m\u001b[38;5;124;43m\"\u001b[39;49m\u001b[43m:\u001b[49m\u001b[43m \u001b[49m\u001b[43mavg_vals\u001b[49m\u001b[43m,\u001b[49m\n\u001b[1;32m    184\u001b[0m \u001b[43m        \u001b[49m\u001b[38;5;124;43m\"\u001b[39;49m\u001b[38;5;124;43myerr_lower\u001b[39;49m\u001b[38;5;124;43m\"\u001b[39;49m\u001b[43m:\u001b[49m\u001b[43m \u001b[49m\u001b[43myerr_lower\u001b[49m\u001b[43m,\u001b[49m\n\u001b[1;32m    185\u001b[0m \u001b[43m        \u001b[49m\u001b[38;5;124;43m\"\u001b[39;49m\u001b[38;5;124;43myerr_upper\u001b[39;49m\u001b[38;5;124;43m\"\u001b[39;49m\u001b[43m:\u001b[49m\u001b[43m \u001b[49m\u001b[43myerr_upper\u001b[49m\u001b[43m,\u001b[49m\n\u001b[1;32m    186\u001b[0m \u001b[43m    \u001b[49m\u001b[43m}\u001b[49m\n\u001b[1;32m    187\u001b[0m \u001b[43m\u001b[49m\u001b[43m)\u001b[49m\n\u001b[1;32m    189\u001b[0m \u001b[38;5;66;03m# Plotting\u001b[39;00m\n\u001b[1;32m    190\u001b[0m color \u001b[38;5;241m=\u001b[39m palette[i]\n",
      "File \u001b[0;32m~/.conda/envs/deepinv/lib/python3.9/site-packages/pandas/core/frame.py:778\u001b[0m, in \u001b[0;36mDataFrame.__init__\u001b[0;34m(self, data, index, columns, dtype, copy)\u001b[0m\n\u001b[1;32m    772\u001b[0m     mgr \u001b[38;5;241m=\u001b[39m \u001b[38;5;28mself\u001b[39m\u001b[38;5;241m.\u001b[39m_init_mgr(\n\u001b[1;32m    773\u001b[0m         data, axes\u001b[38;5;241m=\u001b[39m{\u001b[38;5;124m\"\u001b[39m\u001b[38;5;124mindex\u001b[39m\u001b[38;5;124m\"\u001b[39m: index, \u001b[38;5;124m\"\u001b[39m\u001b[38;5;124mcolumns\u001b[39m\u001b[38;5;124m\"\u001b[39m: columns}, dtype\u001b[38;5;241m=\u001b[39mdtype, copy\u001b[38;5;241m=\u001b[39mcopy\n\u001b[1;32m    774\u001b[0m     )\n\u001b[1;32m    776\u001b[0m \u001b[38;5;28;01melif\u001b[39;00m \u001b[38;5;28misinstance\u001b[39m(data, \u001b[38;5;28mdict\u001b[39m):\n\u001b[1;32m    777\u001b[0m     \u001b[38;5;66;03m# GH#38939 de facto copy defaults to False only in non-dict cases\u001b[39;00m\n\u001b[0;32m--> 778\u001b[0m     mgr \u001b[38;5;241m=\u001b[39m \u001b[43mdict_to_mgr\u001b[49m\u001b[43m(\u001b[49m\u001b[43mdata\u001b[49m\u001b[43m,\u001b[49m\u001b[43m \u001b[49m\u001b[43mindex\u001b[49m\u001b[43m,\u001b[49m\u001b[43m \u001b[49m\u001b[43mcolumns\u001b[49m\u001b[43m,\u001b[49m\u001b[43m \u001b[49m\u001b[43mdtype\u001b[49m\u001b[38;5;241;43m=\u001b[39;49m\u001b[43mdtype\u001b[49m\u001b[43m,\u001b[49m\u001b[43m \u001b[49m\u001b[43mcopy\u001b[49m\u001b[38;5;241;43m=\u001b[39;49m\u001b[43mcopy\u001b[49m\u001b[43m,\u001b[49m\u001b[43m \u001b[49m\u001b[43mtyp\u001b[49m\u001b[38;5;241;43m=\u001b[39;49m\u001b[43mmanager\u001b[49m\u001b[43m)\u001b[49m\n\u001b[1;32m    779\u001b[0m \u001b[38;5;28;01melif\u001b[39;00m \u001b[38;5;28misinstance\u001b[39m(data, ma\u001b[38;5;241m.\u001b[39mMaskedArray):\n\u001b[1;32m    780\u001b[0m     \u001b[38;5;28;01mfrom\u001b[39;00m \u001b[38;5;21;01mnumpy\u001b[39;00m\u001b[38;5;21;01m.\u001b[39;00m\u001b[38;5;21;01mma\u001b[39;00m \u001b[38;5;28;01mimport\u001b[39;00m mrecords\n",
      "File \u001b[0;32m~/.conda/envs/deepinv/lib/python3.9/site-packages/pandas/core/internals/construction.py:503\u001b[0m, in \u001b[0;36mdict_to_mgr\u001b[0;34m(data, index, columns, dtype, typ, copy)\u001b[0m\n\u001b[1;32m    499\u001b[0m     \u001b[38;5;28;01melse\u001b[39;00m:\n\u001b[1;32m    500\u001b[0m         \u001b[38;5;66;03m# dtype check to exclude e.g. range objects, scalars\u001b[39;00m\n\u001b[1;32m    501\u001b[0m         arrays \u001b[38;5;241m=\u001b[39m [x\u001b[38;5;241m.\u001b[39mcopy() \u001b[38;5;28;01mif\u001b[39;00m \u001b[38;5;28mhasattr\u001b[39m(x, \u001b[38;5;124m\"\u001b[39m\u001b[38;5;124mdtype\u001b[39m\u001b[38;5;124m\"\u001b[39m) \u001b[38;5;28;01melse\u001b[39;00m x \u001b[38;5;28;01mfor\u001b[39;00m x \u001b[38;5;129;01min\u001b[39;00m arrays]\n\u001b[0;32m--> 503\u001b[0m \u001b[38;5;28;01mreturn\u001b[39;00m \u001b[43marrays_to_mgr\u001b[49m\u001b[43m(\u001b[49m\u001b[43marrays\u001b[49m\u001b[43m,\u001b[49m\u001b[43m \u001b[49m\u001b[43mcolumns\u001b[49m\u001b[43m,\u001b[49m\u001b[43m \u001b[49m\u001b[43mindex\u001b[49m\u001b[43m,\u001b[49m\u001b[43m \u001b[49m\u001b[43mdtype\u001b[49m\u001b[38;5;241;43m=\u001b[39;49m\u001b[43mdtype\u001b[49m\u001b[43m,\u001b[49m\u001b[43m \u001b[49m\u001b[43mtyp\u001b[49m\u001b[38;5;241;43m=\u001b[39;49m\u001b[43mtyp\u001b[49m\u001b[43m,\u001b[49m\u001b[43m \u001b[49m\u001b[43mconsolidate\u001b[49m\u001b[38;5;241;43m=\u001b[39;49m\u001b[43mcopy\u001b[49m\u001b[43m)\u001b[49m\n",
      "File \u001b[0;32m~/.conda/envs/deepinv/lib/python3.9/site-packages/pandas/core/internals/construction.py:114\u001b[0m, in \u001b[0;36marrays_to_mgr\u001b[0;34m(arrays, columns, index, dtype, verify_integrity, typ, consolidate)\u001b[0m\n\u001b[1;32m    111\u001b[0m \u001b[38;5;28;01mif\u001b[39;00m verify_integrity:\n\u001b[1;32m    112\u001b[0m     \u001b[38;5;66;03m# figure out the index, if necessary\u001b[39;00m\n\u001b[1;32m    113\u001b[0m     \u001b[38;5;28;01mif\u001b[39;00m index \u001b[38;5;129;01mis\u001b[39;00m \u001b[38;5;28;01mNone\u001b[39;00m:\n\u001b[0;32m--> 114\u001b[0m         index \u001b[38;5;241m=\u001b[39m \u001b[43m_extract_index\u001b[49m\u001b[43m(\u001b[49m\u001b[43marrays\u001b[49m\u001b[43m)\u001b[49m\n\u001b[1;32m    115\u001b[0m     \u001b[38;5;28;01melse\u001b[39;00m:\n\u001b[1;32m    116\u001b[0m         index \u001b[38;5;241m=\u001b[39m ensure_index(index)\n",
      "File \u001b[0;32m~/.conda/envs/deepinv/lib/python3.9/site-packages/pandas/core/internals/construction.py:677\u001b[0m, in \u001b[0;36m_extract_index\u001b[0;34m(data)\u001b[0m\n\u001b[1;32m    675\u001b[0m lengths \u001b[38;5;241m=\u001b[39m \u001b[38;5;28mlist\u001b[39m(\u001b[38;5;28mset\u001b[39m(raw_lengths))\n\u001b[1;32m    676\u001b[0m \u001b[38;5;28;01mif\u001b[39;00m \u001b[38;5;28mlen\u001b[39m(lengths) \u001b[38;5;241m>\u001b[39m \u001b[38;5;241m1\u001b[39m:\n\u001b[0;32m--> 677\u001b[0m     \u001b[38;5;28;01mraise\u001b[39;00m \u001b[38;5;167;01mValueError\u001b[39;00m(\u001b[38;5;124m\"\u001b[39m\u001b[38;5;124mAll arrays must be of the same length\u001b[39m\u001b[38;5;124m\"\u001b[39m)\n\u001b[1;32m    679\u001b[0m \u001b[38;5;28;01mif\u001b[39;00m have_dicts:\n\u001b[1;32m    680\u001b[0m     \u001b[38;5;28;01mraise\u001b[39;00m \u001b[38;5;167;01mValueError\u001b[39;00m(\n\u001b[1;32m    681\u001b[0m         \u001b[38;5;124m\"\u001b[39m\u001b[38;5;124mMixing dicts with non-Series may lead to ambiguous ordering.\u001b[39m\u001b[38;5;124m\"\u001b[39m\n\u001b[1;32m    682\u001b[0m     )\n",
      "\u001b[0;31mValueError\u001b[0m: All arrays must be of the same length"
     ]
    },
    {
     "data": {
      "text/plain": [
       "<Figure size 1000x600 with 0 Axes>"
      ]
     },
     "metadata": {},
     "output_type": "display_data"
    }
   ],
   "source": [
    "plot_error_bars([pixels] * 4,\n",
    "                [df_random_cpu, df_random_gpu, df_pseudorandom_cpu, df_pseudorandom_gpu],\n",
    "                ['Random (CPU)', 'Random (GPU)', 'Pseudorandom (CPU)', 'Pseudorandom (GPU)'],\n",
    "                title = f'Forward time (s) vs Image size (oversampling={oversampling})',\n",
    "                xlabel = 'Image size',\n",
    "                xscale = 'log',\n",
    "                ylabel = 'Forward time (s)',\n",
    "                yscale = 'log',\n",
    "                axis = 0)"
   ]
  },
  {
   "cell_type": "markdown",
   "metadata": {},
   "source": [
    "# Use deepinv optimizer for random model"
   ]
  },
  {
   "cell_type": "code",
   "execution_count": null,
   "metadata": {},
   "outputs": [],
   "source": [
    "# Set up the variable to fetch dataset and operators.\n",
    "img_size = 99\n",
    "url = get_image_url(\"SheppLogan.png\")\n",
    "x = load_url_image(\n",
    "    url=url, img_size=img_size, grayscale=True, resize_mode=\"resize\", device=device\n",
    ")\n",
    "x.shape\n",
    "\n",
    "# generate phase signal\n",
    "\n",
    "# The phase is computed as 2*pi*x - pi, where x is the original image.\n",
    "x_phase = torch.exp(1j * x * torch.pi - 0.5j * torch.pi).to(device)\n",
    "\n",
    "# Every element of the signal should have unit norm.\n",
    "assert torch.allclose(x_phase.real**2 + x_phase.imag**2, torch.tensor(1.0))"
   ]
  },
  {
   "cell_type": "code",
   "execution_count": null,
   "metadata": {},
   "outputs": [],
   "source": [
    "data_fidelity = L2()\n",
    "prior = dinv.optim.prior.Zero()\n",
    "max_iter = 5000\n",
    "early_stop = True\n",
    "verbose = True\n",
    "# stepsize: use 1e-4 for oversampling ratio 0-2, and 3e-3*oversampling for oversampling ratio 2-9\n",
    "step_size = 5e-3"
   ]
  },
  {
   "cell_type": "code",
   "execution_count": null,
   "metadata": {},
   "outputs": [],
   "source": [
    "physics = dinv.physics.RandomPhaseRetrieval(\n",
    "    m=3*torch.prod(torch.tensor(x.shape)),\n",
    "    img_shape=(1, img_size, img_size),\n",
    "    dtype=torch.cfloat,\n",
    "    device=device,\n",
    ")\n",
    "y = physics(x_phase)"
   ]
  },
  {
   "cell_type": "code",
   "execution_count": null,
   "metadata": {},
   "outputs": [
    {
     "name": "stdout",
     "output_type": "stream",
     "text": [
      "stepsize: 0.015\n"
     ]
    }
   ],
   "source": [
    "params_algo = {\"stepsize\": step_size * 3, \"g_params\": 0.00}\n",
    "print(\"stepsize:\", params_algo[\"stepsize\"])\n",
    "model = optim_builder(\n",
    "    iteration=\"PGD\",\n",
    "    prior=prior,\n",
    "    data_fidelity=data_fidelity,\n",
    "    early_stop=early_stop,\n",
    "    max_iter=max_iter,\n",
    "    verbose=verbose,\n",
    "    params_algo=params_algo,\n",
    "    custom_init=spectral_methods_wrapper,\n",
    ")\n",
    "\n",
    "x_phase_gd_spec, _ = model(y, physics, x_gt=x_phase, compute_metrics=True)"
   ]
  },
  {
   "cell_type": "code",
   "execution_count": null,
   "metadata": {},
   "outputs": [
    {
     "name": "stdout",
     "output_type": "stream",
     "text": [
      "Image 0, channel 0 does not have a global phase shift.\n",
      "Cosine similarity: 0.9884\n"
     ]
    },
    {
     "data": {
      "image/png": "[encoded data removed]",
      "text/plain": [
       "<Figure size 400x200 with 2 Axes>"
      ]
     },
     "metadata": {},
     "output_type": "display_data"
    }
   ],
   "source": [
    "x_phase_gd_spec = correct_global_phase(x_phase_gd_spec, x_phase)\n",
    "metrics = cosine_similarity(x_phase_gd_spec, x_phase)\n",
    "print(f\"Cosine similarity: {metrics:.4f}\")\n",
    "# extract phase information and normalize to the range [0, 1]\n",
    "x_gd_spec = torch.angle(x_phase_gd_spec) / torch.pi + 0.5\n",
    "plot([x, x_gd_spec],titles=[\"Signal\",\"Reconstruction\"],rescale_mode='clip')"
   ]
  },
  {
   "cell_type": "markdown",
   "metadata": {},
   "source": [
    "# Use PnP as regularizer"
   ]
  },
  {
   "cell_type": "code",
   "execution_count": null,
   "metadata": {},
   "outputs": [],
   "source": [
    "# Set up the variable to fetch dataset and operators.\n",
    "img_size = 99\n",
    "url = get_image_url(\"SheppLogan.png\")\n",
    "x = load_url_image(\n",
    "    url=url, img_size=img_size, grayscale=True, resize_mode=\"resize\", device=device\n",
    ")\n",
    "x.shape\n",
    "\n",
    "# generate phase signal\n",
    "\n",
    "# The phase is computed as 2*pi*x - pi, where x is the original image.\n",
    "x_phase = torch.exp(1j * x * torch.pi - 0.5j * torch.pi).to(device)\n",
    "\n",
    "# Every element of the signal should have unit norm.\n",
    "assert torch.allclose(x_phase.real**2 + x_phase.imag**2, torch.tensor(1.0))"
   ]
  },
  {
   "cell_type": "code",
   "execution_count": null,
   "metadata": {},
   "outputs": [],
   "source": [
    "noise_level_img = 0.05\n",
    "\n",
    "physics = dinv.physics.PseudoRandomPhaseRetrieval(\n",
    "    n_layers=2,\n",
    "    input_shape=(1, img_size, img_size),\n",
    "    output_shape=(1, 171, 171),\n",
    "    dtype=torch.cfloat,\n",
    "    device=device,\n",
    "    #noise_model=dinv.physics.GaussianNoise(sigma=noise_level_img)\n",
    ")\n",
    "y = physics(x_phase)"
   ]
  },
  {
   "cell_type": "code",
   "execution_count": null,
   "metadata": {},
   "outputs": [],
   "source": [
    "n_channels = 1\n",
    "\n",
    "denoiser = DRUNet(\n",
    "    in_channels=n_channels,\n",
    "    out_channels=n_channels,\n",
    "    pretrained=\"download\",  # automatically downloads the pretrained weights, set to a path to use custom weights.\n",
    "    train=False,\n",
    "    device=device,\n",
    ") # TODO: use dncnn lipschitz constant\n",
    "denoiser_complex = to_complex_denoiser(denoiser,mode=\"abs_angle\")"
   ]
  },
  {
   "cell_type": "code",
   "execution_count": null,
   "metadata": {},
   "outputs": [],
   "source": [
    "data_fidelity = L2()\n",
    "prior = dinv.optim.prior.PnP(denoiser=denoiser_complex)\n",
    "#prior = dinv.optim.prior.Zero()\n",
    "max_iter = 5000\n",
    "early_stop = True\n",
    "verbose = True\n",
    "# stepsize: use 1e-4 for oversampling ratio 0-2, and 3e-3*oversampling for oversampling ratio 2-9\n",
    "step_size = 1e-5"
   ]
  },
  {
   "cell_type": "code",
   "execution_count": null,
   "metadata": {},
   "outputs": [
    {
     "name": "stdout",
     "output_type": "stream",
     "text": [
      "stepsize: 1e-05\n"
     ]
    }
   ],
   "source": [
    "params_algo = {\"stepsize\": step_size, \"g_param\": 0.10}\n",
    "print(\"stepsize:\", params_algo[\"stepsize\"])\n",
    "model = optim_builder(\n",
    "    iteration=\"PGD\",\n",
    "    prior=prior,\n",
    "    data_fidelity=data_fidelity,\n",
    "    early_stop=early_stop,\n",
    "    max_iter=max_iter,\n",
    "    verbose=verbose,\n",
    "    params_algo=params_algo,\n",
    "    custom_init=spectral_methods_wrapper,\n",
    ")\n",
    "\n",
    "x_phase_gd_spec = model(y, physics, x_gt=x_phase, compute_metrics=True)"
   ]
  },
  {
   "cell_type": "code",
   "execution_count": null,
   "metadata": {},
   "outputs": [
    {
     "name": "stdout",
     "output_type": "stream",
     "text": [
      "Image 0, channel 0 does not have a global phase shift.\n"
     ]
    },
    {
     "data": {
      "image/png": "[encoded data removed]",
      "text/plain": [
       "<Figure size 400x200 with 2 Axes>"
      ]
     },
     "metadata": {},
     "output_type": "display_data"
    },
    {
     "name": "stdout",
     "output_type": "stream",
     "text": [
      "Cosine similarity: 0.1567\n"
     ]
    }
   ],
   "source": [
    "# correct possible global phase shifts\n",
    "x_gd_spec = correct_global_phase(x_phase_gd_spec, x_phase)\n",
    "# now no global phase shift should exist\n",
    "#assert torch.allclose(x_est, x_phase)\n",
    "# extract phase information and normalize to the range [0, 1]\n",
    "x_gd_spec = torch.angle(x_gd_spec) / (2*torch.pi) + 0.5\n",
    "plot([x, x_gd_spec],titles=[\"Signal\",\"Reconstruction\"],rescale_mode='clip')\n",
    "print(f\"Cosine similarity: {cosine_similarity(x_phase_gd_spec, x_phase):.4f}\")"
   ]
  },
  {
   "cell_type": "markdown",
   "metadata": {},
   "source": [
    "# Use shared weights"
   ]
  },
  {
   "cell_type": "code",
   "execution_count": null,
   "metadata": {},
   "outputs": [],
   "source": [
    "# Set up the variable to fetch dataset and operators.\n",
    "img_size = 99\n",
    "url = get_image_url(\"SheppLogan.png\")\n",
    "x = load_url_image(\n",
    "    url=url, img_size=img_size, grayscale=True, resize_mode=\"resize\", device=device\n",
    ")\n",
    "x.shape\n",
    "\n",
    "# generate phase signal\n",
    "\n",
    "# The phase is computed as 2*pi*x - pi, where x is the original image.\n",
    "x_phase = torch.exp(1j * x * torch.pi - 0.5j * torch.pi).to(device)\n",
    "\n",
    "# Every element of the signal should have unit norm.\n",
    "assert torch.allclose(x_phase.real**2 + x_phase.imag**2, torch.tensor(1.0))"
   ]
  },
  {
   "cell_type": "code",
   "execution_count": null,
   "metadata": {},
   "outputs": [],
   "source": [
    "physics = dinv.physics.PseudoRandomPhaseRetrieval(\n",
    "    n_layers=2,\n",
    "    input_shape=(1, img_size, img_size),\n",
    "    output_shape=(1, 171, 171),\n",
    "    dtype=torch.cfloat,\n",
    "    device=device,\n",
    "    drop_tail=True,\n",
    ")\n",
    "\n",
    "y = physics(x_phase)"
   ]
  },
  {
   "cell_type": "code",
   "execution_count": null,
   "metadata": {},
   "outputs": [
    {
     "data": {
      "text/plain": [
       "[tensor([[[ 0.9043+0.4269j, -0.9371+0.3490j,  0.9860-0.1670j,  ...,\n",
       "            0.8112-0.5847j, -0.4085-0.9127j, -0.2068-0.9784j],\n",
       "          [-0.8704-0.4924j,  0.2522+0.9677j,  0.7762+0.6305j,  ...,\n",
       "           -0.9692-0.2462j,  0.1771+0.9842j,  0.0209+0.9998j],\n",
       "          [ 0.4133-0.9106j,  0.8790-0.4768j, -0.0561+0.9984j,  ...,\n",
       "           -0.9329-0.3601j, -0.7650-0.6441j,  0.2472+0.9690j],\n",
       "          ...,\n",
       "          [-0.7214+0.6925j,  1.0000-0.0056j, -0.7232-0.6906j,  ...,\n",
       "           -0.4729+0.8811j,  0.2255+0.9742j, -0.2785+0.9604j],\n",
       "          [ 0.9791-0.2032j, -0.3175-0.9483j,  0.1280+0.9918j,  ...,\n",
       "            0.8135+0.5816j, -0.8794+0.4761j,  0.9640-0.2660j],\n",
       "          [ 0.0550+0.9985j,  0.9712+0.2381j,  0.2819+0.9594j,  ...,\n",
       "           -0.9376-0.3478j, -0.6433+0.7656j,  0.8973+0.4414j]]],\n",
       "        device='cuda:0'),\n",
       " tensor([[[ 0.9389+0.3442j, -0.8902+0.4556j,  0.2784-0.9605j,  ...,\n",
       "           -0.1529+0.9882j,  0.7776+0.6288j, -0.8758+0.4826j],\n",
       "          [ 0.3117+0.9502j, -0.3825-0.9239j, -0.6556+0.7551j,  ...,\n",
       "           -0.1406+0.9901j, -0.9958-0.0911j, -0.8954-0.4452j],\n",
       "          [-0.8937+0.4486j, -0.4277+0.9039j, -0.0851+0.9964j,  ...,\n",
       "           -0.9115-0.4114j,  0.8072+0.5903j,  0.5089-0.8608j],\n",
       "          ...,\n",
       "          [-0.7482+0.6635j,  0.7814+0.6241j,  0.5047+0.8633j,  ...,\n",
       "            0.5107-0.8598j,  0.5046-0.8633j, -0.2432-0.9700j],\n",
       "          [ 0.1961+0.9806j,  0.1437+0.9896j,  0.9110-0.4123j,  ...,\n",
       "            0.6025-0.7981j,  0.2391-0.9710j,  0.1223+0.9925j],\n",
       "          [ 0.2350-0.9720j, -0.7526-0.6584j, -0.7958+0.6056j,  ...,\n",
       "           -0.6073+0.7945j, -0.9548+0.2972j, -0.9980+0.0634j]]],\n",
       "        device='cuda:0')]"
      ]
     },
     "execution_count": 116,
     "metadata": {},
     "output_type": "execute_result"
    }
   ],
   "source": [
    "physics.diagonals"
   ]
  },
  {
   "cell_type": "code",
   "execution_count": null,
   "metadata": {},
   "outputs": [],
   "source": [
    "assert torch.allclose((physics.B.A_adjoint(physics.B(x_phase))),x_phase)"
   ]
  },
  {
   "cell_type": "code",
   "execution_count": null,
   "metadata": {},
   "outputs": [],
   "source": [
    "data_fidelity = L2()\n",
    "#prior = dinv.optim.prior.PnP(denoiser=denoiser_complex)\n",
    "prior = dinv.optim.prior.Zero()\n",
    "max_iter = 10000\n",
    "early_stop = True\n",
    "verbose = True\n",
    "# stepsize: use 1e-4 for oversampling ratio 0-2, and 3e-3*oversampling for oversampling ratio 2-9\n",
    "step_size = 1e-2"
   ]
  },
  {
   "cell_type": "code",
   "execution_count": null,
   "metadata": {},
   "outputs": [],
   "source": [
    "def spectral_methods_wrapper(y, physics, n_iter=5000, **kwargs):\n",
    "    x = spectral_methods(y, physics, n_iter=n_iter, **kwargs)\n",
    "    z = spectral_methods(y, physics, n_iter=n_iter, **kwargs)\n",
    "    return {\"est\": (x, z)}"
   ]
  },
  {
   "cell_type": "code",
   "execution_count": null,
   "metadata": {},
   "outputs": [
    {
     "name": "stdout",
     "output_type": "stream",
     "text": [
      "stepsize: 0.01\n"
     ]
    }
   ],
   "source": [
    "params_algo = {\"stepsize\": step_size, \"g_param\": 0.00}\n",
    "print(\"stepsize:\", params_algo[\"stepsize\"])\n",
    "model = optim_builder(\n",
    "    iteration=\"PGD\",\n",
    "    prior=prior,\n",
    "    data_fidelity=data_fidelity,\n",
    "    early_stop=early_stop,\n",
    "    max_iter=max_iter,\n",
    "    verbose=verbose,\n",
    "    params_algo=params_algo,\n",
    "    custom_init=spectral_methods_wrapper,\n",
    ")\n",
    "\n",
    "x_phase_gd_spec = model(y, physics, x_gt=x_phase)"
   ]
  },
  {
   "cell_type": "code",
   "execution_count": null,
   "metadata": {},
   "outputs": [
    {
     "name": "stdout",
     "output_type": "stream",
     "text": [
      "Image 0, channel 0 does not have a global phase shift.\n"
     ]
    },
    {
     "data": {
      "image/png": "[encoded data removed]",
      "text/plain": [
       "<Figure size 400x200 with 2 Axes>"
      ]
     },
     "metadata": {},
     "output_type": "display_data"
    },
    {
     "name": "stdout",
     "output_type": "stream",
     "text": [
      "Cosine similarity: 0.9506\n"
     ]
    }
   ],
   "source": [
    "# correct possible global phase shifts\n",
    "x_gd_spec = correct_global_phase(x_phase_gd_spec, x_phase)\n",
    "# now no global phase shift should exist\n",
    "#assert torch.allclose(x_est, x_phase)\n",
    "# extract phase information and normalize to the range [0, 1]\n",
    "x_gd_spec = torch.angle(x_gd_spec) / (2*torch.pi) + 0.5\n",
    "plot([x, x_gd_spec],titles=[\"Signal\",\"Reconstruction\"],rescale_mode='clip')\n",
    "print(f\"Cosine similarity: {cosine_similarity(x_phase_gd_spec, x_phase):.4f}\")"
   ]
  },
  {
   "cell_type": "markdown",
   "metadata": {},
   "source": [
    "# Try QR decomposition"
   ]
  },
  {
   "cell_type": "code",
   "execution_count": null,
   "metadata": {},
   "outputs": [
    {
     "name": "stdout",
     "output_type": "stream",
     "text": [
      "tensor([[-0.8743+0.3645j, -0.7821-0.3355j,  0.4701-0.8829j],\n",
      "        [ 0.4294-1.0614j, -0.3441+0.9698j,  0.0404+1.7377j],\n",
      "        [-0.2848+0.1911j, -0.6175-0.1912j,  0.0704+0.0362j],\n",
      "        [-1.1079-0.6402j,  0.1408+0.3108j, -1.6640-0.0430j],\n",
      "        [ 0.2608+0.4154j,  0.3932+1.1281j,  0.0477+0.4164j]], device='cuda:0')\n"
     ]
    }
   ],
   "source": [
    "A = torch.randn((5,3),dtype=torch.cfloat,device=device)\n",
    "print(A)"
   ]
  },
  {
   "cell_type": "code",
   "execution_count": null,
   "metadata": {},
   "outputs": [
    {
     "name": "stdout",
     "output_type": "stream",
     "text": [
      "torch.Size([5, 3])\n",
      "torch.Size([3, 3])\n",
      "tensor([[-0.8743+0.3645j, -0.7821-0.3355j,  0.4701-0.8829j],\n",
      "        [ 0.4294-1.0614j, -0.3441+0.9698j,  0.0404+1.7377j],\n",
      "        [-0.2848+0.1911j, -0.6175-0.1912j,  0.0704+0.0362j],\n",
      "        [-1.1079-0.6402j,  0.1408+0.3108j, -1.6640-0.0430j],\n",
      "        [ 0.2608+0.4154j,  0.3932+1.1281j,  0.0477+0.4164j]], device='cuda:0')\n"
     ]
    }
   ],
   "source": [
    "Q, R = torch.linalg.qr(A)\n",
    "print(Q.shape)\n",
    "print(R.shape)\n",
    "print(Q@R)"
   ]
  },
  {
   "cell_type": "code",
   "execution_count": null,
   "metadata": {},
   "outputs": [
    {
     "data": {
      "text/plain": [
       "tensor([[-1.7881e-07+0.0000e+00j,  0.0000e+00+2.9802e-08j,\n",
       "          1.1921e-07-3.5763e-07j],\n",
       "        [ 2.9802e-08+0.0000e+00j, -5.9605e-08+5.9605e-08j,\n",
       "          1.0803e-07-1.1921e-07j],\n",
       "        [ 0.0000e+00-1.4901e-08j,  0.0000e+00+1.4901e-08j,\n",
       "          2.9802e-08-5.5879e-08j],\n",
       "        [-1.1921e-07-5.9605e-08j,  1.4901e-08-2.9802e-08j,\n",
       "          0.0000e+00-8.5682e-08j],\n",
       "        [ 0.0000e+00+0.0000e+00j,  5.9605e-08+1.1921e-07j,\n",
       "         -1.1921e-07-2.9802e-08j]], device='cuda:0')"
      ]
     },
     "execution_count": 6,
     "metadata": {},
     "output_type": "execute_result"
    }
   ],
   "source": [
    "Q@R-A"
   ]
  },
  {
   "cell_type": "code",
   "execution_count": null,
   "metadata": {},
   "outputs": [
    {
     "name": "stdout",
     "output_type": "stream",
     "text": [
      "tensor([ 2.0503+0.j,  1.9024+0.j, -2.4322+0.j], device='cuda:0')\n",
      "tensor([ 1.+0.j,  1.+0.j, -1.+0.j], device='cuda:0')\n",
      "tensor([[ 1.+0.j,  0.+0.j,  0.+0.j],\n",
      "        [ 0.+0.j,  1.+0.j,  0.+0.j],\n",
      "        [ 0.+0.j,  0.+0.j, -1.+0.j]], device='cuda:0')\n"
     ]
    }
   ],
   "source": [
    "print(torch.diag(R))\n",
    "print(torch.sgn(torch.diag(R)))\n",
    "print(torch.diag(torch.sgn(torch.diag(R))))"
   ]
  },
  {
   "cell_type": "code",
   "execution_count": null,
   "metadata": {},
   "outputs": [
    {
     "name": "stdout",
     "output_type": "stream",
     "text": [
      "tensor([[1.+0.j, 2.+0.j, 3.+0.j],\n",
      "        [4.+0.j, 5.+0.j, 6.+0.j],\n",
      "        [7.+0.j, 8.+0.j, 9.+0.j]], device='cuda:0')\n",
      "tensor([[ 1.+0.j,  2.+0.j, -3.+0.j],\n",
      "        [ 4.+0.j,  5.+0.j, -6.+0.j],\n",
      "        [ 7.+0.j,  8.+0.j, -9.+0.j]], device='cuda:0')\n"
     ]
    }
   ],
   "source": [
    "B = torch.arange(1,10).reshape(3,3).to(device).to(torch.cfloat)\n",
    "print(B)\n",
    "print(B*torch.sgn(torch.diag(R))[None,:])"
   ]
  },
  {
   "cell_type": "markdown",
   "metadata": {},
   "source": [
    "# Try Haar matrix"
   ]
  },
  {
   "cell_type": "code",
   "execution_count": null,
   "metadata": {},
   "outputs": [],
   "source": [
    "# Set up the variable to fetch dataset and operators.\n",
    "img_size = 99\n",
    "url = get_image_url(\"SheppLogan.png\")\n",
    "x = load_url_image(\n",
    "    url=url, img_size=img_size, grayscale=True, resize_mode=\"resize\", device=device\n",
    ")\n",
    "x.shape\n",
    "\n",
    "# generate phase signal\n",
    "\n",
    "# The phase is computed as 2*pi*x - pi, where x is the original image.\n",
    "x_phase = torch.exp(1j * x * torch.pi - 0.5j * torch.pi).to(device)\n",
    "\n",
    "# Every element of the signal should have unit norm.\n",
    "assert torch.allclose(x_phase.real**2 + x_phase.imag**2, torch.tensor(1.0))"
   ]
  },
  {
   "cell_type": "code",
   "execution_count": null,
   "metadata": {},
   "outputs": [
    {
     "name": "stdout",
     "output_type": "stream",
     "text": [
      "Using Haar matrix\n"
     ]
    }
   ],
   "source": [
    "physics = dinv.physics.RandomPhaseRetrieval(\n",
    "    m=3*torch.prod(torch.tensor(x.shape)),\n",
    "    img_shape=(1, img_size, img_size),\n",
    "    dtype=torch.cfloat,\n",
    "    device=device,\n",
    "    use_haar=True,\n",
    ")\n",
    "\n",
    "y = physics(x_phase)"
   ]
  },
  {
   "cell_type": "code",
   "execution_count": null,
   "metadata": {},
   "outputs": [],
   "source": [
    "assert torch.allclose((physics.B.A_adjoint(physics.B(x_phase))),x_phase)"
   ]
  },
  {
   "cell_type": "code",
   "execution_count": null,
   "metadata": {},
   "outputs": [],
   "source": [
    "data_fidelity = L2()\n",
    "#prior = dinv.optim.prior.PnP(denoiser=denoiser_complex)\n",
    "prior = dinv.optim.prior.Zero()\n",
    "max_iter = 10000\n",
    "early_stop = True\n",
    "verbose = True\n",
    "# stepsize: use 1e-4 for oversampling ratio 0-2, and 3e-3*oversampling for oversampling ratio 2-9\n",
    "step_size = 1e-2"
   ]
  },
  {
   "cell_type": "code",
   "execution_count": null,
   "metadata": {},
   "outputs": [],
   "source": [
    "def spectral_methods_wrapper(y, physics, n_iter=5000, **kwargs):\n",
    "    x = spectral_methods(y, physics, n_iter=n_iter, **kwargs)\n",
    "    z = spectral_methods(y, physics, n_iter=n_iter, **kwargs)\n",
    "    return {\"est\": (x, z)}"
   ]
  },
  {
   "cell_type": "code",
   "execution_count": null,
   "metadata": {},
   "outputs": [
    {
     "name": "stdout",
     "output_type": "stream",
     "text": [
      "stepsize: 0.01\n"
     ]
    }
   ],
   "source": [
    "params_algo = {\"stepsize\": step_size, \"g_param\": 0.00}\n",
    "print(\"stepsize:\", params_algo[\"stepsize\"])\n",
    "model = optim_builder(\n",
    "    iteration=\"PGD\",\n",
    "    prior=prior,\n",
    "    data_fidelity=data_fidelity,\n",
    "    early_stop=early_stop,\n",
    "    max_iter=max_iter,\n",
    "    verbose=verbose,\n",
    "    params_algo=params_algo,\n",
    "    custom_init=spectral_methods_wrapper,\n",
    ")\n",
    "\n",
    "x_phase_gd_spec = model(y, physics, x_gt=x_phase)"
   ]
  },
  {
   "cell_type": "code",
   "execution_count": null,
   "metadata": {},
   "outputs": [
    {
     "name": "stdout",
     "output_type": "stream",
     "text": [
      "Image 0, channel 0 does not have a global phase shift.\n"
     ]
    },
    {
     "data": {
      "image/png": "[encoded data removed]",
      "text/plain": [
       "<Figure size 400x200 with 2 Axes>"
      ]
     },
     "metadata": {},
     "output_type": "display_data"
    },
    {
     "name": "stdout",
     "output_type": "stream",
     "text": [
      "Cosine similarity: 0.9745\n"
     ]
    }
   ],
   "source": [
    "# correct possible global phase shifts\n",
    "x_gd_spec = correct_global_phase(x_phase_gd_spec, x_phase)\n",
    "# now no global phase shift should exist\n",
    "#assert torch.allclose(x_est, x_phase)\n",
    "# extract phase information and normalize to the range [0, 1]\n",
    "x_gd_spec = torch.angle(x_gd_spec) / (2*torch.pi) + 0.5\n",
    "plot([x, x_gd_spec],titles=[\"Signal\",\"Reconstruction\"],rescale_mode='clip')\n",
    "print(f\"Cosine similarity: {cosine_similarity(x_phase_gd_spec, x_phase):.4f}\")"
   ]
  },
  {
   "cell_type": "markdown",
   "metadata": {},
   "source": [
    "# 1 layer drop tail or not "
   ]
  },
  {
   "cell_type": "code",
   "execution_count": 89,
   "metadata": {},
   "outputs": [],
   "source": [
    "# create model and generate measurements\n",
    "\n",
    "physics = dinv.physics.PseudoRandomPhaseRetrieval(\n",
    "            n_layers=1,\n",
    "            input_shape=(1, img_size, img_size),\n",
    "            output_shape=(1, 173, 173),\n",
    "            shared_weights=True,\n",
    "            drop_tail=True,\n",
    "            dtype = torch.cfloat,\n",
    "            device=device,\n",
    "        )\n",
    "\n",
    "y = physics(x_phase)"
   ]
  },
  {
   "cell_type": "code",
   "execution_count": 90,
   "metadata": {},
   "outputs": [
    {
     "data": {
      "text/plain": [
       "tensor(0.0486, device='cuda:0')"
      ]
     },
     "execution_count": 90,
     "metadata": {},
     "output_type": "execute_result"
    }
   ],
   "source": [
    "x_hat = spectral_methods(y, physics, n_iter=5000)\n",
    "\n",
    "cosine_similarity(x_hat, x_phase)"
   ]
  }
 ],
 "metadata": {
  "kernelspec": {
   "display_name": "deepinv",
   "language": "python",
   "name": "python3"
  },
  "language_info": {
   "codemirror_mode": {
    "name": "ipython",
    "version": 3
   },
   "file_extension": ".py",
   "mimetype": "text/x-python",
   "name": "python",
   "nbconvert_exporter": "python",
   "pygments_lexer": "ipython3",
   "version": "3.9.19"
  }
 },
 "nbformat": 4,
 "nbformat_minor": 2
}
