{
 "cells": [
  {
   "cell_type": "code",
   "execution_count": 2,
   "metadata": {},
   "outputs": [],
   "source": [
    "import random\n",
    "import sys\n",
    "\n",
    "import numpy as np\n",
    "import torch"
   ]
  },
  {
   "cell_type": "code",
   "execution_count": 221,
   "metadata": {},
   "outputs": [
    {
     "name": "stdout",
     "output_type": "stream",
     "text": [
      "91\n",
      "99\n",
      "tensor([35])\n"
     ]
    }
   ],
   "source": [
    "# block for configuring random seed\n",
    "\n",
    "random_seed = 50501\n",
    "if random_seed is None:\n",
    "    random_seed = random.randrange(2**16)\n",
    "    print(\"No initial random seed given, generated one:\", random_seed)\n",
    "\n",
    "random.seed(random_seed)\n",
    "np.random.seed(random_seed)\n",
    "torch.manual_seed(random_seed)\n",
    "\n",
    "print(random.randint(1, 100))\n",
    "print(np.random.randint(1, 100))\n",
    "print(torch.randint(1, 100, (1,)))"
   ]
  },
  {
   "cell_type": "code",
   "execution_count": 17,
   "metadata": {},
   "outputs": [
    {
     "data": {
      "text/plain": [
       "tensor([0.1000, 0.2000, 0.3000, 0.4000, 0.5000, 0.6000, 0.7000, 0.8000, 0.9000,\n",
       "        1.0000, 1.1000, 1.2000, 1.3000, 1.4000, 1.5000, 1.6000, 1.7000, 1.8000,\n",
       "        1.9000, 2.0000, 2.1000, 2.2000, 2.3000, 2.4000, 2.5000, 2.6000, 2.7000,\n",
       "        2.8000, 2.9000, 3.0000, 3.1000, 3.2000, 3.3000, 3.4000, 3.5000, 3.6000,\n",
       "        3.7000, 3.8000, 3.9000, 4.0000, 4.2000, 4.6000, 5.0000, 5.4000, 5.8000,\n",
       "        6.2000, 6.6000, 7.0000, 7.4000, 7.8000, 8.2000, 8.6000, 9.0000])"
      ]
     },
     "execution_count": 17,
     "metadata": {},
     "output_type": "execute_result"
    }
   ],
   "source": [
    "torch.cat((torch.arange(0.1,4.1,0.1),torch.arange(4.2,9.2,0.4)))"
   ]
  }
 ],
 "metadata": {
  "kernelspec": {
   "display_name": "deepinv",
   "language": "python",
   "name": "python3"
  },
  "language_info": {
   "codemirror_mode": {
    "name": "ipython",
    "version": 3
   },
   "file_extension": ".py",
   "mimetype": "text/x-python",
   "name": "python",
   "nbconvert_exporter": "python",
   "pygments_lexer": "ipython3",
   "version": "3.9.19"
  }
 },
 "nbformat": 4,
 "nbformat_minor": 2
}
