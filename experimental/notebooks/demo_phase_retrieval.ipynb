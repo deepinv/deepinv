{
 "cells": [
  {
   "cell_type": "code",
   "execution_count": 34,
   "metadata": {},
   "outputs": [],
   "source": [
    "import matplotlib.pyplot as plt\n",
    "import torch\n",
    "\n",
    "import deepinv as dinv\n",
    "from deepinv.utils.plotting import plot\n",
    "from deepinv.utils.demo import load_url_image, get_image_url\n",
    "from deepinv.optim.phase_retrieval import correct_global_phase"
   ]
  },
  {
   "cell_type": "code",
   "execution_count": 35,
   "metadata": {},
   "outputs": [
    {
     "name": "stdout",
     "output_type": "stream",
     "text": [
      "Image shape: torch.Size([3, 8, 8])\n"
     ]
    },
    {
     "name": "stderr",
     "output_type": "stream",
     "text": [
      "/var/folders/g7/kcfjzxyn1klcs6f0xk8vby0w0000gn/T/ipykernel_52679/3315323887.py:9: UserWarning: To copy construct from a tensor, it is recommended to use sourceTensor.clone().detach() or sourceTensor.clone().detach().requires_grad_(True), rather than torch.tensor(sourceTensor).\n",
      "  x = torch.tensor(x, device=device, dtype=torch.float)\n"
     ]
    }
   ],
   "source": [
    "# Set the global random seed from pytorch to ensure reproducibility of the example.\n",
    "torch.manual_seed(0)\n",
    "\n",
    "device = dinv.utils.get_freer_gpu() if torch.cuda.is_available() else \"cpu\"\n",
    "\n",
    "url = get_image_url(\"CBSD_0010.png\")\n",
    "x = load_url_image(url, grayscale=False).to(device)\n",
    "\n",
    "x = torch.tensor(x, device=device, dtype=torch.float)\n",
    "x = torch.nn.functional.interpolate(x, size=(8, 8))\n",
    "\n",
    "# supress saturated pixels to avoid reconstruction issues using torch.angle()\n",
    "x = torch.where(x > 0.99999, 0.99999, x)\n",
    "x = torch.where(x < 0.00001, 0.00001, x)\n",
    "\n",
    "img_shape = x.shape[1:]\n",
    "print(f\"Image shape: {img_shape}\")"
   ]
  },
  {
   "cell_type": "code",
   "execution_count": 36,
   "metadata": {},
   "outputs": [
    {
     "data": {
      "image/png": "[encoded data removed]",
      "text/plain": [
       "<Figure size 200x200 with 1 Axes>"
      ]
     },
     "metadata": {},
     "output_type": "display_data"
    }
   ],
   "source": [
    "# visualization\n",
    "# for complex numbers, plot() automatically plots the magnitude\n",
    "plot(x)"
   ]
  },
  {
   "cell_type": "code",
   "execution_count": 37,
   "metadata": {},
   "outputs": [
    {
     "name": "stdout",
     "output_type": "stream",
     "text": [
      "torch.complex64\n"
     ]
    }
   ],
   "source": [
    "# We use the original image as the phase information for the complex signal.\n",
    "# The phase is computed as 2*pi*x - pi, where x is the original image.\n",
    "x_phase = torch.exp(1j*x*2*torch.pi - 1j*torch.pi)\n",
    "\n",
    "# For phase retrieval, the signal should be complex-valued.\n",
    "print(x_phase.dtype)\n",
    "\n",
    "# Every element of the signal should have unit norm.\n",
    "assert torch.allclose(x_phase.real**2 + x_phase.imag**2, torch.tensor(1.0))"
   ]
  },
  {
   "cell_type": "code",
   "execution_count": 38,
   "metadata": {},
   "outputs": [
    {
     "name": "stdout",
     "output_type": "stream",
     "text": [
      "Number of measurements: 576\n"
     ]
    }
   ],
   "source": [
    "# creates a random phase retrieval operator\n",
    "# oversampling ratio\n",
    "m = 3 * torch.prod(torch.tensor(img_shape))\n",
    "print(f\"Number of measurements: {m}\")\n",
    "\n",
    "physics = dinv.physics.RandomPhaseRetrieval(\n",
    "    m = m,\n",
    "    img_shape = img_shape,\n",
    ")\n",
    "\n",
    "y = physics(x_phase)"
   ]
  },
  {
   "cell_type": "code",
   "execution_count": 39,
   "metadata": {},
   "outputs": [
    {
     "data": {
      "text/plain": [
       "torch.Size([1, 3, 8, 8])"
      ]
     },
     "execution_count": 39,
     "metadata": {},
     "output_type": "execute_result"
    }
   ],
   "source": [
    "x.shape"
   ]
  },
  {
   "cell_type": "code",
   "execution_count": 40,
   "metadata": {},
   "outputs": [
    {
     "name": "stdout",
     "output_type": "stream",
     "text": [
      "loss_init: tensor([32.1972])\n",
      "loss_final: tensor([2.2792])\n"
     ]
    },
    {
     "data": {
      "image/png": "[encoded data removed]",
      "text/plain": [
       "<Figure size 640x480 with 1 Axes>"
      ]
     },
     "metadata": {},
     "output_type": "display_data"
    }
   ],
   "source": [
    "# run a gradient descent algorithm to recover the original image\n",
    "\n",
    "loss_fn = dinv.optim.AmplitudeLoss()\n",
    "iterator = dinv.optim.optim_iterators.GDIteration()\n",
    "OPTIM_PARAMS = {\"stepsize\": 0.5, \"lambda\": 1.0, \"g_param\": []}\n",
    "NUM_ITER = 1000\n",
    "\n",
    "# initial guess\n",
    "x_est = torch.rand_like(x_phase)\n",
    "\n",
    "loss_hist = []\n",
    "\n",
    "for _ in range(NUM_ITER):\n",
    "    res = iterator({\"est\": (x_est,), \"cost\": 0},\n",
    "        cur_data_fidelity=loss_fn,\n",
    "        cur_prior=dinv.optim.Zero(),\n",
    "        cur_params=OPTIM_PARAMS,\n",
    "        y=y,\n",
    "        physics=physics)\n",
    "    x_est = res[\"est\"][0]\n",
    "    loss_hist.append(loss_fn(x_est, y, physics))\n",
    "\n",
    "print(\"loss_init:\",loss_hist[0])\n",
    "print(\"loss_final:\",loss_hist[-1])\n",
    "plt.plot(loss_hist)\n",
    "plt.yscale('log')\n",
    "plt.title('loss curve without spectral')\n",
    "plt.show()"
   ]
  },
  {
   "cell_type": "code",
   "execution_count": 41,
   "metadata": {},
   "outputs": [
    {
     "name": "stdout",
     "output_type": "stream",
     "text": [
      "Image 0, channel 0 does not have a global phase shift.\n",
      "Image 0, channel 1 does not have a global phase shift.\n",
      "Image 0, channel 2 does not have a global phase shift.\n"
     ]
    },
    {
     "data": {
      "image/png": "[encoded data removed]",
      "text/plain": [
       "<Figure size 400x200 with 2 Axes>"
      ]
     },
     "metadata": {},
     "output_type": "display_data"
    }
   ],
   "source": [
    "# correct possible global phase shifts\n",
    "x_est = correct_global_phase(x_est, x_phase)\n",
    "# now no global phase shift should exist\n",
    "#assert torch.allclose(x_est, x_phase)\n",
    "# extract phase information and normalize to the range [0, 1]\n",
    "x_recon = torch.angle(x_est) / (2*torch.pi) + 0.5\n",
    "#assert torch.allclose(x_recon, x, rtol=1e-3)\n",
    "plot([x, x_recon],titles=[\"Signal\",\"Reconstruction\"])"
   ]
  },
  {
   "cell_type": "code",
   "execution_count": 42,
   "metadata": {},
   "outputs": [
    {
     "name": "stdout",
     "output_type": "stream",
     "text": [
      "loss_init: tensor([16.1479])\n",
      "loss_final: tensor([1.5173e-12])\n"
     ]
    },
    {
     "data": {
      "image/png": "[encoded data removed]",
      "text/plain": [
       "<Figure size 640x480 with 1 Axes>"
      ]
     },
     "metadata": {},
     "output_type": "display_data"
    }
   ],
   "source": [
    "# spectral methods\n",
    "x_est = torch.rand_like(x_phase)\n",
    "x_est = x_est / torch.norm(x_est.flatten())\n",
    "\n",
    "spectral = dinv.optim.optim_iterators.SMIteration()\n",
    "\n",
    "diff_hist = []\n",
    "\n",
    "# spectral methods iteration\n",
    "for _ in range(50):\n",
    "    x_next = spectral(x_est,\n",
    "                    dinv.optim.Zero(),\n",
    "                    OPTIM_PARAMS,\n",
    "                    y,\n",
    "                    physics)\n",
    "    diff_hist.append(torch.norm(x_next - x_est))\n",
    "    x_est = x_next\n",
    "\n",
    "x_est = x_est * torch.sqrt(y.sum())\n",
    "x_est = x_est.reshape(x_phase.shape)\n",
    "\n",
    "loss_hist = []\n",
    "for _ in range(NUM_ITER):\n",
    "    res = iterator({\"est\": (x_est,), \"cost\": 0},\n",
    "        cur_data_fidelity=loss_fn,\n",
    "        cur_prior=dinv.optim.Zero(),\n",
    "        cur_params=OPTIM_PARAMS,\n",
    "        y=y,\n",
    "        physics=physics)\n",
    "    x_est = res[\"est\"][0]\n",
    "    loss_hist.append(loss_fn(x_est, y, physics))\n",
    "\n",
    "print(\"loss_init:\",loss_hist[0])\n",
    "print(\"loss_final:\",loss_hist[-1])\n",
    "plt.plot(loss_hist)\n",
    "plt.yscale('log')\n",
    "plt.title('loss curve with spectral')\n",
    "plt.show()"
   ]
  },
  {
   "cell_type": "code",
   "execution_count": 43,
   "metadata": {},
   "outputs": [
    {
     "name": "stdout",
     "output_type": "stream",
     "text": [
      "Image 0, channel 0 has a constant global phase shift.\n",
      "Image 0, channel 1 has a constant global phase shift.\n",
      "Image 0, channel 2 has a constant global phase shift.\n"
     ]
    },
    {
     "data": {
      "image/png": "[encoded data removed]",
      "text/plain": [
       "<Figure size 400x200 with 2 Axes>"
      ]
     },
     "metadata": {},
     "output_type": "display_data"
    }
   ],
   "source": [
    "# correct possible global phase shifts\n",
    "x_est = correct_global_phase(x_est, x_phase)\n",
    "# now no global phase shift should exist\n",
    "#assert torch.allclose(x_est, x_phase)\n",
    "# extract phase information and normalize to the range [0, 1]\n",
    "x_recon = torch.angle(x_est) / (2*torch.pi) + 0.5\n",
    "#assert torch.allclose(x_recon, x, rtol=1e-3)\n",
    "plot([x, x_recon],titles=[\"Signal\",\"Reconstruction\"])"
   ]
  },
  {
   "cell_type": "code",
   "execution_count": 44,
   "metadata": {},
   "outputs": [
    {
     "data": {
      "text/plain": [
       "tensor([[[[-2.9802e-08, -2.9802e-08,  2.9802e-08,  0.0000e+00, -2.9802e-08,\n",
       "            1.4901e-08, -1.4901e-08,  1.4901e-08],\n",
       "          [ 2.9802e-08,  0.0000e+00,  5.9605e-08, -2.9802e-08,  0.0000e+00,\n",
       "            2.9802e-08,  2.9802e-08,  2.9802e-08],\n",
       "          [ 0.0000e+00,  0.0000e+00,  0.0000e+00,  2.9802e-08,  0.0000e+00,\n",
       "            2.9802e-08,  0.0000e+00,  2.9802e-08],\n",
       "          [ 3.7253e-08,  2.9802e-08,  0.0000e+00,  0.0000e+00,  0.0000e+00,\n",
       "           -2.9802e-08,  0.0000e+00,  1.4901e-08],\n",
       "          [ 7.4506e-09, -2.9802e-08, -2.9802e-08,  0.0000e+00,  0.0000e+00,\n",
       "            0.0000e+00,  2.9802e-08,  3.7253e-08],\n",
       "          [-1.4901e-08,  0.0000e+00,  0.0000e+00,  0.0000e+00,  0.0000e+00,\n",
       "           -2.9802e-08,  0.0000e+00,  4.4703e-08],\n",
       "          [ 7.4506e-08,  1.4901e-08,  2.9802e-08,  0.0000e+00, -2.9802e-08,\n",
       "           -1.4901e-08,  0.0000e+00, -1.4901e-08],\n",
       "          [-1.4901e-08, -7.4506e-08,  4.4703e-08, -4.4703e-08, -2.9802e-08,\n",
       "            1.4901e-08,  1.4901e-08, -1.4901e-08]],\n",
       "\n",
       "         [[ 5.9605e-08,  5.9605e-08,  0.0000e+00,  0.0000e+00, -5.9605e-08,\n",
       "            0.0000e+00,  0.0000e+00,  2.9802e-08],\n",
       "          [ 0.0000e+00, -5.9605e-08,  5.9605e-08, -5.9605e-08, -5.9605e-08,\n",
       "            0.0000e+00, -5.9605e-08,  0.0000e+00],\n",
       "          [ 0.0000e+00, -5.9605e-08,  0.0000e+00,  2.9802e-08,  0.0000e+00,\n",
       "            2.9802e-08,  0.0000e+00,  0.0000e+00],\n",
       "          [-1.4901e-08,  0.0000e+00,  0.0000e+00,  0.0000e+00,  0.0000e+00,\n",
       "            0.0000e+00, -2.9802e-08, -1.4901e-08],\n",
       "          [-5.2154e-08,  0.0000e+00,  2.9802e-08,  0.0000e+00,  0.0000e+00,\n",
       "            2.9802e-08,  0.0000e+00,  1.4901e-08],\n",
       "          [ 1.4901e-08,  0.0000e+00, -2.9802e-08, -5.9605e-08, -5.9605e-08,\n",
       "            2.9802e-08,  0.0000e+00,  1.4901e-08],\n",
       "          [-1.4901e-08,  2.9802e-08,  0.0000e+00,  2.9802e-08,  0.0000e+00,\n",
       "            0.0000e+00,  0.0000e+00,  0.0000e+00],\n",
       "          [-2.9802e-08,  2.9802e-08,  2.9802e-08,  0.0000e+00,  0.0000e+00,\n",
       "           -2.9802e-08, -2.9802e-08, -2.9802e-08]],\n",
       "\n",
       "         [[ 0.0000e+00,  0.0000e+00,  0.0000e+00,  0.0000e+00,  5.9605e-08,\n",
       "            0.0000e+00,  0.0000e+00,  0.0000e+00],\n",
       "          [ 0.0000e+00, -5.9605e-08,  0.0000e+00,  0.0000e+00,  0.0000e+00,\n",
       "           -5.9605e-08,  0.0000e+00,  0.0000e+00],\n",
       "          [ 5.9605e-08,  0.0000e+00,  5.9605e-08, -2.9802e-08,  2.9802e-08,\n",
       "           -2.9802e-08, -5.9605e-08,  0.0000e+00],\n",
       "          [ 1.4901e-08, -2.9802e-08,  0.0000e+00,  0.0000e+00,  0.0000e+00,\n",
       "           -2.9802e-08, -2.9802e-08, -1.4901e-08],\n",
       "          [ 7.4506e-09,  2.9802e-08, -1.4901e-08, -5.9605e-08,  5.9605e-08,\n",
       "           -2.9802e-08,  0.0000e+00,  7.4506e-09],\n",
       "          [ 1.4901e-08,  2.9802e-08,  2.9802e-08,  0.0000e+00, -2.9802e-08,\n",
       "           -2.9802e-08,  2.9802e-08,  1.4901e-08],\n",
       "          [-1.4901e-08, -2.9802e-08, -2.9802e-08,  2.9802e-08,  2.9802e-08,\n",
       "           -1.4901e-08, -4.4703e-08,  1.4901e-08],\n",
       "          [ 2.9802e-08,  0.0000e+00, -2.9802e-08,  1.4901e-08,  1.4901e-08,\n",
       "           -1.4901e-08, -4.4703e-08, -2.9802e-08]]]])"
      ]
     },
     "execution_count": 44,
     "metadata": {},
     "output_type": "execute_result"
    }
   ],
   "source": [
    "x - x_recon"
   ]
  }
 ],
 "metadata": {
  "kernelspec": {
   "display_name": "deepinv",
   "language": "python",
   "name": "python3"
  },
  "language_info": {
   "codemirror_mode": {
    "name": "ipython",
    "version": 3
   },
   "file_extension": ".py",
   "mimetype": "text/x-python",
   "name": "python",
   "nbconvert_exporter": "python",
   "pygments_lexer": "ipython3",
   "version": "3.9.18"
  }
 },
 "nbformat": 4,
 "nbformat_minor": 2
}
