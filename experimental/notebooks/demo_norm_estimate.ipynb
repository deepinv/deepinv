{
 "cells": [
  {
   "cell_type": "code",
   "execution_count": 1,
   "metadata": {},
   "outputs": [],
   "source": [
    "import numpy as np\n",
    "import matplotlib.pyplot as plt\n",
    "import torch\n",
    "from tqdm import tqdm\n",
    "from sklearn import linear_model\n",
    "\n",
    "from deepinv.physics.phase_retrieval import RandomPhaseRetrieval\n",
    "from deepinv.optim.data_fidelity import L2\n",
    "from deepinv.optim.phase_retrieval import spectral_methods, cosine_similarity"
   ]
  },
  {
   "cell_type": "code",
   "execution_count": 2,
   "metadata": {},
   "outputs": [],
   "source": [
    "NUM_ITER = 1000\n",
    "IMG_SHAPE = (3,10,10)\n",
    "M = 5 * 300"
   ]
  },
  {
   "cell_type": "code",
   "execution_count": 3,
   "metadata": {},
   "outputs": [],
   "source": [
    "physics = RandomPhaseRetrieval(M,IMG_SHAPE)\n",
    "loss_fn = L2()"
   ]
  },
  {
   "cell_type": "code",
   "execution_count": 4,
   "metadata": {},
   "outputs": [
    {
     "name": "stdout",
     "output_type": "stream",
     "text": [
      "x_norm: tensor(17.8198)\n",
      "estimated x_norm: tensor(17.9844)\n"
     ]
    }
   ],
   "source": [
    "x = torch.randn((1,)+IMG_SHAPE,dtype=torch.cfloat)\n",
    "y = physics(x)\n",
    "\n",
    "print(\"x_norm:\", torch.norm(x))\n",
    "#print(\"y_norm:\", torch.norm(y))\n",
    "print(\"estimated x_norm:\", torch.sqrt(y.sum()))"
   ]
  },
  {
   "cell_type": "code",
   "execution_count": 11,
   "metadata": {},
   "outputs": [
    {
     "name": "stdout",
     "output_type": "stream",
     "text": [
      "cosine similarity: 0.049376\n",
      "loss: 61.7511\n"
     ]
    }
   ],
   "source": [
    "# randomly initilize x_est and compute the cosine similarity between x_est and x\n",
    "cosines = []\n",
    "losses = []\n",
    "\n",
    "for _ in range(1000):\n",
    "    x_est = torch.randn_like(x)\n",
    "    cosines.append(cosine_similarity(x, x_est))\n",
    "    losses.append(loss_fn(x_est, y, physics))\n",
    "\n",
    "print(\"cosine similarity:\",np.mean(cosines))\n",
    "print(\"loss:\", np.mean(losses))"
   ]
  },
  {
   "cell_type": "code",
   "execution_count": 12,
   "metadata": {},
   "outputs": [
    {
     "name": "stdout",
     "output_type": "stream",
     "text": [
      "cosine similarity: 0.871478\n",
      "loss: 22.0476\n"
     ]
    }
   ],
   "source": [
    "# initialize with spectral methods\n",
    "cosines = []\n",
    "losses = []\n",
    "\n",
    "for _ in range(1):\n",
    "    x_est = spectral_methods(y, physics, n_iter=100)\n",
    "    x_est = x_est * torch.sqrt(y.sum())\n",
    "\n",
    "    cosines.append(cosine_similarity(x, x_est))\n",
    "    losses.append(loss_fn(x_est, y, physics))\n",
    "\n",
    "print(\"cosine similarity:\",np.mean(cosines))\n",
    "print(\"loss:\", np.mean(losses))"
   ]
  },
  {
   "cell_type": "code",
   "execution_count": 182,
   "metadata": {},
   "outputs": [
    {
     "data": {
      "text/plain": [
       "tensor([[[[-2.6237e+00, -2.2530e+00, -3.2044e-01,  2.0371e+00,  1.4110e-01,\n",
       "           -2.2375e+00, -2.8643e+00, -1.4943e+00,  2.0500e+00,  1.5053e+00,\n",
       "           -2.5871e+00, -1.9555e+00,  2.3311e+00,  3.2421e-01,  6.7013e-01,\n",
       "            4.5955e-01],\n",
       "          [-2.2442e+00, -4.1522e-01,  2.5699e+00,  5.0800e-01,  1.3672e+00,\n",
       "           -8.8911e-01,  2.7888e+00, -7.6840e-02, -2.5706e-01, -7.7521e-02,\n",
       "            2.2121e+00,  2.2060e+00, -1.8744e+00, -2.7724e+00,  3.1698e-01,\n",
       "            2.7905e+00],\n",
       "          [ 2.2622e-01,  1.1100e+00, -2.3358e+00,  7.0454e-02, -1.0438e+00,\n",
       "           -1.7378e+00,  1.6601e+00,  2.1906e+00,  1.7856e+00,  9.3579e-02,\n",
       "           -2.9688e+00,  2.8389e+00, -3.6326e-01,  1.8772e+00,  7.6455e-01,\n",
       "           -1.9487e+00],\n",
       "          [-3.1178e-01,  2.2952e-01, -2.5647e-01,  1.1637e+00, -1.3691e+00,\n",
       "           -3.1311e+00, -9.2079e-01, -1.9784e+00,  2.5147e+00, -1.1014e+00,\n",
       "            1.5122e+00, -3.4375e-01,  2.9818e+00, -2.4629e-01, -1.3163e+00,\n",
       "           -5.2015e-01],\n",
       "          [-2.8770e+00,  1.2411e+00, -2.0227e+00, -3.9277e-01, -1.1034e+00,\n",
       "           -6.4901e-01,  1.0071e-01,  1.0618e+00,  2.3855e-01, -2.4820e+00,\n",
       "           -2.6191e+00, -3.0046e+00, -2.5822e+00,  1.6535e+00,  1.9791e+00,\n",
       "            8.5949e-01],\n",
       "          [-3.0000e-01, -2.2653e+00, -1.7847e+00,  4.7596e-01,  1.6306e+00,\n",
       "            2.3517e+00,  2.7182e+00, -2.8302e+00, -2.8931e+00,  8.4902e-01,\n",
       "            1.9328e+00,  4.9873e-01,  3.3801e-01, -2.1283e+00,  2.6897e+00,\n",
       "           -1.4363e+00],\n",
       "          [-1.9498e+00, -1.1225e+00, -4.6310e-01,  2.0762e+00,  2.5152e+00,\n",
       "            9.5009e-01, -1.1279e+00,  2.8833e+00, -3.0436e-01, -2.1442e+00,\n",
       "            2.3831e+00, -1.6162e+00, -3.8781e-01,  1.3173e-01, -7.8928e-01,\n",
       "            2.1003e+00],\n",
       "          [ 2.3687e+00,  2.3487e+00,  1.9302e+00, -2.7795e+00,  2.7593e+00,\n",
       "            1.5014e+00, -1.9679e+00,  4.5856e-01,  2.6894e+00, -1.5404e+00,\n",
       "            6.9538e-01,  1.1356e+00,  1.2817e+00,  1.3857e+00,  8.6000e-01,\n",
       "           -1.9466e+00],\n",
       "          [ 8.0028e-01,  1.6757e+00,  7.1759e-01, -2.1957e+00,  2.1691e-01,\n",
       "            2.4089e+00, -7.1132e-02,  2.5022e+00,  9.3313e-01,  2.5446e+00,\n",
       "           -5.4337e-01, -2.9363e-01, -8.8493e-01, -1.0165e+00, -1.2505e+00,\n",
       "           -6.3215e-01],\n",
       "          [ 1.3497e+00, -1.7191e+00,  8.2957e-01,  1.5661e+00,  3.0258e+00,\n",
       "           -9.0688e-01,  2.2520e+00, -1.2954e+00,  1.5550e+00,  8.1280e-01,\n",
       "           -4.7065e-01, -2.2206e+00,  2.3344e+00, -9.7015e-01,  1.9037e+00,\n",
       "            1.0709e+00],\n",
       "          [ 1.8008e+00,  1.7945e+00,  1.4408e+00, -2.0753e+00, -2.8698e+00,\n",
       "            2.8792e+00, -1.4766e+00,  1.9903e-01, -1.4219e+00, -1.2317e+00,\n",
       "            7.3149e-01, -1.8875e-02, -2.7242e+00,  2.4752e+00, -2.8065e+00,\n",
       "           -3.0524e+00],\n",
       "          [ 2.1017e+00, -8.6198e-01, -2.4432e+00, -2.7892e-01, -1.3849e+00,\n",
       "            1.2154e+00, -2.6518e+00, -2.9796e+00, -1.4784e+00,  8.8138e-01,\n",
       "           -1.7913e+00, -8.3203e-01, -1.3168e+00, -1.1019e+00, -8.5121e-01,\n",
       "           -2.1384e+00],\n",
       "          [ 1.0037e+00,  2.2914e-01, -9.8039e-01,  1.1257e+00, -2.2424e+00,\n",
       "            1.5718e+00,  9.2494e-01, -3.1145e+00,  2.3608e+00,  1.1805e-01,\n",
       "            3.0085e+00,  6.9778e-01,  9.3871e-01,  3.6415e-02, -1.6932e+00,\n",
       "           -2.6299e+00],\n",
       "          [ 6.1536e-01, -1.3463e+00,  2.8526e+00, -3.7859e-01,  3.8327e-01,\n",
       "            1.1995e+00, -2.5446e+00, -6.1200e-01,  4.6100e-02,  3.7573e-01,\n",
       "           -2.4553e+00, -2.5429e+00, -5.2546e-01,  2.0276e+00, -4.3976e-01,\n",
       "           -2.5919e+00],\n",
       "          [-2.7433e+00,  1.1431e+00,  2.5638e+00,  6.3165e-01, -5.5754e-01,\n",
       "           -2.1585e+00, -1.3771e+00,  2.2731e+00,  1.5289e+00, -3.1075e-01,\n",
       "            5.4402e-01,  2.3921e+00, -1.8928e+00,  2.0911e+00, -3.8017e-02,\n",
       "            3.7012e-01],\n",
       "          [-2.8612e-01, -4.6580e-01,  2.6235e+00, -8.6094e-01, -2.1015e+00,\n",
       "           -3.6259e-01, -1.7726e+00,  5.9846e-01, -1.8790e+00, -6.3841e-01,\n",
       "            1.6916e+00,  7.1402e-01,  1.0206e-01, -1.1244e+00, -1.5314e+00,\n",
       "           -2.8712e+00]],\n",
       "\n",
       "         [[ 2.2069e+00, -2.0895e+00, -1.9553e+00, -2.8869e+00,  2.5766e-01,\n",
       "           -1.9665e+00, -3.0607e+00, -4.5733e-01,  3.0738e+00, -3.5838e-01,\n",
       "           -7.3464e-01,  6.5509e-01,  1.8384e+00, -1.9803e+00,  4.1195e-01,\n",
       "            1.3805e+00],\n",
       "          [ 3.1138e+00,  2.3497e+00,  7.7613e-02,  2.2983e+00,  1.3208e+00,\n",
       "            2.3960e+00, -1.5296e+00,  5.8860e-01,  2.9466e+00, -2.6406e+00,\n",
       "            4.0687e-01,  2.2436e+00,  1.2236e+00, -2.2910e+00,  2.1760e+00,\n",
       "            2.8485e+00],\n",
       "          [-2.1846e-01,  1.6579e-01, -9.1100e-01, -1.4785e+00,  6.5857e-01,\n",
       "            1.6609e+00,  3.3104e-01, -2.0464e+00,  1.7867e-01, -1.8956e+00,\n",
       "           -6.1507e-01,  1.6324e+00,  2.3865e+00, -2.9915e+00, -1.7666e+00,\n",
       "           -1.7040e+00],\n",
       "          [-2.5903e+00,  2.9350e+00, -2.6980e+00,  2.8676e+00, -1.9671e+00,\n",
       "            5.4974e-01, -1.0909e+00,  2.1030e+00, -1.7280e+00, -2.3044e+00,\n",
       "           -2.8232e+00, -2.1412e+00, -1.6864e+00,  2.2664e+00, -4.5465e-01,\n",
       "           -1.9995e+00],\n",
       "          [ 2.9314e+00,  1.6514e+00,  2.2769e-01,  2.6117e+00, -1.5112e+00,\n",
       "            2.1991e+00, -1.8903e+00, -8.0011e-01,  3.0785e+00,  2.8249e+00,\n",
       "            1.2952e+00,  2.7750e+00,  1.8391e+00, -5.7168e-01,  6.2537e-01,\n",
       "           -2.2974e+00],\n",
       "          [ 2.4828e+00, -7.6911e-01,  1.8289e+00,  6.9109e-01, -2.9946e-01,\n",
       "           -2.4125e+00,  1.5169e+00, -2.3201e+00, -4.1187e-02, -2.1130e-01,\n",
       "            1.8428e+00, -3.0271e+00, -2.7506e+00,  2.1170e+00,  2.7904e-01,\n",
       "           -1.0586e+00],\n",
       "          [-2.4187e-02, -3.1074e+00, -2.5818e+00,  2.6421e+00,  3.8555e-01,\n",
       "            2.0347e+00,  3.1145e+00,  1.3380e+00,  2.3777e-01,  9.8091e-01,\n",
       "           -4.2056e-01,  2.5104e+00,  5.1103e-01, -7.1049e-01, -2.4864e-01,\n",
       "            4.1484e-01],\n",
       "          [-1.4389e-01,  1.4744e+00,  2.5841e-01, -4.5749e-01,  1.3730e+00,\n",
       "           -5.9345e-02, -3.2436e-01, -1.3959e+00, -2.4500e+00, -9.6108e-01,\n",
       "            4.5577e-01,  1.0746e+00,  1.2975e+00, -9.0925e-01, -2.2228e-01,\n",
       "           -2.6255e+00],\n",
       "          [ 1.8152e+00,  9.9927e-01,  2.6455e+00,  7.9093e-01,  2.8257e+00,\n",
       "            1.5480e+00,  6.2211e-04,  3.3339e-01,  8.4688e-01, -1.1128e+00,\n",
       "            2.9661e-01, -2.1501e-01, -5.4054e-02, -3.1390e+00,  2.5622e+00,\n",
       "            6.3523e-01],\n",
       "          [ 6.3043e-01,  9.3137e-01,  7.5322e-01, -2.1320e+00,  2.7661e+00,\n",
       "            2.2192e+00,  1.6103e+00,  6.3800e-01, -1.0280e+00,  2.6954e+00,\n",
       "            2.5013e+00,  3.0706e+00, -1.2499e+00,  1.0627e-01,  2.6085e+00,\n",
       "            2.1535e+00],\n",
       "          [ 3.3175e-01,  2.7192e+00,  1.4726e+00, -3.0061e+00,  1.5431e+00,\n",
       "           -2.1077e-01, -4.9845e-01,  1.0784e+00,  2.6957e+00, -2.9603e+00,\n",
       "           -2.8694e+00, -2.0162e+00,  2.0673e+00, -2.4144e+00,  5.5535e-01,\n",
       "            1.7574e+00],\n",
       "          [-7.7894e-01, -1.4460e+00,  1.4185e+00,  2.1555e+00,  1.2405e+00,\n",
       "           -7.1467e-01, -7.1489e-01,  2.6071e+00, -6.4691e-01, -1.3912e+00,\n",
       "           -1.4213e+00,  2.0433e+00,  3.0173e-01,  5.8715e-01,  2.9430e+00,\n",
       "           -3.1180e+00],\n",
       "          [-2.0771e+00,  1.8371e+00, -2.4620e+00, -1.3806e-01, -2.9833e+00,\n",
       "           -2.1847e+00,  7.9577e-01,  2.7890e+00,  2.9797e-01,  7.9019e-01,\n",
       "            2.4022e+00,  7.4581e-01, -2.0078e+00, -1.3704e+00, -2.9829e+00,\n",
       "            1.2935e+00],\n",
       "          [-2.4575e+00, -1.6429e+00, -9.4138e-01, -6.4420e-01,  2.3071e-01,\n",
       "            1.7421e+00,  9.7555e-01, -1.5655e+00,  3.8655e-01, -2.8423e+00,\n",
       "           -1.8307e+00,  1.2921e+00,  7.8172e-02, -1.6091e-01, -2.0340e+00,\n",
       "           -1.1217e+00],\n",
       "          [ 2.6077e+00, -2.2133e+00,  1.6823e+00,  3.0262e+00,  3.5627e-01,\n",
       "            6.1127e-01,  6.4048e-01,  1.6440e+00,  1.5628e+00,  1.8747e+00,\n",
       "            7.4607e-01,  2.9265e+00,  1.8880e+00,  1.9024e+00,  1.2033e+00,\n",
       "            9.4118e-02],\n",
       "          [-1.7157e+00, -1.8222e+00, -8.3426e-01, -3.0769e+00, -6.0226e-01,\n",
       "            4.2633e-01,  1.7158e+00, -2.8536e+00,  2.3650e+00,  1.5190e+00,\n",
       "           -1.8511e+00,  2.0004e+00,  1.9065e+00,  2.4172e+00,  1.7495e-01,\n",
       "            8.2870e-01]],\n",
       "\n",
       "         [[ 1.8863e+00,  3.0782e-01,  1.5160e+00,  1.2527e-01,  6.2416e-01,\n",
       "            2.3039e-02,  2.1433e+00, -1.7751e+00, -7.4620e-01, -3.9404e-01,\n",
       "           -1.4648e+00,  2.7268e+00,  6.1029e-02,  1.2499e+00, -2.6498e+00,\n",
       "            1.0141e+00],\n",
       "          [-1.5464e+00, -2.5488e+00, -2.4520e+00,  7.8709e-01,  2.7737e+00,\n",
       "           -3.0051e+00,  2.1164e+00, -6.0467e-03,  1.7819e+00,  2.5553e+00,\n",
       "           -1.3793e+00,  1.7603e+00, -7.0301e-01,  1.9396e+00,  2.0096e-04,\n",
       "            8.8444e-01],\n",
       "          [-2.7301e+00,  3.7813e-01, -2.8488e-01,  3.0269e-01,  1.0247e+00,\n",
       "           -2.9010e-02,  9.9144e-01,  1.4918e+00, -2.6731e+00, -1.7810e+00,\n",
       "           -1.8495e+00, -2.7926e+00,  2.0016e+00,  1.0089e+00,  2.8699e+00,\n",
       "           -2.7575e+00],\n",
       "          [ 2.4830e+00, -2.5106e+00, -1.8163e+00,  1.5481e+00,  1.6460e+00,\n",
       "           -1.4134e+00,  8.0307e-01, -2.1671e+00,  1.8777e+00, -1.7901e-01,\n",
       "            2.7839e+00,  3.0180e-01,  1.7879e-01, -1.9828e+00,  2.9579e+00,\n",
       "           -1.5056e+00],\n",
       "          [ 4.2351e-01, -9.4012e-02,  1.9908e+00,  1.1001e+00,  1.3645e+00,\n",
       "            7.7919e-01,  4.5552e-01,  6.8483e-01,  6.2025e-01,  1.3175e+00,\n",
       "           -3.3678e-01,  2.8207e+00,  3.0140e+00, -1.5572e+00,  1.2965e+00,\n",
       "           -6.9698e-01],\n",
       "          [-3.0647e+00,  1.3206e+00,  2.5761e+00,  2.0613e+00, -7.1240e-01,\n",
       "            1.8118e+00,  3.4723e-01,  1.2781e+00, -1.2001e+00,  2.0830e+00,\n",
       "            1.9199e-01, -3.0107e+00,  1.5506e-01, -2.5496e+00, -9.2266e-01,\n",
       "           -1.1237e+00],\n",
       "          [-2.7945e+00, -2.4504e+00, -1.3091e+00, -2.2678e+00, -1.6504e+00,\n",
       "            1.2094e+00,  9.5960e-02, -1.0380e+00, -2.5236e+00,  2.7068e+00,\n",
       "            2.2309e-01, -3.3608e-01, -1.9878e+00,  1.7852e+00, -2.7194e+00,\n",
       "           -3.9440e-02],\n",
       "          [-6.4595e-01, -5.3561e-01,  2.9949e-01,  8.4293e-01,  8.2697e-01,\n",
       "           -1.1782e+00,  3.6216e-01, -3.0916e+00,  2.0665e+00,  1.9922e+00,\n",
       "            2.0496e+00, -1.1954e+00, -1.6221e+00, -2.2522e-01,  2.4328e+00,\n",
       "            1.0938e+00],\n",
       "          [-1.8066e+00, -4.0669e-01, -1.4256e+00, -7.9956e-01,  1.7484e+00,\n",
       "            7.7734e-01, -1.4502e+00, -3.1307e+00,  6.8482e-03,  6.8469e-01,\n",
       "            1.5583e+00, -2.5008e+00, -2.6453e-01, -1.8396e+00,  2.4755e+00,\n",
       "            2.2930e+00],\n",
       "          [-5.8872e-01,  1.4766e+00,  2.3924e+00,  2.7055e+00,  2.6319e-01,\n",
       "            4.4898e-01,  3.6874e-01, -5.4045e-01,  4.1201e-01, -3.0397e+00,\n",
       "            2.0324e+00,  2.0095e+00,  3.1201e-02, -2.7330e+00, -2.7637e+00,\n",
       "           -1.1492e+00],\n",
       "          [ 2.2568e+00, -1.2820e+00, -4.8645e-01,  2.0145e+00, -1.0752e+00,\n",
       "            2.9974e+00, -3.4398e-01,  1.0631e+00,  9.7476e-01,  3.0492e+00,\n",
       "           -1.0776e+00,  1.1256e+00,  1.0115e+00, -1.8391e+00, -2.9501e+00,\n",
       "           -4.5122e-02],\n",
       "          [-1.5237e-01, -1.8406e+00,  1.4591e+00, -2.2202e+00,  1.8871e+00,\n",
       "            2.7251e+00, -1.3688e+00,  2.3842e+00, -2.4273e-01,  2.6131e+00,\n",
       "           -9.9287e-01, -1.8543e+00,  2.9591e+00,  2.9963e+00, -4.7102e-01,\n",
       "            4.5983e-01],\n",
       "          [ 2.9397e+00, -1.6043e-01,  1.8171e+00, -2.3786e+00, -6.4443e-01,\n",
       "           -6.2394e-01,  6.9934e-01,  2.1546e+00,  5.3234e-01,  1.6664e+00,\n",
       "            2.0497e+00, -2.7942e+00,  1.7589e-01, -3.6473e-01,  2.7316e+00,\n",
       "            2.9706e+00],\n",
       "          [-2.4887e-01,  7.7167e-01, -1.2980e+00, -3.7430e-01, -6.8613e-01,\n",
       "           -1.2365e-01,  2.9724e+00,  2.7423e+00,  6.4940e-01, -7.6446e-01,\n",
       "           -1.7244e+00,  1.8548e-01,  1.5229e+00, -2.6272e+00, -2.2832e-01,\n",
       "            2.0509e+00],\n",
       "          [ 2.9090e+00, -1.3760e+00, -9.9462e-01,  1.6512e+00,  1.7969e+00,\n",
       "           -2.7544e+00, -1.4588e+00,  1.6503e+00, -1.9174e+00,  1.2842e+00,\n",
       "            1.3957e+00, -1.9105e+00, -9.3448e-01, -2.0399e-01, -2.0056e+00,\n",
       "            1.4326e+00],\n",
       "          [ 9.0675e-01, -1.2647e+00, -6.4388e-01,  1.8463e+00,  3.7132e-01,\n",
       "            1.5156e+00,  9.4956e-01,  2.2241e+00, -5.8236e-01, -7.8306e-01,\n",
       "            1.0834e+00,  2.6927e-01,  1.6927e+00,  4.2318e-01, -1.6757e+00,\n",
       "           -2.6275e+00]]]])"
      ]
     },
     "execution_count": 182,
     "metadata": {},
     "output_type": "execute_result"
    }
   ],
   "source": [
    "torch.angle(x_est / x)"
   ]
  },
  {
   "cell_type": "code",
   "execution_count": 174,
   "metadata": {},
   "outputs": [
    {
     "data": {
      "text/plain": [
       "tensor([0.2270+0.5479j, 0.4081+0.7657j, 0.0640+0.1188j, 0.7627+0.6490j,\n",
       "        0.7882+0.0097j, 0.0652+0.3582j, 0.3713+0.0448j, 0.9036+0.1982j,\n",
       "        0.0700+0.9095j, 0.6977+0.3347j, 0.5675+0.4506j, 0.2774+0.7840j,\n",
       "        0.1212+0.0750j, 0.4959+0.0250j, 0.9745+0.6945j, 0.1770+0.2142j])"
      ]
     },
     "execution_count": 174,
     "metadata": {},
     "output_type": "execute_result"
    }
   ],
   "source": [
    "x[0,0,0]"
   ]
  },
  {
   "cell_type": "code",
   "execution_count": 122,
   "metadata": {},
   "outputs": [
    {
     "name": "stderr",
     "output_type": "stream",
     "text": [
      "  1%|          | 9/1000 [00:05<10:12,  1.62it/s]"
     ]
    }
   ],
   "source": [
    "x_norms = []\n",
    "A_norms = []\n",
    "A_vars = []\n",
    "y_norms = []\n",
    "y_vars = []\n",
    "\n",
    "for i in tqdm(range(NUM_ITER)):\n",
    "    physics = RandomPhaseRetrieval(M,IMG_SHAPE)\n",
    "    x = torch.rand((1,)+IMG_SHAPE,dtype=torch.cfloat)\n",
    "    #print(x.shape)\n",
    "    y = physics(x)\n",
    "    #print(y.shape)\n",
    "    x_norm = torch.norm(x.flatten())\n",
    "    A_norm = torch.norm(physics.B._A)\n",
    "    A_var = torch.var(physics.B._A)\n",
    "    y_norm = torch.norm(y)\n",
    "    y_var = torch.var(y)\n",
    "\n",
    "    x_norms.append(x_norm)\n",
    "    A_norms.append(A_norm)\n",
    "    A_vars.append(A_var)\n",
    "    y_norms.append(y_norm)\n",
    "    y_vars.append(y_var)"
   ]
  },
  {
   "cell_type": "code",
   "execution_count": null,
   "metadata": {},
   "outputs": [
    {
     "data": {
      "text/plain": [
       "Text(0.5, 1.0, 'y_vars vs x_norms')"
      ]
     },
     "execution_count": 47,
     "metadata": {},
     "output_type": "execute_result"
    },
    {
     "data": {
      "image/png": "[encoded data removed]",
      "text/plain": [
       "<Figure size 640x480 with 4 Axes>"
      ]
     },
     "metadata": {},
     "output_type": "display_data"
    }
   ],
   "source": [
    "# plot 4 figures showing the relationship between x_norms and A_norms/A_vars/y_norms/y_vars, using subplots and scatter plots\n",
    "# make the scattered point size smaller\n",
    "fig, axs = plt.subplots(2, 2)\n",
    "axs[0, 0].scatter(A_norms,x_norms,s=1)\n",
    "axs[0, 0].set_title('A_norms vs x_norms')\n",
    "axs[0, 1].scatter(A_vars,x_norms,s=1)\n",
    "axs[0, 1].set_title('A_vars vs x_norms')\n",
    "axs[1, 0].scatter(y_norms,x_norms,s=1)\n",
    "axs[1, 0].set_title('y_norms vs x_norms')\n",
    "axs[1, 1].scatter(y_vars,x_norms,s=1)\n",
    "axs[1, 1].set_title('y_vars vs x_norms')"
   ]
  },
  {
   "cell_type": "code",
   "execution_count": null,
   "metadata": {},
   "outputs": [
    {
     "data": {
      "text/plain": [
       "array([[ 1.9367713]], dtype=float32)"
      ]
     },
     "execution_count": 46,
     "metadata": {},
     "output_type": "execute_result"
    }
   ],
   "source": [
    "model = linear_model.LinearRegression(fit_intercept=False)\n",
    "\n",
    "model.fit(np.array(y_norms).reshape(-1,1), np.array(x_norms).reshape(-1,1))\n",
    "model.coef_"
   ]
  },
  {
   "cell_type": "code",
   "execution_count": 52,
   "metadata": {},
   "outputs": [
    {
     "name": "stdout",
     "output_type": "stream",
     "text": [
      "xHx: tensor(539.0738+0.j)\n",
      "x_norm: tensor(23.2180)\n",
      "estimate x_norm: tensor(23.1470)\n",
      "tensor(0.0001+0.j)\n",
      "tensor(0.9939+0.j)\n"
     ]
    },
    {
     "name": "stderr",
     "output_type": "stream",
     "text": [
      "/var/folders/g7/kcfjzxyn1klcs6f0xk8vby0w0000gn/T/ipykernel_92917/3094614910.py:4: UserWarning: The use of `x.T` on tensors of dimension other than 2 to reverse their shape is deprecated and it will throw an error in a future release. Consider `x.mT` to transpose batches of matrices or `x.permute(*torch.arange(x.ndim - 1, -1, -1))` to reverse the dimensions of a tensor. (Triggered internally at /Users/runner/work/pytorch/pytorch/pytorch/aten/src/ATen/native/TensorShape.cpp:3618.)\n",
      "  xHx = x.flatten().conj().T @ x.flatten()\n"
     ]
    }
   ],
   "source": [
    "physics = RandomPhaseRetrieval(M,IMG_SHAPE)\n",
    "x = torch.rand((1,)+IMG_SHAPE,dtype=torch.cfloat)\n",
    "y = physics(x)\n",
    "xHx = x.flatten().conj().T @ x.flatten()\n",
    "print('xHx:', xHx)\n",
    "print(\"x_norm:\", torch.norm(x))\n",
    "print(\"estimate x_norm:\", torch.sqrt(y.mean()*M))\n",
    "print((y / xHx).mean())\n",
    "print(M * (y / xHx).mean())"
   ]
  },
  {
   "cell_type": "code",
   "execution_count": 384,
   "metadata": {},
   "outputs": [
    {
     "data": {
      "text/plain": [
       "tensor([0.])"
      ]
     },
     "execution_count": 384,
     "metadata": {},
     "output_type": "execute_result"
    }
   ],
   "source": [
    "loss_fn = L2()\n",
    "loss_fn(x, y, physics)"
   ]
  },
  {
   "cell_type": "code",
   "execution_count": 385,
   "metadata": {},
   "outputs": [
    {
     "data": {
      "text/plain": [
       "tensor(1.)"
      ]
     },
     "execution_count": 385,
     "metadata": {},
     "output_type": "execute_result"
    }
   ],
   "source": [
    "x_est = spectral_methods(50,torch.rand_like(x),y,physics)\n",
    "x_est / x"
   ]
  },
  {
   "cell_type": "code",
   "execution_count": 430,
   "metadata": {},
   "outputs": [
    {
     "name": "stdout",
     "output_type": "stream",
     "text": [
      "loss before scaling tensor([71.0060])\n",
      "x_norm: tensor(22.7286)\n",
      "x_new_norm: tensor(22.8618)\n",
      "loss after scaling tensor([45.0234])\n"
     ]
    }
   ],
   "source": [
    "print(\"loss before scaling\",loss_fn(x_est, y, physics))\n",
    "x_new = x_est * torch.sqrt(y.mean()*M)\n",
    "print(\"x_norm:\", torch.norm(x))\n",
    "print(\"x_new_norm:\", torch.norm(x_new))\n",
    "print(\"loss after scaling\",loss_fn(x_new, y, physics))"
   ]
  },
  {
   "cell_type": "code",
   "execution_count": 356,
   "metadata": {},
   "outputs": [
    {
     "name": "stdout",
     "output_type": "stream",
     "text": [
      "xHx: tensor(796.9452+0.j)\n",
      "x_norm: tensor(28.2302)\n",
      "y_norm: tensor(28.2988)\n",
      "tensor(0.0003+0.j)\n",
      "tensor(1.0049+0.j)\n"
     ]
    }
   ],
   "source": [
    "N = torch.prod(torch.tensor(IMG_SHAPE))\n",
    "matrix = torch.randn((M, N), dtype=torch.cfloat) / np.sqrt(M)\n",
    "\n",
    "x = torch.randn((N,), dtype=torch.cfloat)\n",
    "y = (matrix @ x).abs()**2\n",
    "\n",
    "xHx = x.conj().T @ x\n",
    "print('xHx:', xHx)\n",
    "print(\"x_norm:\", torch.norm(x))\n",
    "print(\"y_norm:\", torch.sqrt(y.mean()*M))\n",
    "print((y / xHx).mean())\n",
    "print(M * (y / xHx).mean())"
   ]
  },
  {
   "cell_type": "markdown",
   "metadata": {},
   "source": [
    "# Test spectral methods correctness"
   ]
  },
  {
   "cell_type": "code",
   "execution_count": 40,
   "metadata": {},
   "outputs": [],
   "source": [
    "N = 2000\n",
    "mat_A = torch.randn((N,N),dtype=torch.cfloat) / torch.sqrt(torch.tensor(N))\n",
    "mat_A\n",
    "x = torch.randn(N,dtype=torch.cfloat)\n",
    "y = (mat_A @ x).abs()**2\n",
    "#y"
   ]
  },
  {
   "cell_type": "code",
   "execution_count": 41,
   "metadata": {},
   "outputs": [],
   "source": [
    "# construct matrix M\n",
    "def preprocessing(y):\n",
    "    return torch.max(1 - 1 / y, torch.tensor(-5.0))\n",
    "mat_M = mat_A.conj().T @ torch.diag(preprocessing(y).squeeze()).to(torch.cfloat) @ mat_A\n",
    "#print(mat_M)\n",
    "\n",
    "# compute the principle eigenvector of M\n",
    "eig_val, eig_vec = torch.linalg.eig(mat_M)"
   ]
  },
  {
   "cell_type": "code",
   "execution_count": 49,
   "metadata": {},
   "outputs": [
    {
     "name": "stdout",
     "output_type": "stream",
     "text": [
      "tensor(0.9493)\n"
     ]
    }
   ],
   "source": [
    "print(eig_val.real.max())\n",
    "#print(eig_vec)"
   ]
  },
  {
   "cell_type": "code",
   "execution_count": 51,
   "metadata": {},
   "outputs": [
    {
     "name": "stdout",
     "output_type": "stream",
     "text": [
      "tensor([-0.2513+0.j,  0.6623+0.j, -5.0000+0.j,  ...,  0.5484+0.j,  0.3241+0.j,\n",
      "        -1.3153+0.j])\n",
      "tensor(0.0276-0.0715j)\n"
     ]
    },
    {
     "data": {
      "text/plain": [
       "tensor([0.9046+0.0140j, 0.4765+0.1802j, 0.8886-0.0194j,  ...,\n",
       "        0.9762-0.0976j, 0.8594+0.0600j, 0.8139-0.0745j])"
      ]
     },
     "execution_count": 51,
     "metadata": {},
     "output_type": "execute_result"
    }
   ],
   "source": [
    "x_est = torch.rand(N, dtype=torch.cfloat)\n",
    "x_est = x_est / torch.linalg.norm(x)\n",
    "\n",
    "diag_T = preprocessing(y)\n",
    "diag_T = diag_T.to(torch.cfloat)\n",
    "print(diag_T)\n",
    "for _ in range(100):\n",
    "    res = mat_A @ x_est\n",
    "    res = diag_T * res\n",
    "    res = mat_A.conj().T @ res\n",
    "    x_est = res + 10 * x_est\n",
    "    x_est = x_est / torch.linalg.norm(x_est)\n",
    "    #x = -x if x[0].real < 0 else x\n",
    "print(cosine_similarity(x, x_est))\n",
    "Mx = mat_M @ x_est\n",
    "Mx/x_est "
   ]
  },
  {
   "cell_type": "markdown",
   "metadata": {},
   "source": [
    "# Test phase retrieval eigenvalue range"
   ]
  },
  {
   "cell_type": "code",
   "execution_count": 2,
   "metadata": {},
   "outputs": [
    {
     "data": {
      "text/plain": [
       "tensor(1.0003)"
      ]
     },
     "execution_count": 2,
     "metadata": {},
     "output_type": "execute_result"
    }
   ],
   "source": [
    "img_shape = (1, 32, 32)\n",
    "m = 5 * 1 * 32 * 32\n",
    "physics = RandomPhaseRetrieval(m, img_shape)\n",
    "x = torch.rand((1,) + img_shape, dtype=torch.cfloat)\n",
    "y = physics(x)\n",
    "mat_A = physics.B._A\n",
    "mat_A.var() * m"
   ]
  },
  {
   "cell_type": "code",
   "execution_count": 23,
   "metadata": {},
   "outputs": [
    {
     "name": "stdout",
     "output_type": "stream",
     "text": [
      "tensor(0.6712)\n",
      "tensor(1.3927)\n",
      "tensor(0.9998)\n"
     ]
    }
   ],
   "source": [
    "# construct matrix M\n",
    "def preprocessing(y):\n",
    "    return torch.max(1 - 1 / y, torch.tensor(-5.0))\n",
    "#mat_M = mat_A.conj().T @ torch.diag(preprocessing(y).squeeze()).to(torch.cfloat) @ mat_A\n",
    "mat_M = mat_A.conj().T @ mat_A\n",
    "#print(mat_M)\n",
    "\n",
    "# compute the principle eigenvector of M\n",
    "eig_val, eig_vec = torch.linalg.eig(mat_M)\n",
    "\n",
    "print(eig_val.real.min())\n",
    "print(eig_val.real.max())\n",
    "print(eig_val.real.mean())"
   ]
  },
  {
   "cell_type": "code",
   "execution_count": 6,
   "metadata": {},
   "outputs": [
    {
     "ename": "KeyboardInterrupt",
     "evalue": "",
     "output_type": "error",
     "traceback": [
      "\u001b[0;31m---------------------------------------------------------------------------\u001b[0m",
      "\u001b[0;31mKeyboardInterrupt\u001b[0m                         Traceback (most recent call last)",
      "Cell \u001b[0;32mIn[6], line 5\u001b[0m\n\u001b[1;32m      3\u001b[0m row \u001b[38;5;241m=\u001b[39m matrix[i,:]\n\u001b[1;32m      4\u001b[0m mat \u001b[38;5;241m=\u001b[39m torch\u001b[38;5;241m.\u001b[39meinsum(\u001b[38;5;124m'\u001b[39m\u001b[38;5;124mi,j->ij\u001b[39m\u001b[38;5;124m'\u001b[39m,row,row)\n\u001b[0;32m----> 5\u001b[0m L, V \u001b[38;5;241m=\u001b[39m \u001b[43mtorch\u001b[49m\u001b[38;5;241;43m.\u001b[39;49m\u001b[43mlinalg\u001b[49m\u001b[38;5;241;43m.\u001b[39;49m\u001b[43meig\u001b[49m\u001b[43m(\u001b[49m\u001b[43mmat\u001b[49m\u001b[43m)\u001b[49m\n\u001b[1;32m      6\u001b[0m eigenvalues\u001b[38;5;241m.\u001b[39mappend(L[\u001b[38;5;241m0\u001b[39m]\u001b[38;5;241m.\u001b[39mreal)\n",
      "\u001b[0;31mKeyboardInterrupt\u001b[0m: "
     ]
    }
   ],
   "source": [
    "eigenvalues = []\n",
    "for i in range(M):\n",
    "    row = matrix[i,:]\n",
    "    mat = torch.einsum('i,j->ij',row,row)\n",
    "    L, V = torch.linalg.eig(mat)\n",
    "    eigenvalues.append(L[0].real)"
   ]
  },
  {
   "cell_type": "code",
   "execution_count": null,
   "metadata": {},
   "outputs": [
    {
     "data": {
      "text/plain": [
       "tensor([ 1.9044e-01+1.8588e-09j,  3.9721e-09-4.5303e-09j,\n",
       "        -3.5336e-09-4.5091e-09j, -1.1259e-09-5.4149e-09j,\n",
       "        -2.2642e-09-4.8693e-09j,  4.8220e-09-2.9589e-09j,\n",
       "         3.1344e-09+4.7444e-09j, -4.8490e-09+2.7792e-09j,\n",
       "         7.0056e-10+5.3759e-09j, -2.0055e-09+5.0494e-09j,\n",
       "        -3.0504e-09+4.4093e-09j,  5.4562e-09+8.6565e-10j,\n",
       "         4.6287e-09+2.5858e-09j,  5.1668e-09-5.7130e-10j,\n",
       "         4.6333e-09-1.8838e-09j,  4.8095e-09+2.0723e-10j,\n",
       "         3.6286e-09+2.9968e-09j,  5.1622e-10-5.0224e-09j,\n",
       "         1.0832e-09-4.7136e-09j,  2.2880e-09-4.0219e-09j,\n",
       "        -7.0217e-10+4.8566e-09j, -5.3252e-09+1.3412e-10j,\n",
       "        -4.7093e-09-2.3607e-09j, -4.7808e-09+1.0779e-09j,\n",
       "        -4.6388e-09-9.7043e-10j, -3.9367e-09-2.5284e-09j,\n",
       "         1.2902e-09+4.3297e-09j, -2.4770e-09+3.4466e-09j,\n",
       "        -2.9592e-09+3.0118e-09j,  2.9709e-09+1.9071e-09j,\n",
       "         2.5005e-09-2.1931e-09j, -2.4887e-09-2.0898e-09j,\n",
       "        -1.4548e-09-9.7319e-10j,  9.1451e-10-1.2819e-09j,\n",
       "         1.0833e-09+9.4874e-10j, -1.1381e-09-1.4421e-10j,\n",
       "        -1.0344e-09-3.2662e-10j,  1.1435e-09-5.0413e-11j,\n",
       "         1.1031e-09-2.1209e-10j, -4.9798e-10+7.1862e-10j,\n",
       "        -9.5206e-10+2.9818e-10j, -9.9237e-10+1.5649e-10j,\n",
       "        -1.0111e-09+5.5743e-11j, -8.8341e-10-3.8969e-10j,\n",
       "        -9.8200e-10-1.5011e-10j, -7.5087e-10+5.0687e-10j,\n",
       "        -6.1531e-10+5.9370e-10j, -9.6661e-10-4.2795e-11j,\n",
       "         3.2792e-10+7.6631e-10j, -5.7820e-10-6.3365e-10j,\n",
       "        -8.4732e-10+2.8775e-10j, -8.5347e-10-2.1371e-10j,\n",
       "        -8.7702e-10+1.5133e-10j, -7.9939e-10-3.3661e-10j,\n",
       "        -6.6918e-10-5.0292e-10j, -7.2495e-10+3.6233e-10j,\n",
       "        -7.8631e-10+2.6028e-10j, -8.0270e-10+1.9088e-10j,\n",
       "         4.9392e-10+6.8722e-10j,  7.4498e-11+7.4600e-10j,\n",
       "         8.8435e-10+4.0454e-10j,  7.7376e-10+4.8735e-10j,\n",
       "         9.9210e-10+2.0444e-10j,  5.8053e-10+5.8776e-10j,\n",
       "        -8.0945e-10-3.0759e-11j, -6.6879e-10-4.4108e-10j,\n",
       "        -5.2148e-10-5.6169e-10j,  9.6339e-11-7.8597e-10j,\n",
       "         9.7711e-10-2.6651e-10j,  6.9860e-10-6.1600e-10j,\n",
       "         9.6827e-10+1.0897e-10j,  9.6198e-10-1.2336e-10j,\n",
       "         2.8309e-10-7.3140e-10j,  7.9075e-10+2.9641e-10j,\n",
       "         8.8456e-10+1.7763e-10j,  8.1285e-10-4.4798e-10j,\n",
       "         2.8851e-10-6.9162e-10j,  9.0332e-10-4.2495e-11j,\n",
       "         8.4487e-10-2.7588e-10j,  8.6725e-10+8.0734e-12j,\n",
       "         8.0616e-10+1.4696e-10j,  7.0866e-10-4.7139e-10j,\n",
       "         5.4342e-10-5.4873e-10j,  7.6049e-10-3.1032e-10j,\n",
       "         7.2332e-10-3.8632e-10j,  7.9826e-10-1.1916e-10j,\n",
       "         6.5203e-10-4.2774e-10j, -3.2181e-10-6.4417e-10j,\n",
       "        -3.5765e-10-6.1087e-10j,  2.0608e-10+7.0118e-10j,\n",
       "        -1.4728e-10-6.4895e-10j, -6.2054e-10+4.4552e-10j,\n",
       "         7.4872e-10-2.5750e-10j, -6.3140e-10-3.9877e-10j,\n",
       "        -8.1079e-10+8.1289e-11j,  7.0629e-10-2.8989e-10j,\n",
       "        -5.7286e-10-4.3697e-10j,  8.0920e-10-9.8500e-12j,\n",
       "         1.8202e-11-6.3429e-10j, -7.5193e-10-1.8865e-10j,\n",
       "         3.1362e-10-5.8258e-10j,  4.9888e-10-4.6372e-10j,\n",
       "        -7.6542e-10+1.2588e-10j, -2.7568e-10-5.7054e-10j,\n",
       "         1.0849e-10-6.0619e-10j, -7.6063e-10-7.8323e-11j,\n",
       "        -4.5830e-10-4.8682e-10j,  6.2150e-10+4.3282e-10j,\n",
       "        -7.6593e-10+1.3612e-11j,  3.3947e-10-5.4449e-10j,\n",
       "        -1.3524e-10+6.7249e-10j, -6.4807e-10-2.9018e-10j,\n",
       "        -6.7714e-10+2.7741e-10j, -9.5504e-11-5.7926e-10j,\n",
       "        -4.6521e-10+5.2580e-10j, -2.8211e-10+6.1054e-10j,\n",
       "        -2.5232e-10+6.2055e-10j, -6.1272e-10+3.7059e-10j,\n",
       "        -6.0680e-10-3.0619e-10j,  4.4640e-10+5.5552e-10j,\n",
       "        -3.4341e-10+5.7543e-10j, -1.5896e-10+6.3868e-10j,\n",
       "        -4.9172e-10-4.0348e-10j, -5.1730e-10+4.5849e-10j,\n",
       "         6.1376e-10-3.1696e-10j, -6.9267e-10+1.0227e-10j,\n",
       "        -6.8471e-10-1.5089e-10j,  7.1719e-10+2.3811e-10j,\n",
       "         6.6491e-10+3.2278e-10j,  3.2986e-10-5.1770e-10j,\n",
       "        -6.7321e-10-9.5648e-11j,  7.0766e-10-1.4768e-10j,\n",
       "        -4.0613e-10+4.9568e-10j, -5.9999e-10+2.8411e-10j,\n",
       "        -6.2691e-10+2.1388e-10j,  3.4998e-10+5.7069e-10j,\n",
       "         5.2877e-10+4.1812e-10j,  6.7326e-10+1.9850e-10j,\n",
       "         5.5758e-10+3.5017e-10j,  5.9880e-10+2.9552e-10j,\n",
       "         2.5553e-10+5.6983e-10j,  1.0100e-10+5.9105e-10j,\n",
       "         6.5979e-10-9.0443e-11j,  7.0141e-10+5.0395e-11j,\n",
       "         6.7161e-10+1.2890e-10j,  4.3050e-10+4.6805e-10j,\n",
       "         4.5801e-10+4.4203e-10j, -6.4595e-10-1.5468e-10j,\n",
       "        -4.7588e-10+4.0150e-10j,  6.6663e-10-3.0148e-11j,\n",
       "         4.9702e-11+5.4568e-10j,  6.7235e-10+7.8457e-11j,\n",
       "         3.2706e-10+5.2224e-10j,  1.5914e-10+4.7844e-10j,\n",
       "         3.7387e-10+3.9394e-10j,  6.0689e-10+1.7765e-10j,\n",
       "         4.8457e-10+3.6096e-10j,  3.2862e-10+4.8613e-10j,\n",
       "         3.6026e-10+3.7744e-10j, -1.0251e-10+5.3179e-10j,\n",
       "        -2.5735e-10+4.9066e-10j,  6.0933e-10+5.9631e-11j,\n",
       "        -1.5697e-11+4.9590e-10j,  5.4327e-11+4.9450e-10j,\n",
       "         6.2824e-10-4.1220e-11j,  4.2724e-11+4.6371e-10j,\n",
       "         5.3018e-10-3.5572e-10j, -2.4968e-10+4.4464e-10j,\n",
       "        -3.4813e-10-4.7376e-10j, -4.5978e-10+3.5393e-10j,\n",
       "         6.0926e-10-1.6890e-10j, -5.9170e-10-2.6350e-10j,\n",
       "        -4.0211e-10+3.5081e-10j, -5.0895e-10-3.2275e-10j,\n",
       "        -5.9614e-10+1.7840e-10j, -2.4565e-10-5.2451e-10j,\n",
       "        -3.8232e-10+3.1651e-10j, -6.4909e-10-3.4709e-11j,\n",
       "        -5.3441e-10+2.1947e-10j,  5.7193e-10-2.5175e-10j,\n",
       "        -5.8908e-10+1.4238e-10j, -6.0281e-10-1.9031e-10j,\n",
       "        -6.1921e-10+6.0095e-11j,  5.8233e-10-2.0579e-10j,\n",
       "        -6.1876e-10+3.5230e-11j, -6.1611e-11-5.7417e-10j,\n",
       "         4.3888e-10-3.7276e-10j,  2.3644e-10-5.2128e-10j,\n",
       "        -6.1877e-10-1.5031e-11j, -5.5298e-10-2.1854e-10j,\n",
       "        -2.5421e-10-4.8521e-10j,  5.0947e-10-2.9082e-10j,\n",
       "         3.7439e-10-4.1949e-10j,  1.2000e-10-5.3894e-10j,\n",
       "         5.4893e-10-2.0332e-10j,  4.7217e-10-2.8662e-10j,\n",
       "         3.1006e-11-5.4184e-10j, -5.6355e-10-1.4620e-10j,\n",
       "         3.9337e-10-3.6357e-10j,  2.3069e-10-4.4849e-10j,\n",
       "        -1.8859e-10-4.3315e-10j, -9.8301e-11-4.8088e-10j,\n",
       "        -5.4283e-10-7.0050e-12j,  2.2386e-10-3.5105e-10j,\n",
       "         9.0444e-11-4.4847e-10j, -2.8848e-11-4.7526e-10j,\n",
       "         5.2592e-11-4.7702e-10j, -4.7989e-10-2.5764e-10j,\n",
       "        -3.7663e-10+3.8639e-10j, -4.1836e-10-3.2007e-10j,\n",
       "        -3.3286e-10-3.9944e-10j, -1.9740e-10+5.0316e-10j,\n",
       "        -5.0048e-10+1.8719e-10j, -1.5734e-10+4.8023e-10j,\n",
       "        -1.5952e-10-4.3944e-10j,  2.1578e-10+4.7847e-10j,\n",
       "         3.1915e-10-4.1071e-10j,  4.8833e-10+2.7017e-10j,\n",
       "         1.5203e-10+4.0267e-10j,  4.2476e-10+3.2291e-10j,\n",
       "         3.6104e-10-3.2165e-10j,  3.1407e-10-3.2329e-10j,\n",
       "         2.6931e-10+4.1253e-10j,  5.3530e-10+1.8421e-10j,\n",
       "         5.5513e-10+1.5107e-10j,  5.5002e-10-1.3893e-10j,\n",
       "         5.7462e-10-6.9466e-11j,  5.0867e-10+2.0032e-10j,\n",
       "         2.6311e-10+3.6273e-10j,  5.4417e-10+3.8684e-11j,\n",
       "         5.4277e-10+5.7170e-12j,  3.6764e-10+2.6061e-10j,\n",
       "         4.6850e-10-1.3686e-10j,  5.0015e-10+1.3329e-10j,\n",
       "         4.6045e-10-6.2133e-11j,  5.3121e-10-4.8227e-11j,\n",
       "         5.3117e-10+7.7477e-11j,  4.0917e-10+1.6664e-10j,\n",
       "         4.7531e-10+6.5474e-11j,  2.6823e-10-3.8997e-10j,\n",
       "         4.2491e-10-2.2614e-10j, -4.3742e-11-4.0799e-10j,\n",
       "        -5.2004e-10+1.3098e-10j,  2.1625e-11+4.1973e-10j,\n",
       "        -5.0136e-10-1.5909e-10j,  3.6404e-10-2.4566e-10j,\n",
       "        -4.2167e-10-2.5999e-10j, -2.0984e-10-3.8450e-10j,\n",
       "         2.8797e-10+2.9247e-10j, -5.0610e-10-1.0162e-10j,\n",
       "        -5.0635e-10+9.6479e-11j, -3.1262e-10+3.3750e-10j,\n",
       "        -9.7311e-11+4.0600e-10j, -4.6424e-10-1.6566e-10j,\n",
       "        -3.1878e-10-3.1955e-10j, -4.0902e-10+2.4134e-10j,\n",
       "        -4.4996e-10+1.8691e-10j, -3.9721e-10+2.4403e-10j,\n",
       "        -2.6038e-10+3.4627e-10j, -2.4344e-10+3.5284e-10j,\n",
       "        -4.7181e-10-1.0774e-10j, -4.8240e-10+7.2512e-11j,\n",
       "        -2.9367e-10-3.1855e-10j, -4.7610e-10-2.1898e-11j,\n",
       "        -1.9497e-10+3.6133e-10j, -3.4044e-10-2.6177e-10j,\n",
       "         3.7390e-10-1.9563e-10j, -2.4276e-10-3.1882e-10j,\n",
       "        -1.3823e-10+3.7617e-10j, -4.0574e-10+1.8466e-10j,\n",
       "        -4.3272e-10-1.2775e-10j, -3.0633e-10+2.8616e-10j,\n",
       "        -3.6825e-10-2.0796e-10j, -2.7929e-10-2.8786e-10j,\n",
       "        -4.4351e-10+9.4715e-11j, -4.2659e-10+1.1783e-10j,\n",
       "         4.2824e-10+1.2509e-10j,  3.6748e-10+2.0186e-10j,\n",
       "         4.2721e-10-1.3829e-10j,  4.3545e-10-5.4029e-11j,\n",
       "         4.1559e-10+8.5674e-11j,  3.2223e-10+2.4302e-10j,\n",
       "         4.1567e-10+5.7032e-11j,  3.7883e-10+1.4882e-10j,\n",
       "         2.6276e-10+2.9155e-10j,  3.4046e-10+1.8836e-10j,\n",
       "         1.6915e-10+3.4474e-10j,  3.8780e-10-1.3275e-10j,\n",
       "         1.9257e-10+3.2569e-10j,  3.2103e-10-2.5915e-10j,\n",
       "         3.7867e-10-1.0477e-10j,  1.2338e-10+3.3897e-10j,\n",
       "         2.5184e-10+2.4777e-10j,  3.2852e-10-1.9640e-10j,\n",
       "         3.7981e-12+3.6589e-10j,  4.0077e-11+3.5727e-10j,\n",
       "         1.4551e-10-3.6056e-10j,  1.7767e-11-3.8252e-10j,\n",
       "        -1.6985e-10+3.4373e-10j,  8.9022e-11-3.6823e-10j,\n",
       "         2.1718e-10-3.0384e-10j,  1.5741e-10-3.3393e-10j,\n",
       "        -4.0145e-10+1.5534e-10j, -4.3046e-10-2.1512e-13j,\n",
       "        -6.1421e-11+3.5197e-10j, -2.8470e-11+3.4768e-10j,\n",
       "        -4.1305e-10+7.3542e-11j, -1.0847e-10+3.3766e-10j,\n",
       "        -3.0134e-10+2.4645e-10j, -4.1163e-10-2.4258e-11j,\n",
       "        -3.0592e-11-3.6605e-10j,  2.4566e-10-2.6023e-10j,\n",
       "        -1.7527e-10-3.3647e-10j, -3.9711e-10-9.7179e-11j,\n",
       "        -3.2678e-10-2.1003e-10j, -2.6633e-10+2.6046e-10j,\n",
       "        -3.2480e-10+2.0517e-10j,  8.8078e-11-3.4853e-10j,\n",
       "        -2.0268e-10+2.8656e-10j, -3.6886e-10+1.1103e-10j,\n",
       "        -3.3424e-10+1.7407e-10j, -2.0475e-10-2.9724e-10j,\n",
       "        -2.6684e-10-2.4118e-10j,  1.9050e-10+2.8469e-10j,\n",
       "        -1.2993e-10-3.3045e-10j, -3.0656e-10-1.8347e-10j,\n",
       "        -3.5954e-10-1.0564e-10j,  6.7956e-11-3.3226e-10j,\n",
       "        -2.0213e-11-3.1915e-10j, -8.4953e-11-3.3136e-10j,\n",
       "         1.4931e-10-2.7754e-10j, -1.4373e-10-3.0009e-10j,\n",
       "        -2.7830e-10+1.9591e-10j, -2.2651e-10-2.2678e-10j,\n",
       "        -1.0211e-10-3.0397e-10j,  3.1786e-10-1.6579e-10j,\n",
       "        -3.8147e-10-4.0399e-11j,  4.0710e-10-1.0580e-11j,\n",
       "        -3.0434e-10-1.5710e-10j, -3.6640e-10+6.8263e-11j,\n",
       "         1.7046e-10-2.6927e-10j,  7.2748e-12-2.9099e-10j,\n",
       "        -3.5763e-10-6.4658e-11j, -1.7716e-10+2.8649e-10j,\n",
       "        -1.3334e-10-2.5485e-10j, -3.5124e-10-5.5415e-11j,\n",
       "         3.0015e-10+1.8576e-10j,  3.9353e-10-7.0307e-12j,\n",
       "        -2.4576e-10-1.7018e-10j,  2.5556e-10+2.1948e-10j,\n",
       "        -2.5786e-10+1.9645e-10j, -3.0406e-10+1.2871e-10j,\n",
       "        -1.5929e-10+2.7590e-10j,  3.9152e-10-2.7331e-11j,\n",
       "        -3.2142e-10-6.9275e-11j, -2.7694e-10-1.1969e-10j,\n",
       "        -2.8161e-10+1.5062e-10j,  2.0346e-10-2.1944e-10j,\n",
       "        -9.6208e-11+2.8682e-10j,  3.4350e-10+1.1620e-10j,\n",
       "         5.2844e-11+3.2459e-10j,  3.2245e-10+1.3603e-10j,\n",
       "        -3.3300e-10+1.0437e-11j,  3.6259e-10+5.8919e-11j,\n",
       "         2.3201e-10-1.9887e-10j,  1.8859e-11+3.0740e-10j,\n",
       "         1.4812e-10+2.7031e-10j,  1.7966e-10+2.4343e-10j,\n",
       "         1.3368e-10+2.7414e-10j,  6.3841e-11+3.0422e-10j,\n",
       "         3.1835e-10-1.1226e-10j, -4.1440e-11+2.7597e-10j,\n",
       "         2.9092e-10+1.4952e-10j,  2.5699e-10-1.7226e-10j,\n",
       "         2.8660e-10-1.3622e-10j, -1.4571e-11+2.9665e-10j,\n",
       "         3.3707e-10-1.2821e-11j,  2.6356e-10+1.6842e-10j,\n",
       "         3.3583e-10+4.1938e-11j,  3.3234e-10+5.0949e-11j,\n",
       "        -3.2633e-10-2.0475e-11j, -3.0260e-10+3.3946e-11j,\n",
       "         6.0823e-11+2.7154e-10j,  3.2392e-10-3.6130e-11j,\n",
       "         2.5248e-10-1.6009e-10j,  2.9097e-10-9.6298e-11j,\n",
       "        -7.5345e-11-2.6467e-10j, -5.1107e-11-2.6522e-10j,\n",
       "         5.2096e-11-2.7124e-10j, -2.4589e-10-1.5844e-10j,\n",
       "         5.4033e-11-2.5744e-10j,  7.3232e-11-2.5446e-10j,\n",
       "         2.9576e-10+7.3162e-11j,  3.0823e-10+2.1289e-12j,\n",
       "        -2.9427e-10-1.3076e-11j, -2.8686e-10-6.2141e-11j,\n",
       "         2.8477e-10+9.8475e-11j, -2.0487e-10-1.8786e-10j,\n",
       "        -1.0213e-10+2.4987e-10j,  2.9439e-10-4.1321e-11j,\n",
       "         1.8772e-10+2.0407e-10j, -2.2856e-10-1.4083e-10j,\n",
       "        -2.6805e-10-1.0894e-10j, -1.5121e-10+2.2075e-10j,\n",
       "        -2.0761e-10+1.9256e-10j, -1.9529e-10+1.8697e-10j,\n",
       "         2.4533e-10-1.1385e-10j,  2.7080e-10-6.7481e-11j,\n",
       "        -1.5981e-11+2.4359e-10j,  1.4761e-10+2.0863e-10j,\n",
       "        -2.5773e-10+1.1549e-10j, -2.8023e-10+5.4806e-11j,\n",
       "        -2.8654e-10+4.2301e-11j,  2.0690e-10+1.5802e-10j,\n",
       "        -2.3959e-10+1.1948e-10j, -2.7659e-10+4.1709e-12j,\n",
       "         1.1630e-10+2.0428e-10j,  2.2070e-10+1.1783e-10j,\n",
       "        -1.3862e-10+1.9382e-10j, -1.8413e-10+1.7618e-10j,\n",
       "        -4.4396e-11-2.4834e-10j,  1.6916e-11-2.4461e-10j,\n",
       "        -9.1117e-11-2.2852e-10j,  1.3001e-10-2.1440e-10j,\n",
       "        -1.5061e-10-2.0294e-10j,  2.0783e-10-1.5887e-10j,\n",
       "         2.7400e-10-1.1362e-11j,  2.5907e-10+4.2193e-11j,\n",
       "         1.5140e-10-1.9526e-10j,  2.6666e-10+1.6942e-11j,\n",
       "        -1.8417e-10-1.6240e-10j, -2.5905e-10-4.9158e-11j,\n",
       "         7.7714e-11-2.1025e-10j,  1.6129e-10-1.6504e-10j,\n",
       "        -2.1271e-10+1.2743e-10j,  2.3789e-10-6.5203e-11j,\n",
       "        -2.3005e-10+8.3494e-11j, -1.1174e-10-1.8273e-10j,\n",
       "        -2.2494e-10-7.8728e-11j, -2.4185e-10+1.1150e-11j,\n",
       "         2.2731e-11-2.0743e-10j, -3.6460e-11-2.0889e-10j,\n",
       "        -1.3572e-10+1.6612e-10j, -8.4694e-11+1.9181e-10j,\n",
       "        -3.9590e-11+2.1159e-10j,  1.0166e-10-1.8877e-10j,\n",
       "        -4.9953e-11+1.9850e-10j, -2.3173e-10+4.9965e-11j,\n",
       "         4.7096e-11+2.0729e-10j,  2.9274e-11+2.0689e-10j,\n",
       "         1.0275e-10+2.0271e-10j,  1.0657e-11+2.0014e-10j,\n",
       "         1.4012e-10-1.6573e-10j, -7.8218e-11-1.8665e-10j,\n",
       "         1.8680e-10+1.5182e-10j, -1.9230e-10+8.7233e-11j,\n",
       "        -1.6354e-10-1.5021e-10j, -2.2880e-10-1.1662e-11j,\n",
       "         1.1759e-10+1.8582e-10j,  1.9772e-10-1.1364e-10j,\n",
       "         1.9001e-10+1.2225e-10j,  2.1225e-10+8.6502e-11j,\n",
       "        -1.9024e-10-1.1553e-10j, -2.1135e-10-5.2491e-11j,\n",
       "         2.4328e-10-3.9326e-11j,  2.2435e-10+6.0373e-11j,\n",
       "        -1.6772e-10-1.1973e-10j, -2.0036e-10-8.1191e-11j,\n",
       "         1.4193e-10+1.5174e-10j,  1.3368e-10+1.6071e-10j,\n",
       "         2.2783e-10-5.0910e-11j,  1.8409e-10-1.0491e-10j,\n",
       "         2.0098e-10-7.1744e-11j,  2.1588e-10+3.2525e-11j,\n",
       "         2.1935e-10+1.1760e-11j,  2.1241e-10-1.2326e-11j,\n",
       "        -1.1124e-10+1.7135e-10j, -1.7868e-10+9.7878e-11j,\n",
       "        -1.5248e-10+1.1926e-10j, -1.3030e-10+1.4126e-10j,\n",
       "        -8.4669e-11+1.6770e-10j, -2.1135e-10+2.1772e-11j,\n",
       "        -2.9179e-11+1.7887e-10j, -1.9378e-10+4.7701e-11j,\n",
       "         1.1241e-10-1.6376e-10j,  1.2530e-10-1.5799e-10j,\n",
       "         1.6002e-10-1.1700e-10j,  3.3402e-11+1.7764e-10j,\n",
       "         1.8924e-10-7.9741e-11j,  6.2542e-11-1.6637e-10j,\n",
       "        -1.5277e-10-1.2455e-10j, -2.0220e-10-4.0642e-11j,\n",
       "         1.1403e-12-1.7757e-10j,  1.9519e-10+6.7561e-11j,\n",
       "         1.7477e-10+9.3985e-11j, -1.5969e-10-1.0286e-10j,\n",
       "        -7.7534e-11-1.6180e-10j, -1.0383e-11-1.7427e-10j,\n",
       "        -4.3234e-11-1.7232e-10j,  8.2293e-11+1.5739e-10j,\n",
       "         1.3512e-10+1.1947e-10j,  1.9762e-10+3.6251e-12j,\n",
       "        -1.8643e-10-3.3629e-11j, -1.6565e-10-8.8719e-11j,\n",
       "        -9.5044e-11-1.4159e-10j, -7.5916e-11+1.5170e-10j,\n",
       "        -2.9877e-11-1.6609e-10j,  1.0368e-10+1.3819e-10j,\n",
       "         1.8279e-10-2.4775e-11j,  1.8388e-10+1.0748e-11j,\n",
       "         2.4161e-11+1.5892e-10j,  8.5787e-12+1.5977e-10j,\n",
       "        -6.8687e-11-1.4930e-10j, -1.3766e-10+1.0724e-10j,\n",
       "        -1.6925e-10+6.0651e-11j, -1.1584e-10-1.2195e-10j,\n",
       "        -1.3697e-10-1.0144e-10j, -4.3769e-11+1.4960e-10j,\n",
       "         6.8671e-12-1.5309e-10j,  1.4051e-10+9.2496e-11j,\n",
       "        -1.5412e-10+7.2013e-11j, -7.9306e-11+1.2614e-10j,\n",
       "         5.3762e-11-1.4141e-10j, -1.0347e-10+1.0891e-10j,\n",
       "        -1.1914e-11+1.3551e-10j, -1.7996e-10+2.2968e-12j,\n",
       "         1.4452e-10-8.6217e-11j,  1.5808e-10+4.9074e-11j,\n",
       "         1.2035e-10-1.1482e-10j,  1.5798e-10-6.2473e-11j,\n",
       "         1.4237e-10+6.8233e-11j,  6.5578e-11-1.2334e-10j,\n",
       "         1.0231e-10-1.2071e-10j,  1.6171e-10+1.5935e-11j,\n",
       "        -1.5472e-10-5.3107e-11j, -9.0330e-11-1.2098e-10j,\n",
       "        -1.6332e-10+1.0149e-11j,  1.1676e-10-1.0338e-10j,\n",
       "        -1.5400e-10+3.8169e-11j, -1.6007e-10-4.1810e-11j,\n",
       "        -1.5692e-10-4.5698e-12j,  1.4553e-10+5.5423e-11j,\n",
       "         1.4836e-10-4.7614e-11j,  9.9525e-11-1.0445e-10j,\n",
       "         1.0798e-10+9.7913e-11j,  1.0795e-11+1.2988e-10j,\n",
       "         3.4137e-11-1.2882e-10j,  7.6363e-11+1.1684e-10j,\n",
       "        -1.1858e-10+8.6673e-11j, -5.5859e-11+1.2058e-10j,\n",
       "         7.5105e-11-1.0987e-10j, -4.3485e-11+1.1759e-10j,\n",
       "        -1.5604e-10-1.2171e-11j,  6.0452e-11+1.1910e-10j,\n",
       "         1.2170e-10-6.9171e-11j, -1.4658e-10-5.3078e-11j,\n",
       "        -1.3976e-10+5.1425e-11j,  1.1034e-10+8.1506e-11j,\n",
       "        -8.8288e-11+9.3859e-11j,  1.2905e-10-5.0733e-11j,\n",
       "        -5.2359e-11-1.2221e-10j,  1.3791e-10+4.4118e-11j,\n",
       "        -3.7246e-12-1.2641e-10j,  1.3981e-10+2.0823e-11j,\n",
       "         5.3851e-11+1.1145e-10j, -1.4305e-10+2.0455e-11j,\n",
       "         1.3667e-10-1.0096e-11j, -1.0930e-10-9.1856e-11j,\n",
       "        -1.2037e-10+5.9483e-11j,  7.9672e-11+9.3264e-11j,\n",
       "         1.3023e-10-2.8210e-11j, -2.7118e-11-1.1859e-10j,\n",
       "         1.6208e-11-1.0846e-10j, -1.0837e-10-8.2240e-11j,\n",
       "         1.2171e-10+4.6263e-11j, -1.1955e-10-5.5431e-11j,\n",
       "        -8.3248e-11-8.7714e-11j, -1.0651e-10-5.6957e-11j,\n",
       "        -7.9697e-11-8.2469e-11j, -1.0245e-10+7.0633e-11j,\n",
       "         1.1763e-10-6.1779e-12j,  1.1872e-10+2.0339e-11j,\n",
       "        -1.1800e-10-3.7438e-11j, -1.1814e-10+2.4010e-11j,\n",
       "        -3.1986e-11-1.1691e-10j,  1.0384e-10+5.8131e-11j,\n",
       "         1.0718e-10-5.3432e-11j,  8.1025e-11-8.0922e-11j,\n",
       "         6.5248e-11-9.1818e-11j, -2.9585e-11+1.0289e-10j,\n",
       "        -5.9495e-11+9.2512e-11j,  1.0462e-10-3.4624e-11j,\n",
       "         4.0943e-11-9.5059e-11j, -7.8201e-11+7.8214e-11j,\n",
       "         9.5493e-11-4.8963e-11j, -4.2404e-11-8.8827e-11j,\n",
       "         2.9220e-11-9.4547e-11j, -9.7204e-11+5.3908e-11j,\n",
       "        -1.0956e-10-2.5510e-11j,  6.5464e-11+8.5237e-11j,\n",
       "         4.7467e-11+9.4767e-11j, -8.8172e-11-5.9440e-11j,\n",
       "        -7.0676e-11+7.3885e-11j,  2.6112e-11+1.0080e-10j,\n",
       "         9.9858e-12-9.2975e-11j, -1.1016e-10-1.0194e-11j,\n",
       "         1.0276e-10-1.6632e-11j,  7.1932e-11+7.2546e-11j,\n",
       "         5.4497e-11-7.8902e-11j, -7.7061e-11-6.0806e-11j,\n",
       "         4.9228e-11+8.0127e-11j,  1.6348e-11+8.9330e-11j,\n",
       "        -8.5136e-11-4.5817e-11j, -1.0024e-10+7.5749e-12j,\n",
       "        -4.8954e-11+7.7663e-11j, -9.5076e-11+2.4227e-11j,\n",
       "         8.3458e-11+3.9938e-11j,  3.2949e-13+8.9879e-11j,\n",
       "        -9.9025e-11-9.9347e-12j,  6.9711e-11-5.8602e-11j,\n",
       "        -6.9534e-11+6.0195e-11j,  8.6633e-11+2.2391e-11j,\n",
       "        -8.4839e-11+3.8632e-11j, -2.1710e-11-8.1231e-11j,\n",
       "         5.9821e-11+6.3434e-11j,  5.9226e-11-6.5218e-11j,\n",
       "         8.8200e-11-6.1623e-12j,  7.3181e-11+5.0651e-11j,\n",
       "         8.4014e-11-2.2249e-11j, -1.9893e-11+7.9385e-11j,\n",
       "         4.4387e-12-7.8961e-11j,  3.1278e-11-7.4536e-11j,\n",
       "         7.2456e-11-4.1852e-11j,  8.5297e-11+1.1087e-11j,\n",
       "        -8.0365e-11+2.4900e-11j, -3.5260e-11-7.2095e-11j,\n",
       "        -5.7396e-11-5.7403e-11j, -8.3520e-11-1.3324e-13j,\n",
       "        -1.6614e-12+7.6665e-11j,  8.1239e-11+1.3546e-11j,\n",
       "        -7.4336e-11-3.5974e-11j, -5.0592e-11+6.0055e-11j,\n",
       "        -8.1588e-11-1.3143e-11j,  6.1588e-11-4.9369e-11j,\n",
       "         6.9844e-11+3.4469e-11j,  1.6702e-11+7.1662e-11j,\n",
       "         7.0419e-11-3.2425e-11j, -4.5641e-11-5.9283e-11j,\n",
       "        -2.2717e-11+7.0083e-11j, -4.9447e-12-7.1196e-11j,\n",
       "        -7.7116e-11-7.3543e-12j, -6.0437e-11+3.8157e-11j,\n",
       "         4.7315e-11+5.1097e-11j,  7.0957e-11-1.2711e-11j,\n",
       "         4.9521e-11-4.8077e-11j, -3.5743e-11-5.7934e-11j,\n",
       "         2.4075e-11+6.1825e-11j,  5.6610e-11+3.5071e-11j,\n",
       "        -6.4610e-11-2.2649e-11j,  6.6715e-11-9.8238e-12j,\n",
       "         3.2186e-11+5.4845e-11j, -4.6272e-11-4.3966e-11j,\n",
       "        -1.7703e-11-5.7709e-11j,  2.6983e-11-5.5100e-11j,\n",
       "        -6.2240e-11-1.3263e-12j, -4.0811e-11+4.5914e-11j,\n",
       "        -5.7450e-11+2.2864e-11j, -2.9441e-11+5.2364e-11j,\n",
       "        -5.4751e-11-2.4214e-11j,  5.8995e-11+1.9699e-11j,\n",
       "         1.6758e-11-5.3069e-11j, -5.6246e-11-1.5188e-11j,\n",
       "         2.4578e-11+5.0386e-11j, -9.5855e-13-5.3040e-11j,\n",
       "         2.5326e-11-4.7597e-11j, -1.9926e-11+5.0439e-11j,\n",
       "        -4.3850e-11+3.4177e-11j,  4.0894e-11+3.4778e-11j,\n",
       "        -5.3442e-11+4.3709e-12j, -1.4880e-11+4.9136e-11j,\n",
       "         4.9145e-11-1.6408e-11j,  5.1449e-12+4.8164e-11j,\n",
       "         4.0109e-11-2.5307e-11j,  4.7532e-11+1.4928e-11j,\n",
       "        -6.8722e-13-4.6357e-11j, -3.0247e-11-3.5003e-11j,\n",
       "        -4.3904e-11+1.5604e-11j, -3.1376e-11+3.2148e-11j,\n",
       "         4.0005e-11+2.1962e-11j,  4.6378e-11+1.1178e-11j,\n",
       "         1.3353e-12+4.4764e-11j,  1.8316e-11-3.9427e-11j,\n",
       "         3.9934e-11-1.9851e-11j, -4.1102e-11-1.7969e-11j,\n",
       "         2.3166e-11-3.5144e-11j, -4.1193e-11+1.2445e-11j,\n",
       "         4.0545e-11+1.3888e-11j, -1.1613e-11+3.9412e-11j,\n",
       "         4.1881e-11-3.9522e-12j, -3.6645e-11-1.8115e-11j,\n",
       "         3.8205e-11-1.3583e-11j, -2.0326e-11+3.4015e-11j,\n",
       "         1.8636e-11+3.1449e-11j, -2.1446e-11-2.9526e-11j,\n",
       "        -1.3242e-11-3.2903e-11j,  2.7728e-11-2.3271e-11j,\n",
       "        -2.4698e-11+2.5677e-11j,  7.0678e-12-3.1992e-11j,\n",
       "         7.2303e-12+3.2419e-11j,  3.0925e-11+1.1408e-11j,\n",
       "        -3.4370e-11-2.7841e-12j,  2.5487e-11-1.9608e-11j,\n",
       "         1.7753e-11+2.4860e-11j, -2.9837e-11+1.3909e-11j,\n",
       "        -3.1774e-11-9.4707e-12j, -3.5878e-12-2.9504e-11j,\n",
       "         2.6301e-11+1.1967e-11j,  2.8409e-11-3.0460e-12j,\n",
       "         7.6943e-12+2.5082e-11j, -8.5904e-12-2.5050e-11j,\n",
       "         2.8729e-12+2.4280e-11j, -1.1737e-11+1.9270e-11j,\n",
       "        -2.1205e-11-1.3207e-11j, -1.5124e-11-1.9681e-11j,\n",
       "        -2.1299e-12-2.3183e-11j, -2.2759e-11+6.5916e-12j,\n",
       "         1.7333e-11+1.3113e-11j, -1.4170e-11+1.6649e-11j,\n",
       "        -2.0490e-11+9.3070e-12j,  1.9075e-11-1.1914e-11j,\n",
       "         1.8727e-11+2.9279e-12j, -1.6724e-11-1.2074e-11j,\n",
       "        -1.3669e-11+1.5558e-11j, -2.1312e-11+2.4736e-12j,\n",
       "         1.1519e-11+1.4422e-11j,  1.4273e-11-1.0808e-11j,\n",
       "        -1.1248e-11-1.4794e-11j, -1.2448e-11-9.6890e-12j,\n",
       "         9.8650e-12-1.1053e-11j,  1.4606e-11-1.9052e-12j,\n",
       "         1.2581e-11+5.8848e-12j, -1.4832e-11-3.8272e-12j,\n",
       "         4.8260e-12+1.2385e-11j,  1.3285e-11-4.8545e-12j,\n",
       "         4.0395e-12-1.1433e-11j, -7.3973e-12+8.8873e-12j,\n",
       "        -9.7644e-12+6.4497e-12j, -1.1875e-11-4.0665e-13j,\n",
       "        -3.2274e-12-9.6935e-12j,  1.0211e-12-1.0457e-11j,\n",
       "         7.0472e-13+9.2364e-12j,  7.0000e-12+2.1894e-12j,\n",
       "         4.2214e-12-7.1410e-12j, -5.2608e-12+5.9842e-12j,\n",
       "         1.6830e-12+5.6447e-12j, -5.8611e-12-2.7450e-12j,\n",
       "        -3.4711e-12-4.9177e-12j,  4.7260e-12-3.6038e-13j,\n",
       "        -4.4425e-12+2.1187e-12j, -5.5753e-13+4.3998e-12j,\n",
       "        -8.0299e-13+1.7328e-12j,  2.2951e-12+9.2149e-13j,\n",
       "         2.1808e-12+5.7340e-13j,  1.1668e-12-2.6916e-12j,\n",
       "        -1.4558e-12-6.2434e-13j,  3.2654e-13-1.8011e-12j,\n",
       "        -7.7198e-13+7.5348e-14j, -7.5021e-15-3.1949e-13j])"
      ]
     },
     "execution_count": 116,
     "metadata": {},
     "output_type": "execute_result"
    }
   ],
   "source": [
    "row = matrix[0,:]\n",
    "res = torch.einsum('i,j->ij',row,row.conj())\n",
    "L, V = torch.linalg.eig(res)\n",
    "L"
   ]
  }
 ],
 "metadata": {
  "kernelspec": {
   "display_name": "deepinv",
   "language": "python",
   "name": "python3"
  },
  "language_info": {
   "codemirror_mode": {
    "name": "ipython",
    "version": 3
   },
   "file_extension": ".py",
   "mimetype": "text/x-python",
   "name": "python",
   "nbconvert_exporter": "python",
   "pygments_lexer": "ipython3",
   "version": "3.9.18"
  }
 },
 "nbformat": 4,
 "nbformat_minor": 2
}
