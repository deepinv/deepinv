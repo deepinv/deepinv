{
 "cells": [
  {
   "cell_type": "code",
   "execution_count": 1,
   "metadata": {},
   "outputs": [],
   "source": [
    "import sys\n",
    "sys.path.append(\"/home/ubuntu/workspaces/deepinv/\")"
   ]
  },
  {
   "cell_type": "code",
   "execution_count": 2,
   "metadata": {},
   "outputs": [],
   "source": [
    "import deepinv as dinv\n",
    "from pathlib import Path\n",
    "import torch\n",
    "import numpy as np\n",
    "from tqdm import tqdm\n",
    "import matplotlib.pyplot as plt\n",
    "import time\n",
    "\n",
    "from deepinv.models import DRUNet\n",
    "from deepinv.optim.data_fidelity import L2\n",
    "from deepinv.optim.prior import PnP\n",
    "from deepinv.optim.optimizers import optim_builder\n",
    "from deepinv.utils.demo import load_url_image, get_image_url\n",
    "from deepinv.utils.plotting import plot\n",
    "from deepinv.optim.phase_retrieval import correct_global_phase, cosine_similarity\n",
    "from deepinv.models.complex import to_complex_denoiser"
   ]
  },
  {
   "cell_type": "code",
   "execution_count": 3,
   "metadata": {},
   "outputs": [
    {
     "name": "stdout",
     "output_type": "stream",
     "text": [
      "Selected GPU 0 with 11629 MB free memory \n"
     ]
    },
    {
     "data": {
      "text/plain": [
       "device(type='cuda', index=0)"
      ]
     },
     "execution_count": 3,
     "metadata": {},
     "output_type": "execute_result"
    }
   ],
   "source": [
    "BASE_DIR = Path(\".\")\n",
    "DATA_DIR = BASE_DIR / \"data\"\n",
    "\n",
    "device = dinv.utils.get_freer_gpu() if torch.cuda.is_available() else \"cpu\"\n",
    "device"
   ]
  },
  {
   "cell_type": "code",
   "execution_count": 4,
   "metadata": {},
   "outputs": [
    {
     "data": {
      "image/png": "[encoded data removed]",
      "text/plain": [
       "<Figure size 200x200 with 1 Axes>"
      ]
     },
     "metadata": {},
     "output_type": "display_data"
    }
   ],
   "source": [
    "# Set up the variable to fetch dataset and operators.\n",
    "img_size = 50\n",
    "url = get_image_url(\"SheppLogan.png\")\n",
    "x = load_url_image(\n",
    "    url=url, img_size=img_size, grayscale=True, resize_mode=\"resize\", device=device\n",
    ")\n",
    "\n",
    "plot(x, titles=\"Original image\")"
   ]
  },
  {
   "cell_type": "code",
   "execution_count": 5,
   "metadata": {},
   "outputs": [],
   "source": [
    "# We use the original image as the phase information for the complex signal.\n",
    "# The phase is computed as 2*pi*x - pi, where x is the original image.\n",
    "x_phase = torch.exp(1j*x*torch.pi - 0.5j*torch.pi)\n",
    "\n",
    "# Every element of the signal should have unit norm.\n",
    "assert torch.allclose(x_phase.real**2 + x_phase.imag**2, torch.tensor(1.0))"
   ]
  },
  {
   "cell_type": "code",
   "execution_count": 6,
   "metadata": {},
   "outputs": [
    {
     "name": "stdout",
     "output_type": "stream",
     "text": [
      "cuda:0\n",
      "cuda:0\n",
      "Time to create physics object:  10.349229335784912\n",
      "Time to create data:  0.2836461067199707\n"
     ]
    }
   ],
   "source": [
    "time1 = time.time()\n",
    "physics = dinv.physics.RandomPhaseRetrieval(\n",
    "                m=12500,\n",
    "                img_shape=(1,50,50),\n",
    "                noise_model=dinv.physics.GaussianNoise(sigma=0.05),\n",
    "                device=device,\n",
    "            )\n",
    "time2 = time.time()\n",
    "print(x_phase.device)\n",
    "print(physics.device)\n",
    "\n",
    "y = physics(x_phase)\n",
    "time3 = time.time()\n",
    "print(\"Time to create physics object: \", time2-time1)\n",
    "print(\"Time to create data: \", time3-time2)"
   ]
  },
  {
   "cell_type": "code",
   "execution_count": 7,
   "metadata": {},
   "outputs": [
    {
     "name": "stdout",
     "output_type": "stream",
     "text": [
      "Selected GPU 0 with 10173 MB free memory \n",
      "Time to create A:  0.0005650520324707031\n",
      "Time to compute A_dagger:  0.36705732345581055\n"
     ]
    }
   ],
   "source": [
    "device = dinv.utils.get_freer_gpu() if torch.cuda.is_available() else \"cpu\"\n",
    "\n",
    "time1 = time.time()\n",
    "\n",
    "A = torch.randn((1000, 1000), device=device, dtype=torch.float) / np.sqrt(1000000)\n",
    "\n",
    "time2 = time.time()\n",
    "\n",
    "A_dagger = torch.linalg.pinv(A)\n",
    "\n",
    "time3 = time.time()\n",
    "\n",
    "print(\"Time to create A: \", time2-time1)\n",
    "print(\"Time to compute A_dagger: \", time3-time2)"
   ]
  }
 ],
 "metadata": {
  "kernelspec": {
   "display_name": "deepinv",
   "language": "python",
   "name": "python3"
  },
  "language_info": {
   "codemirror_mode": {
    "name": "ipython",
    "version": 3
   },
   "file_extension": ".py",
   "mimetype": "text/x-python",
   "name": "python",
   "nbconvert_exporter": "python",
   "pygments_lexer": "ipython3",
   "version": "3.9.19"
  }
 },
 "nbformat": 4,
 "nbformat_minor": 2
}
